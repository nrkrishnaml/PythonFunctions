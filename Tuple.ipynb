{
 "cells": [
  {
   "cell_type": "code",
   "execution_count": 4,
   "id": "6d5838f4-58dd-4e92-b13a-def23e3296af",
   "metadata": {},
   "outputs": [
    {
     "name": "stdout",
     "output_type": "stream",
     "text": [
      "Tuple elements are: (1, 2, 3, 4, 5)\n"
     ]
    }
   ],
   "source": [
    "#1. Create a tuple with integers from 1 to 5.\n",
    "\n",
    "#defining empty list\n",
    "l=[]\n",
    "#generating numbers\n",
    "for i in range(5):\n",
    "    i = i + 1\n",
    "    l.append(i)\n",
    "    #converting from list to tuple\n",
    "t = tuple(l)\n",
    "print(\"Tuple elements are:\",t)\n",
    "\n"
   ]
  },
  {
   "cell_type": "code",
   "execution_count": 13,
   "id": "2328e4c7-5727-42c7-9ae0-466788f65cee",
   "metadata": {},
   "outputs": [
    {
     "name": "stdout",
     "output_type": "stream",
     "text": [
      "Third element of tuple is 4\n"
     ]
    }
   ],
   "source": [
    "#2. Access the third element of a tuple.\n",
    "\n",
    "t =(1,2,3,4,5,6)\n",
    "\n",
    "#Accessing the third element of a tuple using index\n",
    "print(\"Third element of tuple is\",t[3])"
   ]
  },
  {
   "cell_type": "code",
   "execution_count": 4,
   "id": "7ae24bb2-de71-42cb-879d-47c5dc14e448",
   "metadata": {},
   "outputs": [
    {
     "name": "stdout",
     "output_type": "stream",
     "text": [
      "Number of elements i tuple are 9\n"
     ]
    }
   ],
   "source": [
    "#3.Find the length of a tuple without using the `len()` function.\n",
    "\n",
    "t = (56,78,91,32,54,43,65,76,87)\n",
    "\n",
    "#Initializing count variable to '0',\n",
    "count = 0\n",
    "\n",
    "#Iterating all elements in tuple,\n",
    "for i in t:\n",
    "    \n",
    "    #Incrementing value of count for each itearation.\n",
    "    count += 1\n",
    "    \n",
    "print(\"Number of elements i tuple are\",count)\n"
   ]
  },
  {
   "cell_type": "code",
   "execution_count": 5,
   "id": "53c10bc9-ad15-480d-b341-424af9ef68bb",
   "metadata": {},
   "outputs": [
    {
     "name": "stdout",
     "output_type": "stream",
     "text": [
      "the occurrences of an element in a tuple 4\n"
     ]
    }
   ],
   "source": [
    "#4. Count the occurrences of an element in a tuple.\n",
    "\n",
    "t = (1,2,3,4,5,3,2,3,3)\n",
    "\n",
    "e = t.count(3)\n",
    "print(\"the occurrences of an element in a tuple\",e)"
   ]
  },
  {
   "cell_type": "code",
   "execution_count": 3,
   "id": "cd6e8c02-e6e9-46ff-aee1-c799d56c6553",
   "metadata": {},
   "outputs": [
    {
     "name": "stdout",
     "output_type": "stream",
     "text": [
      "index of the first occurrence of an element in a tuple 3\n"
     ]
    }
   ],
   "source": [
    "#5. Find the index of the first occurrence of an element in a tuple.\n",
    "\n",
    "t = (1, 3, 7, 8, 7, 5, 4, 6, 8, 5)\n",
    "\n",
    "#using index function to find first occurence\n",
    "f = t.index(8)\n",
    "print(\"index of the first occurrence of an element in a tuple\",f)"
   ]
  },
  {
   "cell_type": "code",
   "execution_count": 6,
   "id": "9b71385b-6d85-4eef-8c4c-f66f1f1c3b7c",
   "metadata": {},
   "outputs": [
    {
     "name": "stdin",
     "output_type": "stream",
     "text": [
      "Enter the number 7\n"
     ]
    },
    {
     "name": "stdout",
     "output_type": "stream",
     "text": [
      "Number exists in tuple\n"
     ]
    }
   ],
   "source": [
    "#6. Check if an element exists in a tuple.\n",
    "\n",
    "t = (1, 3, 7, 8, 7, 5, 4, 6, 8, 5)\n",
    "\n",
    "#asking user to enter a number\n",
    "n = int(input(\"Enter the number\"))\n",
    "\n",
    "#checking if number exist in tuple\n",
    "if n in t:\n",
    "    print(\"Number exists in tuple\")\n",
    "else:\n",
    "    print(\"Number does not exists in tuple\")"
   ]
  },
  {
   "cell_type": "code",
   "execution_count": 7,
   "id": "d5263c81-25fc-4118-8ed4-fe48bb24cb3c",
   "metadata": {},
   "outputs": [
    {
     "name": "stdout",
     "output_type": "stream",
     "text": [
      "list converted from tuple is  [1, 3, 7, 8, 7, 5, 4, 6, 8, 5]\n"
     ]
    }
   ],
   "source": [
    "#7. Convert a tuple to a list.\n",
    "\n",
    "t = (1, 3, 7, 8, 7, 5, 4, 6, 8, 5)\n",
    "\n",
    "#converting tuple to list using typecasting \n",
    "my_list = list(t)\n",
    "\n",
    "print(\"list converted from tuple is \",my_list)"
   ]
  },
  {
   "cell_type": "code",
   "execution_count": 8,
   "id": "27dc6a08-e239-4b1b-bbeb-f26833b7ec00",
   "metadata": {},
   "outputs": [
    {
     "name": "stdout",
     "output_type": "stream",
     "text": [
      "Tuple value are (1, 3, 7, 8, 7, 5, 4, 6, 8, 5)\n"
     ]
    }
   ],
   "source": [
    "#8. Convert a list to a tuple.\n",
    "\n",
    "l = [1, 3, 7, 8, 7, 5, 4, 6, 8, 5]\n",
    "\n",
    "#converting list to tuple \n",
    "t= tuple(l)\n",
    "print(\"Tuple value are\",t)"
   ]
  },
  {
   "cell_type": "code",
   "execution_count": 9,
   "id": "5d0fd254-d1b4-4b35-b6a1-570f763bb02f",
   "metadata": {},
   "outputs": [
    {
     "name": "stdout",
     "output_type": "stream",
     "text": [
      "data science\n",
      "bigdata\n",
      "Power BI\n"
     ]
    }
   ],
   "source": [
    "#9. Unpack the elements of a tuple into variables.\n",
    "\n",
    "#Packing values of tuples into a variable\n",
    "t= ('data science','bigdata','Power BI')\n",
    "\n",
    "#unpacking values of tuple into variables\n",
    "(course1,course2,course3) = t\n",
    "\n",
    "#printing course1\n",
    "print(course1)\n",
    "\n",
    "#printing course2\n",
    "print(course2)\n",
    "\n",
    "#printing course3\n",
    "print(course3)"
   ]
  },
  {
   "cell_type": "code",
   "execution_count": 10,
   "id": "4e3f2e54-f0bb-4814-a684-ca00a7604c02",
   "metadata": {},
   "outputs": [
    {
     "name": "stdout",
     "output_type": "stream",
     "text": [
      "tuple with even numbers is  (2, 4, 6, 8, 10)\n"
     ]
    }
   ],
   "source": [
    "#10. Create a tuple of even numbers from 1 to 10.\n",
    "\n",
    "t =(1,2,3,4,5,6,7,8,9,10)\n",
    "\n",
    "#converting tuple to list\n",
    "l=list(t)\n",
    "\n",
    "#declaring empty list to store even values\n",
    "l1 =[]\n",
    "\n",
    "for i in l:\n",
    "    \n",
    "    #if number is divisible by 2 then add the value to list\n",
    "    if i%2 == 0:\n",
    "        l1.append(i)\n",
    "\n",
    "#converting list to tuple\n",
    "t = tuple(l1)\n",
    "\n",
    "print(\"tuple with even numbers is \",t)"
   ]
  },
  {
   "cell_type": "code",
   "execution_count": 11,
   "id": "e8c9c733-3a6f-4058-bf8b-92cee5f11168",
   "metadata": {},
   "outputs": [
    {
     "name": "stdout",
     "output_type": "stream",
     "text": [
      "tuple with odd numbers is  (1, 3, 5, 7, 9)\n"
     ]
    }
   ],
   "source": [
    "#11. Create a tuple of odd numbers from 1 to 10.\n",
    "\n",
    "t =(1,2,3,4,5,6,7,8,9,10)\n",
    "\n",
    "#converting tuple to list\n",
    "l=list(t)\n",
    "\n",
    "#declaring empty list to store odd values\n",
    "l1 =[]\n",
    "\n",
    "for i in l:\n",
    "    \n",
    "    #if number is not divisible by 2 then add the value to list\n",
    "    if i%2 != 0:\n",
    "        l1.append(i)\n",
    "\n",
    "#converting list to tuple\n",
    "t = tuple(l1)\n",
    "\n",
    "print(\"tuple with odd numbers is \",t)"
   ]
  },
  {
   "cell_type": "code",
   "execution_count": 12,
   "id": "35c92b0c-3642-4b9e-a724-8927c92c3719",
   "metadata": {},
   "outputs": [
    {
     "name": "stdout",
     "output_type": "stream",
     "text": [
      "Result of concatenating of two tuple ('Tuple', 'with', 'odd', 'numbers')\n"
     ]
    }
   ],
   "source": [
    "#12. Concatenate two tuples\n",
    "\n",
    "#Declaring tuple1\n",
    "t = ('Tuple','with','odd')\n",
    "\n",
    "#Declaring tuple1\n",
    "t1 = ('numbers',)\n",
    "\n",
    "#Concatenate two tuples\n",
    "t2 = t + t1\n",
    "\n",
    "print(\"Result of concatenating of two tuple\",t2)"
   ]
  },
  {
   "cell_type": "code",
   "execution_count": 13,
   "id": "96acbdf9-1a88-430e-b4ee-76cb48a64ac7",
   "metadata": {},
   "outputs": [
    {
     "name": "stdout",
     "output_type": "stream",
     "text": [
      "Original tuple vaues are: (2, 4, 5)\n",
      "Tuple values after repeating it for 3 times (2, 4, 5, 2, 4, 5, 2, 4, 5)\n"
     ]
    }
   ],
   "source": [
    "#13. Repeat a tuple three times.\n",
    "\n",
    "t = (2,4,5)\n",
    "\n",
    "#Printing original data\n",
    "print(\"Original tuple vaues are:\",t)\n",
    "\n",
    "#Repeating tuple 3 toimes with * operator\n",
    "t1 = t * 3\n",
    "\n",
    "print(\"Tuple values after repeating it for 3 times\",t1)"
   ]
  },
  {
   "cell_type": "code",
   "execution_count": 14,
   "id": "74f731b2-b70c-4d88-8d33-9efb8fee74ee",
   "metadata": {},
   "outputs": [
    {
     "name": "stdout",
     "output_type": "stream",
     "text": [
      "Tuple is empty\n"
     ]
    }
   ],
   "source": [
    "#14. Check if a tuple is empty.\n",
    "\n",
    "t = ()\n",
    "\n",
    "# checking length of tuple \n",
    "if len(t) == 0:\n",
    "    print(\"Tuple is empty\")\n",
    "else:\n",
    "    print(\"Tuple is not empty\")"
   ]
  },
  {
   "cell_type": "code",
   "execution_count": 15,
   "id": "08c9d277-18a3-402f-8b59-8109c0f44abc",
   "metadata": {},
   "outputs": [
    {
     "name": "stdout",
     "output_type": "stream",
     "text": [
      "Tuple 1 values are (1, 2)\n",
      "Tuple 2 values are (5, 6)\n",
      "Concatenated tuple is ((1, 2), (5, 6))\n"
     ]
    }
   ],
   "source": [
    "#15. Create a nested tuple.\n",
    "\n",
    "#declaring tuple t1\n",
    "t1 = (1,2)\n",
    "\n",
    "##declaring tuple t2\n",
    "t2 = (5,6)\n",
    "\n",
    "print(\"Tuple 1 values are\",t1)\n",
    "\n",
    "print(\"Tuple 2 values are\",t2)\n",
    "\n",
    "#concatenating two tuples to create a nested tuple\n",
    "t = (t1,)+(t2,)\n",
    "\n",
    "print(\"Concatenated tuple is\",t)"
   ]
  },
  {
   "cell_type": "code",
   "execution_count": 16,
   "id": "513d0d51-65b5-4775-b810-7f1d56fa42d3",
   "metadata": {},
   "outputs": [
    {
     "name": "stdout",
     "output_type": "stream",
     "text": [
      "First element of a nested tuple is (1, 2)\n"
     ]
    }
   ],
   "source": [
    "#16. Access the first element of a nested tuple.\n",
    "\n",
    "#creating a nested tuple\n",
    "t = ((1, 2), (5, 6),('abc','fgh'))\n",
    "\n",
    "#Retreiving first element in nested tuple by using index\n",
    "\n",
    "print(\"First element of a nested tuple is\",t[0])"
   ]
  },
  {
   "cell_type": "code",
   "execution_count": 17,
   "id": "66ae457b-ad63-4dff-8fea-0a5135c31eed",
   "metadata": {},
   "outputs": [
    {
     "name": "stdout",
     "output_type": "stream",
     "text": [
      "Tuple with single element is ('Tuple',)\n"
     ]
    }
   ],
   "source": [
    "#17. Create a tuple with a single element.\n",
    "\n",
    "#Creating a tuple with a single element.\n",
    "t = ('Tuple',)\n",
    "\n",
    "#Tuple with single element \n",
    "print(\"Tuple with single element is\",t)"
   ]
  },
  {
   "cell_type": "code",
   "execution_count": 19,
   "id": "363e2de2-7e19-40df-8893-0b3c2e5d89ba",
   "metadata": {},
   "outputs": [
    {
     "name": "stdout",
     "output_type": "stream",
     "text": [
      "tuple2 values are greater than tuple1\n"
     ]
    }
   ],
   "source": [
    "#18.Compare two tuples.\n",
    "\n",
    "#First tuple elements \n",
    "t1 = (10,20,30)\n",
    "\n",
    "#Second tuple elements\n",
    "t2 = (12,23,14)\n",
    "\n",
    "#comparing two tuples\n",
    "if t1 > t2:\n",
    "    print(\"tuple1 values are greater than tuple2\")\n",
    "\n",
    "else:\n",
    "    print(\"tuple2 values are greater than tuple1\")"
   ]
  },
  {
   "cell_type": "code",
   "execution_count": 20,
   "id": "7a39cb05-4669-4e8f-88fb-175ad9914adb",
   "metadata": {},
   "outputs": [
    {
     "ename": "NameError",
     "evalue": "name 't' is not defined",
     "output_type": "error",
     "traceback": [
      "\u001b[0;31m---------------------------------------------------------------------------\u001b[0m",
      "\u001b[0;31mNameError\u001b[0m                                 Traceback (most recent call last)",
      "Cell \u001b[0;32mIn[20], line 10\u001b[0m\n\u001b[1;32m      7\u001b[0m \u001b[38;5;28;01mdel\u001b[39;00m t\n\u001b[1;32m      9\u001b[0m \u001b[38;5;66;03m#trying to print values in tuple(it throws error as tuple is deleted)\u001b[39;00m\n\u001b[0;32m---> 10\u001b[0m \u001b[38;5;28mprint\u001b[39m(\u001b[43mt\u001b[49m)\n",
      "\u001b[0;31mNameError\u001b[0m: name 't' is not defined"
     ]
    }
   ],
   "source": [
    "#19. Delete a tuple.\n",
    "\n",
    "#created tuple \n",
    "t = (3,4,5)\n",
    "\n",
    "#using del keyword to delete tuple values\n",
    "del t\n",
    "\n",
    "#trying to print values in tuple(it throws error as tuple is deleted)\n",
    "print(t)"
   ]
  },
  {
   "cell_type": "code",
   "execution_count": 21,
   "id": "329dd778-8e1b-420b-b27f-ab8c4fab2be9",
   "metadata": {},
   "outputs": [
    {
     "name": "stdout",
     "output_type": "stream",
     "text": [
      "Sliced values of tuple are (5, 2, 4)\n"
     ]
    }
   ],
   "source": [
    "#20. Slice a tuple.\n",
    "\n",
    "t = (2, 4, 5, 2, 4, 5, 2, 4, 5)\n",
    "\n",
    "#Using slice function to slice a tuple from index 2,5\n",
    "s = slice(2,5)\n",
    "\n",
    "print(\"Sliced values of tuple are\",t[s])"
   ]
  },
  {
   "cell_type": "code",
   "execution_count": 22,
   "id": "45d34411-3d01-44a8-add2-51164e445e70",
   "metadata": {},
   "outputs": [
    {
     "name": "stdout",
     "output_type": "stream",
     "text": [
      "Maximum value in tuple is 9\n"
     ]
    }
   ],
   "source": [
    "#21. Find the maximum value in a tuple.\n",
    "\n",
    "t = (3,5,4,8,9)\n",
    "\n",
    "#Printing maximum value in tuple by using Max() function\n",
    "print(\"Maximum value in tuple is\",max(t))"
   ]
  },
  {
   "cell_type": "code",
   "execution_count": 23,
   "id": "681ca87b-0081-4ecf-88d6-84540f169235",
   "metadata": {},
   "outputs": [
    {
     "name": "stdout",
     "output_type": "stream",
     "text": [
      "Minimum value in tuple is 3\n"
     ]
    }
   ],
   "source": [
    "#22. Find the minimum value in a tuple.\n",
    "\n",
    "t = (3,5,4,8,9)\n",
    "\n",
    "#Printing minimum value in tuple by using Min() function\n",
    "print(\"Minimum value in tuple is\",min(t))"
   ]
  },
  {
   "cell_type": "code",
   "execution_count": 24,
   "id": "ea7e001a-30b7-4d28-b1f2-66e830aa1526",
   "metadata": {},
   "outputs": [
    {
     "name": "stdout",
     "output_type": "stream",
     "text": [
      "Tuple values converted from string are ('L', 'o', 'v', 'e', ' ', 'Y', 'o', 'u', 'r', 's', 'e', 'l', 'f')\n"
     ]
    }
   ],
   "source": [
    "#23. Convert a string to a tuple of characters.\n",
    "\n",
    "#Create a String\n",
    "str1 = \"Love Yourself\"\n",
    "\n",
    "#Converting string to tuple \n",
    "t = tuple(str1)\n",
    "\n",
    "#printing tuple values\n",
    "print(\"Tuple values converted from string are\",t)"
   ]
  },
  {
   "cell_type": "code",
   "execution_count": 25,
   "id": "9456ce2f-7061-42e7-bf38-4833797d0d48",
   "metadata": {},
   "outputs": [
    {
     "name": "stdout",
     "output_type": "stream",
     "text": [
      "String formed by tuple values is  Love Yourself\n"
     ]
    }
   ],
   "source": [
    "#24. Convert a tuple of characters to a string.\n",
    "\n",
    "#create a tuple\n",
    "t = ('L', 'o', 'v', 'e', ' ', 'Y', 'o', 'u', 'r', 's', 'e', 'l', 'f') \n",
    "\n",
    "#converting tuple to string\n",
    "str1 = \"\".join(t)\n",
    "\n",
    "#printing String values\n",
    "print(\"String formed by tuple values is \",str1)"
   ]
  },
  {
   "cell_type": "code",
   "execution_count": 26,
   "id": "f4106cc5-cfe7-4bd4-8cc6-4b2bb938355a",
   "metadata": {},
   "outputs": [
    {
     "name": "stdout",
     "output_type": "stream",
     "text": [
      "Tuple with multiple data types (1, 2, 'Work', 'data', 91.9)\n"
     ]
    }
   ],
   "source": [
    "#25. Create a tuple from multiple data types.\n",
    "\n",
    "#creating a tuple with multiple data types\n",
    "t = (1,2,'Work','data',91.9)\n",
    "\n",
    "#Printing tuple values\n",
    "print(\"Tuple with multiple data types\",t)"
   ]
  },
  {
   "cell_type": "code",
   "execution_count": 27,
   "id": "32a14406-9f03-407c-9f33-27c3d8c898fe",
   "metadata": {},
   "outputs": [
    {
     "name": "stdout",
     "output_type": "stream",
     "text": [
      "Both the tuples are not identical\n"
     ]
    }
   ],
   "source": [
    "#26. Check if two tuples are identical.\n",
    "\n",
    "#declaring two tuples\n",
    "t1 =(1,2,3,4,5)\n",
    "\n",
    "t2 =(6,7,8,9,10)\n",
    "\n",
    "#checking both the tuples have same data\n",
    "if t1 == t2:\n",
    "    print(\"Both the tuples are identical\")\n",
    "else:\n",
    "     print(\"Both the tuples are not identical\")"
   ]
  },
  {
   "cell_type": "code",
   "execution_count": 28,
   "id": "a8cb92f9-51f9-4c6c-b4fe-1ae94b194fcc",
   "metadata": {},
   "outputs": [
    {
     "name": "stdout",
     "output_type": "stream",
     "text": [
      "Original tuple values are (2, 12, 6, 23, 4, 45, 67, 78, 56, 89)\n",
      "Sorted tuple values are (2, 4, 6, 12, 23, 45, 56, 67, 78, 89)\n"
     ]
    }
   ],
   "source": [
    "#27.Sort the elements of a tuple.\n",
    "\n",
    "#creating tuple\n",
    "tup = (2,12,6,23,4,45,67,78,56,89)\n",
    "\n",
    "#printing original tuple\n",
    "print(\"Original tuple values are\",tup)\n",
    "\n",
    "#converting tuple to list\n",
    "my_list = list(tup)\n",
    "\n",
    "#sorting list elemnets\n",
    "my_list.sort()\n",
    "\n",
    "#converting back again to tuple \n",
    "tup = tuple(my_list)\n",
    "\n",
    "#Printing sorted tuple values\n",
    "print(\"Sorted tuple values are\",tup)"
   ]
  },
  {
   "cell_type": "code",
   "execution_count": 29,
   "id": "acdb9c9e-3da1-4dad-9d7f-3a1771ebbb5d",
   "metadata": {},
   "outputs": [
    {
     "name": "stdout",
     "output_type": "stream",
     "text": [
      "Converted tuple of integers to a tuple of strings are ('4', '5', '6', '1', '2')\n"
     ]
    }
   ],
   "source": [
    "#28. Convert a tuple of integers to a tuple of strings.\n",
    "\n",
    "#creating tuple\n",
    "tup = (4,5,6,1,2)\n",
    "\n",
    "#Using list comprehension to convert integers to string\n",
    "x = (str(i) for i in tup)\n",
    "\n",
    "#priting tuple of string values\n",
    "print(\"Converted tuple of integers to a tuple of strings are\",tuple(x))"
   ]
  },
  {
   "cell_type": "code",
   "execution_count": 30,
   "id": "117b4cb8-a1ba-412b-8f89-30c9c3a7ccca",
   "metadata": {},
   "outputs": [
    {
     "name": "stdout",
     "output_type": "stream",
     "text": [
      "Converted tuple of string to a tuple of integers are (4, 5, 6, 1, 2)\n"
     ]
    }
   ],
   "source": [
    "#29. Convert a tuple of strings to a tuple of integers.\n",
    "\n",
    "##creating tuple\n",
    "tup = ('4', '5', '6', '1', '2')\n",
    "\n",
    "#Using list comprehension to convert string to integers\n",
    "x = (int(i) for i in tup)\n",
    "\n",
    "#priting tuple of integer values\n",
    "print(\"Converted tuple of string to a tuple of integers are\",tuple(x))"
   ]
  },
  {
   "cell_type": "code",
   "execution_count": 31,
   "id": "65cde833-00be-4dc4-8878-81d8ee545335",
   "metadata": {},
   "outputs": [
    {
     "name": "stdout",
     "output_type": "stream",
     "text": [
      "Merged tuple values are (1, 2, 3, 'lets', 'go')\n"
     ]
    }
   ],
   "source": [
    "#30. Merge two tuples.\n",
    "\n",
    "#creating a tuple1\n",
    "tup1 = (1,2,3)\n",
    "\n",
    "##creating a tuple2\n",
    "tup2 = ('lets','go')\n",
    "\n",
    "#merging two tuples using concatenating operator\n",
    "tup = tup1 + tup2\n",
    "\n",
    "print(\"Merged tuple values are\",tup)"
   ]
  },
  {
   "cell_type": "code",
   "execution_count": 1,
   "id": "e01c237f-0f85-4476-8493-1e1e1c6fdf50",
   "metadata": {},
   "outputs": [
    {
     "name": "stdout",
     "output_type": "stream",
     "text": [
      "Flattened tuple: (1, 2, 3, 4, 5, 6, 7, 8)\n"
     ]
    }
   ],
   "source": [
    "#31. Flatten a nested tuple.\n",
    "\n",
    "# Recursive function to flatten a nested tuple\n",
    "def flatten_tuple(nested_tuple):\n",
    "    flattened = []\n",
    "    for item in nested_tuple:\n",
    "        if isinstance(item, tuple):\n",
    "            flattened.extend(flatten_tuple(item))\n",
    "        else:\n",
    "            flattened.append(item)\n",
    "    return flattened\n",
    "\n",
    "# Step 1: Create a nested tuple\n",
    "nested_tuple = ((1, 2), (3, 4, 5), (6, (7, 8)))\n",
    "\n",
    "# Step 2: Flatten the nested tuple\n",
    "flattened_tuple = tuple(flatten_tuple(nested_tuple))\n",
    "\n",
    "# Step 3: Print the flattened tuple\n",
    "print(\"Flattened tuple:\", flattened_tuple)"
   ]
  },
  {
   "cell_type": "code",
   "execution_count": 33,
   "id": "13bcd468-dd12-49b1-8f1c-28d306ac5119",
   "metadata": {},
   "outputs": [
    {
     "name": "stdin",
     "output_type": "stream",
     "text": [
      "Prime numbers between 2 and  13\n"
     ]
    },
    {
     "name": "stdout",
     "output_type": "stream",
     "text": [
      "Tuple with first five numbers is (2, 3, 5, 7, 11, 13)\n"
     ]
    }
   ],
   "source": [
    "#32. Create a tuple of the first 5 prime numbers.\n",
    "\n",
    "#Creating an empty list\n",
    "l =[]\n",
    "\n",
    "#asking user to enter the number\n",
    "number = int(input(\"Prime numbers between 2 and \"))\n",
    "\n",
    "#iterating numbers to find prime numbers\n",
    "for num in range(2,number + 1):\n",
    "       if num > 1:\n",
    "            for i in range(2,num):\n",
    "                if (num % i) == 0:\n",
    "                     break\n",
    "            else:\n",
    "                l.append(num)\n",
    "\n",
    "print(\"Tuple with first five numbers is\",tuple(l))"
   ]
  },
  {
   "cell_type": "code",
   "execution_count": 34,
   "id": "395362fa-711d-4124-ade3-ee66708e6a5b",
   "metadata": {},
   "outputs": [
    {
     "name": "stdout",
     "output_type": "stream",
     "text": [
      "Tuple is palindrome\n"
     ]
    }
   ],
   "source": [
    "#33. Check if a tuple is a palindrome.\n",
    "\n",
    "#declaring a tuple\n",
    "tup = (\"level\",)\n",
    "\n",
    "#converting tuple to list\n",
    "my_list = list(tup)\n",
    "\n",
    "#using slicing technique to reverse the data and reconverting to tuple\n",
    "l1 = my_list[::-1]\n",
    "tup1 = tuple(l1)\n",
    "\n",
    "#Checking if both the values are equal\n",
    "if tup == tup1:\n",
    "    print(\"Tuple is palindrome\")\n",
    "else:\n",
    "    print(\"Tuple is not palindrome\")"
   ]
  },
  {
   "cell_type": "code",
   "execution_count": 35,
   "id": "7aff4f73-d985-4735-aa4a-08aed24c6266",
   "metadata": {},
   "outputs": [
    {
     "name": "stdout",
     "output_type": "stream",
     "text": [
      "tuple of squares of numbers from 1 to 5 (1, 4, 9, 16, 25)\n"
     ]
    }
   ],
   "source": [
    "#34. Create a tuple of squares of numbers from 1 to 5.\n",
    "\n",
    "#Using list comprehension method to generate squares of numbers\n",
    "x = (i**2 for i in range(1,6))\n",
    "\n",
    "#printing squares of numbers from 1 to 5\n",
    "print(\"tuple of squares of numbers from 1 to 5\",tuple(x))"
   ]
  },
  {
   "cell_type": "code",
   "execution_count": 36,
   "id": "e31f114b-8c51-47c7-b671-185624405701",
   "metadata": {},
   "outputs": [
    {
     "name": "stdout",
     "output_type": "stream",
     "text": [
      "Even numbers in the original tuple are  (2, 4, 6, 8, 10)\n"
     ]
    }
   ],
   "source": [
    "#35. Filter out all even numbers from a tuple.\n",
    "\n",
    "#creating tuple\n",
    "t= (1,2,3,4,5,6,7,8,9,10)\n",
    "\n",
    "#converting tuple to list\n",
    "my_list = list(t)\n",
    "\n",
    "#creating an empty list to add even numbers\n",
    "l =[]\n",
    "\n",
    "#iterating through list and appending to list\n",
    "for i in my_list:\n",
    "    if i%2 == 0:\n",
    "        l.append(i)\n",
    "\n",
    "#printing tuple with even numbers\n",
    "print(\"Even numbers in the original tuple are \",tuple(l))"
   ]
  },
  {
   "cell_type": "code",
   "execution_count": 37,
   "id": "f9c2e354-6fdf-49bc-9a47-ddc56568e152",
   "metadata": {},
   "outputs": [
    {
     "name": "stdout",
     "output_type": "stream",
     "text": [
      "tuple elements multiplied by 2 are (2, 4, 6, 8, 10)\n"
     ]
    }
   ],
   "source": [
    "#36. Multiply all elements in a tuple by 2.\n",
    "\n",
    "#creating an tuple\n",
    "t = (1,2,3,4,5)\n",
    "\n",
    "#using list comprehension to multiply all elements by 2\n",
    "x = (i *2 for i in t)\n",
    "\n",
    "#printing tuple elements\n",
    "print(\"tuple elements multiplied by 2 are\",tuple(x))"
   ]
  },
  {
   "cell_type": "code",
   "execution_count": 38,
   "id": "877849fe-b626-4811-ae95-ccde834277f5",
   "metadata": {},
   "outputs": [
    {
     "name": "stdout",
     "output_type": "stream",
     "text": [
      "Tuple of random numbers is  (40, 46, 46, 38, 22, 16, 1, 15, 16, 40)\n"
     ]
    }
   ],
   "source": [
    "#37. Create a tuple of random numbers.\n",
    "\n",
    "import random \n",
    "\n",
    "#calling random function to generate random numbers\n",
    "x = tuple(random.randint(1,50) for _ in range(10))\n",
    "\n",
    "#Printing the data\n",
    "print(\"Tuple of random numbers is \",x)"
   ]
  },
  {
   "cell_type": "code",
   "execution_count": 39,
   "id": "4c64f3e2-8faa-4544-b2b4-7388616e07a7",
   "metadata": {},
   "outputs": [
    {
     "name": "stdout",
     "output_type": "stream",
     "text": [
      "tuple is sorted\n"
     ]
    }
   ],
   "source": [
    "#38. Check if a tuple is sorted.\n",
    "\n",
    "# create a tuple\n",
    "t = (1, 2, 3, 4, 5)\n",
    "\n",
    "# check if tuple is sorted\n",
    "if t == tuple(sorted(t)):\n",
    "    print(\"tuple is sorted\")\n",
    "else:\n",
    "    print(\"tuple is not sorted\")"
   ]
  },
  {
   "cell_type": "code",
   "execution_count": 40,
   "id": "6d322f9f-b00c-46cc-a42e-057ea9d932e4",
   "metadata": {},
   "outputs": [
    {
     "name": "stdout",
     "output_type": "stream",
     "text": [
      "Rotated Tuple : (3, 4, 5, 1, 2)\n"
     ]
    }
   ],
   "source": [
    "#39. Rotate a tuple to the left by `n` positions.\n",
    "\n",
    "#create a tuple\n",
    "t1= (1,2,3,4,5)\n",
    "\n",
    "#creating a function to do left rotation\n",
    "def left_rotate(t,n):\n",
    "\n",
    "    rotate_tuple = t[n:] + t[:n]\n",
    "    return rotate_tuple\n",
    "\n",
    "#calling function\n",
    "tup = left_rotate(t1,2)\n",
    "print(\"Rotated Tuple :\",tup)"
   ]
  },
  {
   "cell_type": "code",
   "execution_count": 41,
   "id": "dcb7bd80-7d1c-4758-ba10-1ba9cabe3a32",
   "metadata": {},
   "outputs": [
    {
     "name": "stdout",
     "output_type": "stream",
     "text": [
      "Rotated Tuple : (4, 5, 1, 2, 3)\n"
     ]
    }
   ],
   "source": [
    "#40. Rotate a tuple to the right by `n` positions.\n",
    "\n",
    "#create a tuple\n",
    "t1= (1,2,3,4,5)\n",
    "\n",
    "#creating a function to do right rotation\n",
    "def right_rotate(t,n):\n",
    "\n",
    "    rotate_tuple = t[-n:] + t[:-n]\n",
    "    return rotate_tuple\n",
    "\n",
    "#calling function\n",
    "tup = right_rotate(t1,2)\n",
    "print(\"Rotated Tuple :\",tup)"
   ]
  },
  {
   "cell_type": "code",
   "execution_count": 42,
   "id": "d94018f7-d0ce-4300-a5a8-33a71e47ae5a",
   "metadata": {},
   "outputs": [
    {
     "name": "stdout",
     "output_type": "stream",
     "text": [
      "(1, 1, 2, 3, 5)\n"
     ]
    }
   ],
   "source": [
    "#41. Create a tuple of the first 5 Fibonacci numbers.\n",
    "\n",
    "#Creating an empty list\n",
    "l1 =[]\n",
    "\n",
    "#Defining function to generate first five fibonacci numbers\n",
    "def five_fib(n):\n",
    "    if n == 1:\n",
    "        return 1\n",
    "    elif n == 2:\n",
    "        return 1\n",
    "    else:\n",
    "        #calling recursive function\n",
    "        return five_fib(n-1)+five_fib(n-2)\n",
    "        \n",
    "n =6\n",
    "for i in range(1,n):\n",
    "#calling function and appending values to list\n",
    "    t= five_fib(i)\n",
    "    l1.append(t)\n",
    "print(tuple(l1))"
   ]
  },
  {
   "cell_type": "code",
   "execution_count": 43,
   "id": "6c5dddf9-fa3c-442b-bb34-d0eb0477bbaf",
   "metadata": {},
   "outputs": [
    {
     "name": "stdin",
     "output_type": "stream",
     "text": [
      "Enter the values seperated by comma: 1,2,3,4,5\n"
     ]
    },
    {
     "name": "stdout",
     "output_type": "stream",
     "text": [
      "Tuple Values are  ('1', '2', '3', '4', '5')\n"
     ]
    }
   ],
   "source": [
    "#42. Create a tuple from user input.\n",
    "\n",
    "#Asking user to enter the data\n",
    "values = input(\"Enter the values seperated by comma:\")\n",
    "\n",
    "#using split function to split the data\n",
    "input_values = values.split(\",\")\n",
    "\n",
    "#converting data into tuple\n",
    "tuple_values = tuple(input_values)\n",
    "\n",
    "#printing the data\n",
    "print(\"Tuple Values are \",tuple_values)"
   ]
  },
  {
   "cell_type": "code",
   "execution_count": 44,
   "id": "d31f987a-e03a-4dba-a43c-68f59e256404",
   "metadata": {},
   "outputs": [
    {
     "name": "stdout",
     "output_type": "stream",
     "text": [
      "Swapped tuple: (1, 4, 3, 2, 5)\n"
     ]
    }
   ],
   "source": [
    "#43. Swap two elements in a tuple.\n",
    "\n",
    "my_tuple = (1, 2, 3, 4, 5)\n",
    "\n",
    "# Swap elements at indices 1 and 3\n",
    "index1 = 1\n",
    "index2 = 3\n",
    "#Using list comprehension to create a new tuple and checking if values are equal to indexes then values are swapped\n",
    "swapped_tuple = tuple(\n",
    "    my_tuple[i] if i not in (index1, index2) else\n",
    "    my_tuple[index2] if i == index1 else\n",
    "    my_tuple[index1]\n",
    "    for i in range(len(my_tuple))\n",
    ")\n",
    "\n",
    "# Print the swapped tuple\n",
    "print(\"Swapped tuple:\", swapped_tuple)"
   ]
  },
  {
   "cell_type": "code",
   "execution_count": 45,
   "id": "939cc4b2-da06-4ab8-9740-f42b77ba83fb",
   "metadata": {},
   "outputs": [
    {
     "name": "stdout",
     "output_type": "stream",
     "text": [
      "Reversed tuple elements are: (8, 3, 7, 4, 6)\n"
     ]
    }
   ],
   "source": [
    "#44. Reverse the elements of a tuple.\n",
    "\n",
    "#creating an tuple\n",
    "t =(6,4,7,3,8)\n",
    "\n",
    "#Using Slicing method to reverse tuple \n",
    "tup1 = t[::-1]\n",
    "\n",
    "#printing tuple\n",
    "print(\"Reversed tuple elements are:\",tup1)"
   ]
  },
  {
   "cell_type": "code",
   "execution_count": 46,
   "id": "c1b67cb5-f53b-43b3-86f8-f0e97a2d9862",
   "metadata": {},
   "outputs": [
    {
     "name": "stdout",
     "output_type": "stream",
     "text": [
      "tuple of the first `n` powers of 2 : (2, 4, 8, 16, 32)\n"
     ]
    }
   ],
   "source": [
    "#45. Create a tuple of the first `n` powers of 2.\n",
    "\n",
    "#creating an empty list\n",
    "l = []\n",
    "#Using for loop and generating powers of 2 and appending to list\n",
    "for i in range (1,6):\n",
    "    i = 2**i\n",
    "    l.append(i)\n",
    "\n",
    "#printing values by typecating to tuple\n",
    "print(\"tuple of the first `n` powers of 2 :\", tuple(l))"
   ]
  },
  {
   "cell_type": "code",
   "execution_count": 47,
   "id": "400a8d98-b05a-4af4-b30c-3942a901ea77",
   "metadata": {},
   "outputs": [
    {
     "name": "stdout",
     "output_type": "stream",
     "text": [
      "longest string in a tuple of strings: datascience\n"
     ]
    }
   ],
   "source": [
    "#46. Find the longest string in a tuple of strings.\n",
    "\n",
    "#Declaring an tuple \n",
    "t = ('python','bigdata','datascience')\n",
    "\n",
    "#Using max function to find longest string\n",
    "longest_string = max(t,key=len)\n",
    "\n",
    "#printing the longest string\n",
    "print(\"longest string in a tuple of strings:\",longest_string)"
   ]
  },
  {
   "cell_type": "code",
   "execution_count": 48,
   "id": "716bda84-9c40-475f-b100-e0e6a475f97d",
   "metadata": {},
   "outputs": [
    {
     "name": "stdout",
     "output_type": "stream",
     "text": [
      "shortest string in a tuple of strings : python\n"
     ]
    }
   ],
   "source": [
    "#47. Find the shortest string in a tuple of strings.\n",
    "\n",
    "#Declaring an tuple\n",
    "t = ('python','bigdata','datascience')\n",
    "\n",
    "#Using min function to find shortest string\n",
    "shortest_string = min(t,key=len)\n",
    "\n",
    "#printing the shortest string\n",
    "print(\"shortest string in a tuple of strings :\",shortest_string)"
   ]
  },
  {
   "cell_type": "code",
   "execution_count": 49,
   "id": "e61c3312-6e71-4466-83b6-f749825acccf",
   "metadata": {},
   "outputs": [
    {
     "name": "stdin",
     "output_type": "stream",
     "text": [
      "enter the number : 12\n"
     ]
    },
    {
     "name": "stdout",
     "output_type": "stream",
     "text": [
      "tuple of the first `n` triangular numbers: (1, 3, 6, 10, 15, 21, 28, 36, 45, 55, 66, 78)\n"
     ]
    }
   ],
   "source": [
    "#48. Create a tuple of the first `n` triangular numbers.\n",
    "\n",
    "#asking the user to enter a number\n",
    "n = int(input(\"enter the number :\"))\n",
    "\n",
    "#Using List comprehension to generate traingular numbers\n",
    "traingular_numbers = tuple((i*(i+1)//2 ) for i in range(1,n+1))\n",
    "\n",
    "#printing the traingular numbers\n",
    "print(\"tuple of the first `n` triangular numbers:\",traingular_numbers)"
   ]
  },
  {
   "cell_type": "code",
   "execution_count": 50,
   "id": "f9605dc7-efd9-458c-b393-dccc84b42412",
   "metadata": {},
   "outputs": [
    {
     "name": "stdout",
     "output_type": "stream",
     "text": [
      "tuple contains another tuple as a subsequence\n"
     ]
    }
   ],
   "source": [
    "#49. Check if a tuple contains another tuple as a subsequence.\n",
    "\n",
    "#declaring tuples\n",
    "tup1 = (1,2,3,4,5,8,9)\n",
    "tup2 = (4,5,8)\n",
    "\n",
    "#Initializing variable and assigning value\n",
    "c =0\n",
    "\n",
    "#Iterating through the tup1 and checking if elements exits in tup2\n",
    "#if element exits incrementing the count of c\n",
    "for i in tup1:\n",
    "    if i in tup2:\n",
    "        c += 1\n",
    "\n",
    "#if the length of tup2 is equal to count tuple has subsequence\n",
    "if len(tup2) == c:\n",
    "    print(\"tuple contains another tuple as a subsequence\")\n",
    "else :\n",
    "    print(\"tuple does not contains another tuple as a subsequence\")\n"
   ]
  },
  {
   "cell_type": "code",
   "execution_count": 51,
   "id": "7121d181-f7e1-4954-8db5-2e679ec3f6d9",
   "metadata": {},
   "outputs": [
    {
     "name": "stdout",
     "output_type": "stream",
     "text": [
      "tuple of alternating 1s and 0s of length `n' : (0, 1, 0, 1, 0, 1, 0, 1, 0, 1, 0, 1, 0, 1, 0)\n"
     ]
    }
   ],
   "source": [
    "#50. Create a tuple of alternating 1s and 0s of length `n`.\n",
    "\n",
    "#declarirng the length of n\n",
    "n =15\n",
    "\n",
    "#Generating tuple using list comprehension\n",
    "alternating_tuple = tuple(i%2 for i in range(n))\n",
    "\n",
    "#Printing tuple\n",
    "print(\"tuple of alternating 1s and 0s of length `n' :\",alternating_tuple)"
   ]
  },
  {
   "cell_type": "code",
   "execution_count": null,
   "id": "beb9f75a-218b-421d-83cb-165818ccc6f5",
   "metadata": {},
   "outputs": [],
   "source": []
  }
 ],
 "metadata": {
  "kernelspec": {
   "display_name": "Python 3 (ipykernel)",
   "language": "python",
   "name": "python3"
  },
  "language_info": {
   "codemirror_mode": {
    "name": "ipython",
    "version": 3
   },
   "file_extension": ".py",
   "mimetype": "text/x-python",
   "name": "python",
   "nbconvert_exporter": "python",
   "pygments_lexer": "ipython3",
   "version": "3.10.8"
  }
 },
 "nbformat": 4,
 "nbformat_minor": 5
}
