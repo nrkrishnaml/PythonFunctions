{
 "cells": [
  {
   "cell_type": "code",
   "execution_count": 3,
   "id": "a3d6fc17-b044-4918-b1bf-4d96a7f14876",
   "metadata": {},
   "outputs": [
    {
     "name": "stdin",
     "output_type": "stream",
     "text": [
      "enter the string was\n"
     ]
    },
    {
     "name": "stdout",
     "output_type": "stream",
     "text": [
      "New word is  saw\n"
     ]
    }
   ],
   "source": [
    "#1. Write a program to reverse a string.\n",
    "\n",
    "# Taking word as an input variable and asking the user to give the input.\n",
    "word = input(\"enter the string\") \n",
    "\n",
    "# for reversing the string we have used slicing method.\n",
    "reverse_word = word[: : -1]\n",
    "\n",
    "#printing the result\n",
    "print(\"New word is \" , reverse_word)"
   ]
  },
  {
   "cell_type": "code",
   "execution_count": 5,
   "id": "b307f704-6aaa-4156-b949-03a418d13d2d",
   "metadata": {},
   "outputs": [
    {
     "name": "stdin",
     "output_type": "stream",
     "text": [
      "enter the string civic\n"
     ]
    },
    {
     "name": "stdout",
     "output_type": "stream",
     "text": [
      "civic is a palindrome\n"
     ]
    }
   ],
   "source": [
    "#2.Check if a string is a palindrome.\n",
    "\n",
    "# Taking word as an input variable and asking the user to give the input.\n",
    "word = input(\"enter the string\") \n",
    "\n",
    "# for reversing the string we have used slicing method.\n",
    "new_word = word[: : -1]\n",
    "\n",
    "# comparing if both the values of same using if condition\n",
    "if word == new_word :\n",
    "\n",
    "    print(word, \"is a palindrome\")\n",
    "    \n",
    "else:\n",
    "      print(word, \"is not a palindrome\")\n",
    "\n"
   ]
  },
  {
   "cell_type": "code",
   "execution_count": 9,
   "id": "bec4cd46-c4af-4fdc-851f-3aba45dd18f1",
   "metadata": {},
   "outputs": [
    {
     "name": "stdin",
     "output_type": "stream",
     "text": [
      "enter the string data science\n"
     ]
    },
    {
     "name": "stdout",
     "output_type": "stream",
     "text": [
      "modified string is  DATA SCIENCE\n"
     ]
    }
   ],
   "source": [
    "#3.Convert a string to uppercase.\n",
    "\n",
    "#Asking user to enter the input\n",
    "word = input(\"enter the string\") \n",
    "\n",
    "# converting the string into upper case using upper() method\n",
    "new_word = word.upper()\n",
    "\n",
    "#printing the result\n",
    "print(\"modified string is \" , new_word)\n"
   ]
  },
  {
   "cell_type": "code",
   "execution_count": 10,
   "id": "031ad26f-7e24-41b1-b6e6-8982dd1388e6",
   "metadata": {},
   "outputs": [
    {
     "name": "stdin",
     "output_type": "stream",
     "text": [
      "enter the string FULL STACK\n"
     ]
    },
    {
     "name": "stdout",
     "output_type": "stream",
     "text": [
      "modified string is  full stack\n"
     ]
    }
   ],
   "source": [
    "#4.Convert a string to lowercase.\n",
    "\n",
    "#asking user to enter the input\n",
    "word = input(\"enter the string\") \n",
    "\n",
    "# converting the string into upper case using lower() method\n",
    "new_word = word.lower()\n",
    "\n",
    "#printing the result\n",
    "print(\"modified string is \" , new_word)"
   ]
  },
  {
   "cell_type": "code",
   "execution_count": 7,
   "id": "b7025555-b91f-40bd-b8fa-7e5520e5095e",
   "metadata": {},
   "outputs": [
    {
     "name": "stdin",
     "output_type": "stream",
     "text": [
      "please enter the String Hello Abc\n"
     ]
    },
    {
     "name": "stdout",
     "output_type": "stream",
     "text": [
      "number of vowels in a sentence are  3\n"
     ]
    }
   ],
   "source": [
    "#5. Count the number of vowels in a string.\n",
    "\n",
    "Sentence = input(\"please enter the String\")\n",
    "# declaring coutn to zero.\n",
    "count = 0\n",
    "# converting string to lower case and assigning it to find_vowel\n",
    "find_vowel = Sentence.lower()\n",
    "\n",
    "#iterating all the elements to find the vowels in a string\n",
    "for i in find_vowel :\n",
    "    if i in \"aeiou\" :\n",
    "        count += 1     \n",
    "\n",
    "        \n",
    "#printing the result\n",
    "print(\"number of vowels in a sentence are \", count)\n"
   ]
  },
  {
   "cell_type": "code",
   "execution_count": 10,
   "id": "75b221d1-7595-4dde-9a94-31439df86a3a",
   "metadata": {},
   "outputs": [
    {
     "name": "stdin",
     "output_type": "stream",
     "text": [
      "please enter the String missippi\n"
     ]
    },
    {
     "name": "stdout",
     "output_type": "stream",
     "text": [
      "number of consonants in a sentence are  5\n"
     ]
    }
   ],
   "source": [
    "#6.Count the number of consonants in a string.\n",
    "\n",
    "#asking thre user to enter the input\n",
    "Sentence = input(\"please enter the String\")\n",
    "\n",
    "#initializing the count varibale to zero\n",
    "count = 0\n",
    "\n",
    "#converting the sentence to lower case\n",
    "find_constant = Sentence.lower()\n",
    "\n",
    "#iterating all elements in string to find consonants\n",
    "for i in find_constant :\n",
    "    if i not in \"aeiou\" :\n",
    "        count += 1   \n",
    "        \n",
    "#printing the result\n",
    "print(\"number of consonants in a sentence are \", count)\n",
    "        "
   ]
  },
  {
   "cell_type": "code",
   "execution_count": 11,
   "id": "f499826f-cdd7-4e0d-b2ac-8228d94b4035",
   "metadata": {},
   "outputs": [
    {
     "name": "stdin",
     "output_type": "stream",
     "text": [
      "please enter the statement How are you\n"
     ]
    },
    {
     "name": "stdout",
     "output_type": "stream",
     "text": [
      "After removing spaces new word is Howareyou\n"
     ]
    }
   ],
   "source": [
    "#7. Remove all whitespaces from a string.\n",
    "\n",
    "#asking user to enter input\n",
    "word = input(\"please enter the statement\")\n",
    "\n",
    "#Using replace function to remove whitespaces\n",
    "new_word = word.replace(\" \",\"\")\n",
    "\n",
    "#printing the result\n",
    "print(\"After removing spaces new word is\" ,new_word) "
   ]
  },
  {
   "cell_type": "code",
   "execution_count": 15,
   "id": "a9fc5968-dc11-4262-b978-3f630fbdfc35",
   "metadata": {},
   "outputs": [
    {
     "name": "stdin",
     "output_type": "stream",
     "text": [
      "Please enter your Statement how are you\n"
     ]
    },
    {
     "name": "stdout",
     "output_type": "stream",
     "text": [
      "11\n"
     ]
    }
   ],
   "source": [
    "#8.Find the length of a string without using the `len()` function\n",
    "\n",
    "#Asking user to enter the input\n",
    "str1 = input(\"Please enter your Statement\")\n",
    "\n",
    "#initializing the count and converting to lower case\n",
    "str_count = 0\n",
    "new_str1 = str1.lower()\n",
    "\n",
    "#using loop to find length of string\n",
    "for i in new_str1:\n",
    "    str_count +=1\n",
    "    \n",
    "#printing the result\n",
    "print(\"length of the string without spaces\",str_count)\n"
   ]
  },
  {
   "cell_type": "code",
   "execution_count": 3,
   "id": "6073e793-f125-47b6-ad66-48b31ee5e5c7",
   "metadata": {},
   "outputs": [
    {
     "name": "stdin",
     "output_type": "stream",
     "text": [
      "please enter your statement data science is a vast subject\n",
      "enter the specific word not\n"
     ]
    },
    {
     "name": "stdout",
     "output_type": "stream",
     "text": [
      "specified string does not exist\n"
     ]
    }
   ],
   "source": [
    "#9. Check if a string contains a specific word.\n",
    "\n",
    "#asking user the input\n",
    "str1 = input(\"please enter your statement :\")\n",
    "#Asking user to enter to check the specific word\n",
    "word = input(\"enter the specific word :\")\n",
    "\n",
    "#finding if word is present or not\n",
    "if word in str1:\n",
    "    print(\"specified string does exist\")\n",
    "else :\n",
    "    print(word,\"specified string does not exist\")"
   ]
  },
  {
   "cell_type": "code",
   "execution_count": 1,
   "id": "3425324c-15ad-439c-a697-037abb446a19",
   "metadata": {},
   "outputs": [
    {
     "name": "stdin",
     "output_type": "stream",
     "text": [
      "please enter your statement: who are you\n",
      "please enter which word to be replaced: who\n",
      "please enter what you want to replace: how\n"
     ]
    },
    {
     "name": "stdout",
     "output_type": "stream",
     "text": [
      "modified string is : how are you\n"
     ]
    }
   ],
   "source": [
    "#10. Replace a word in a string with another word.\n",
    "\n",
    "#asking user the input\n",
    "str1 = input(\"please enter your statement:\")\n",
    "\n",
    "#user enters which word to be replaced\n",
    "new_str = input(\"please enter which word to be replaced:\")\n",
    "\n",
    "#asking user to enter which word should be added\n",
    "replace_str = input(\"please enter what you want to replace:\")\n",
    "\n",
    "#using replace function to replace the word\n",
    "statement = str1.replace(new_str,replace_str)\n",
    "\n",
    "#printing the result\n",
    "print(\"modified string is :\" , statement)"
   ]
  },
  {
   "cell_type": "code",
   "execution_count": 3,
   "id": "f53762f5-55dd-47ed-948c-797f35724232",
   "metadata": {},
   "outputs": [
    {
     "name": "stdin",
     "output_type": "stream",
     "text": [
      "please enter your statement: am here am done\n",
      "Enter the word to find the occurence: am\n"
     ]
    },
    {
     "name": "stdout",
     "output_type": "stream",
     "text": [
      "2\n"
     ]
    }
   ],
   "source": [
    "#11. Count the occurrences of a word in a string.\n",
    "\n",
    "# Asking user to enter the input\n",
    "str1 = input(\"please enter your statement:\")\n",
    "#enter the word to find the number of occurences\n",
    "word = input(\"Enter the word to find the occurence:\")\n",
    "\n",
    "#splitting the string \n",
    "str2 = str1.split()\n",
    "occurence_count = 0\n",
    "#checking the number of occurences in string\n",
    "for i in str2 :\n",
    "    if i == word:\n",
    "        occurence_count =  occurence_count+1\n",
    "print(occurence_count)\n"
   ]
  },
  {
   "cell_type": "code",
   "execution_count": 4,
   "id": "1bba7ef3-4efd-4584-9218-9a80e2b49f55",
   "metadata": {},
   "outputs": [
    {
     "name": "stdin",
     "output_type": "stream",
     "text": [
      "Enter the statement: good\n",
      "enter the word: o\n"
     ]
    },
    {
     "name": "stdout",
     "output_type": "stream",
     "text": [
      "first occurence of word is  1\n"
     ]
    }
   ],
   "source": [
    "#12. Find the first occurrence of a word in a string.\n",
    "\n",
    "#Asking user to enter the input \n",
    "str1= input(\"Enter the statement:\")\n",
    "#enter the word to find the first occurence\n",
    "word = input(\"enter the word:\")\n",
    "\n",
    "#using find function to get the first occurence of word\n",
    "occurence_word = str1.find(word)\n",
    "\n",
    "#printing the reult\n",
    "print(\"first occurence of word is \",occurence_word)\n"
   ]
  },
  {
   "cell_type": "code",
   "execution_count": 5,
   "id": "b317d0d1-ba94-4645-ba91-5ed92364a625",
   "metadata": {},
   "outputs": [
    {
     "name": "stdin",
     "output_type": "stream",
     "text": [
      "Enter the statement: how are you\n",
      "enter the word to be find the occurence: o\n"
     ]
    },
    {
     "name": "stdout",
     "output_type": "stream",
     "text": [
      "last occurence of word is at  9\n"
     ]
    }
   ],
   "source": [
    "#13. Find the last occurrence of a word in a string.\n",
    "\n",
    "#asking the user to input\n",
    "str1 = input(\"Enter the statement:\")\n",
    "#asking user to enter the occurence of word\n",
    "fnd_word = input(\"enter the word to be find the occurence:\")\n",
    "\n",
    "#using rfind function to last occurence of word in a string\n",
    "occurence_word = str1.rfind(fnd_word)\n",
    "\n",
    "#printing the result\n",
    "print(\"last occurence of word is at \",occurence_word)"
   ]
  },
  {
   "cell_type": "code",
   "execution_count": 2,
   "id": "5f086885-ab9d-4294-a5a8-183a9c055818",
   "metadata": {},
   "outputs": [
    {
     "name": "stdin",
     "output_type": "stream",
     "text": [
      "Enter the sentence Hey! I am here\n"
     ]
    },
    {
     "name": "stdout",
     "output_type": "stream",
     "text": [
      "string after splitting it is ['Hey!', 'I', 'am', 'here']\n"
     ]
    }
   ],
   "source": [
    "#14. Split a string into a list of words\n",
    "\n",
    "##asking the user to input\n",
    "str1 = input(\"please enter the sentence\")\n",
    "\n",
    "#Using split function to break the string \n",
    "split_str = str1.split()\n",
    "\n",
    "#printing the result\n",
    "print(\"string after splitting it is\", split_str)\n"
   ]
  },
  {
   "cell_type": "code",
   "execution_count": 7,
   "id": "f980a115-5ad7-4a03-ab5a-1f188a19561b",
   "metadata": {},
   "outputs": [
    {
     "name": "stdin",
     "output_type": "stream",
     "text": [
      "please enter words list of words\n"
     ]
    },
    {
     "name": "stdout",
     "output_type": "stream",
     "text": [
      "list of words\n"
     ]
    }
   ],
   "source": [
    "#15. Join a list of words into a string.\n",
    "\n",
    "#asking the user to input\n",
    "word = input(\"please enter words\")\n",
    "\n",
    "#Using join function to list of words\n",
    "str1 = \"\".join(word)\n",
    "\n",
    "print(\"String value is:\",str1)\n",
    "\n"
   ]
  },
  {
   "cell_type": "code",
   "execution_count": 8,
   "id": "a1e9e787-1cc4-42cf-a9f8-541355ac3751",
   "metadata": {},
   "outputs": [
    {
     "name": "stdin",
     "output_type": "stream",
     "text": [
      "please set of words hello,good morning\n"
     ]
    },
    {
     "name": "stdout",
     "output_type": "stream",
     "text": [
      "modified string is hello_good morning\n"
     ]
    }
   ],
   "source": [
    "\"\"\"16. Convert a string where words are separated by spaces to one \n",
    "where words are separated by underscores\"\"\"\n",
    "\n",
    "#asking the user to input\n",
    "str1 = input(\"please set of words\")\n",
    "#Using replace function to replace comma with underscore\n",
    "new_str = str1.replace(\",\" , \"_\")\n",
    "\n",
    "#printing the result\n",
    "print(\"modified string is\",new_str)\n"
   ]
  },
  {
   "cell_type": "code",
   "execution_count": 9,
   "id": "45c609c2-543f-4f46-ac2f-3b8845e46bfe",
   "metadata": {},
   "outputs": [
    {
     "name": "stdin",
     "output_type": "stream",
     "text": [
      "please enter the sentence: data science has lot of syallabus\n",
      "enter the word to be checked on: lot\n"
     ]
    },
    {
     "name": "stdout",
     "output_type": "stream",
     "text": [
      "String does not starts with : lot\n"
     ]
    }
   ],
   "source": [
    "#17.Check if a string starts with a specific word or phrase\n",
    "\n",
    "#asking the user to input\n",
    "str1 = input(\"please enter the sentence:\")\n",
    "\n",
    "#asking the user to enter the word to check\n",
    "check_word = input(\"enter the word to be checked on:\")\n",
    "\n",
    "#using string method to check if string starts with specific word\n",
    "new_str1 = str1.startswith(check_word)\n",
    "\n",
    "if new_str1 == True :\n",
    "    print(\"String starts with :\",check_word)\n",
    "\n",
    "else :\n",
    "    print(\"String does not starts with :\",check_word)\n",
    "\n",
    "\n"
   ]
  },
  {
   "cell_type": "code",
   "execution_count": 14,
   "id": "28c31a70-79e7-460e-bc68-11d5e2976aa5",
   "metadata": {},
   "outputs": [
    {
     "name": "stdin",
     "output_type": "stream",
     "text": [
      "please enter the sentence lots of work\n",
      "enter the word to be checked on of\n"
     ]
    },
    {
     "name": "stdout",
     "output_type": "stream",
     "text": [
      "String does not ends with  of\n"
     ]
    }
   ],
   "source": [
    "#18. Check if a string ends with a specific word or phrase.\n",
    "\n",
    "#asking the user to input\n",
    "str1 = input(\"please enter the sentence:\")\n",
    "#asking the user to enter the word to check\n",
    "check_word = input(\"enter the word to be checked on:\")\n",
    "\n",
    "#using string method to check if string starts with specific word\n",
    "new_str1 = str1.endswith(check_word)\n",
    "\n",
    "if new_str1 == True :\n",
    "    print(\"String ends with : \",check_word)\n",
    "\n",
    "else :\n",
    "    print(\"String does not ends with :\",check_word)\n"
   ]
  },
  {
   "cell_type": "code",
   "execution_count": 15,
   "id": "2b561350-c9df-4224-8fad-eac73e623f82",
   "metadata": {},
   "outputs": [
    {
     "name": "stdin",
     "output_type": "stream",
     "text": [
      "please enter the sentence hello world\n"
     ]
    },
    {
     "name": "stdout",
     "output_type": "stream",
     "text": [
      "Title case of the given statement is Hello World\n"
     ]
    }
   ],
   "source": [
    "#19.Convert a string to title case (e.g., \"hello world\" to \"Hello World\").\n",
    "\n",
    "#asking the user to input\n",
    "str1 = input(\"please enter the sentence\")\n",
    "\n",
    "#Using title method to convert it\n",
    "title_str = str1.title()\n",
    "\n",
    "#printing the result\n",
    "print(\"Title case of the given statement is\" , title_str)\n"
   ]
  },
  {
   "cell_type": "code",
   "execution_count": 1,
   "id": "1576cd5e-5f2f-4fe8-a726-ffc6321d607a",
   "metadata": {},
   "outputs": [
    {
     "name": "stdin",
     "output_type": "stream",
     "text": [
      "please enter the sentence :  longest word in a string\n"
     ]
    },
    {
     "name": "stdout",
     "output_type": "stream",
     "text": [
      "longest word in sentence is : longest\n",
      "lenght of the longest word is : 7\n"
     ]
    }
   ],
   "source": [
    "#20. Find the longest word in a string\n",
    "\n",
    "#Asking user to enter input\n",
    "str1 = input(\"please enter the sentence : \")\n",
    "\n",
    "#using max function to get the longest word\n",
    "longest_word = max(str1.split(), key=len)\n",
    "\n",
    "#printing the result\n",
    "print(\"longest word in sentence is :\", longest_word)\n"
   ]
  },
  {
   "cell_type": "code",
   "execution_count": 2,
   "id": "d2554741-3d0a-43ad-bbd8-ace3741bed21",
   "metadata": {},
   "outputs": [
    {
     "name": "stdin",
     "output_type": "stream",
     "text": [
      "please enter the sentence :  the order of words in a string\n"
     ]
    },
    {
     "name": "stdout",
     "output_type": "stream",
     "text": [
      "shortest word in sentence is : a\n"
     ]
    }
   ],
   "source": [
    "#21. Find the shortest word in a string.\n",
    "\n",
    "#Asking user to enter input\n",
    "str1 = input(\"please enter the sentence : \")\n",
    "\n",
    "#using min function to get the shortest word\n",
    "shortest_word = min(str1.split(), key=len)\n",
    "\n",
    "#printing the result\n",
    "print(\"shortest word in sentence is :\", shortest_word)\n",
    "\n"
   ]
  },
  {
   "cell_type": "code",
   "execution_count": 7,
   "id": "9fe6701c-57ee-4da4-ba84-fc6ca0c1abea",
   "metadata": {},
   "outputs": [
    {
     "name": "stdin",
     "output_type": "stream",
     "text": [
      "please enter the sentence :  Flash message\n"
     ]
    },
    {
     "name": "stdout",
     "output_type": "stream",
     "text": [
      "Reversed string is : egassem hsalF\n"
     ]
    }
   ],
   "source": [
    "#22.Reverse the order of words in a string.\n",
    "\n",
    "#Asking user to enter input\n",
    "str1 = input(\"please enter the sentence : \")\n",
    "\n",
    "#using slicing method to reverse a string\n",
    "reverse_string = str1[: : -1]\n",
    "\n",
    "#printing the result\n",
    "print(\"Reversed string is :\",reverse_string)"
   ]
  },
  {
   "cell_type": "code",
   "execution_count": 8,
   "id": "751a6ef0-0f30-4713-8a00-111a81785444",
   "metadata": {},
   "outputs": [
    {
     "name": "stdin",
     "output_type": "stream",
     "text": [
      "please enter the sentence :  python version 3.0\n"
     ]
    },
    {
     "name": "stdout",
     "output_type": "stream",
     "text": [
      "python version 3.0 word is not alphanumeric\n"
     ]
    }
   ],
   "source": [
    "#23.Check if a string is alphanumeric.\n",
    "\n",
    "#Asking user to enter input\n",
    "str1 = input(\"please enter the sentence : \")\n",
    "\n",
    "#using iaalnum method to check if the string is alphanumeric or not\n",
    "alphanum_str = str1.isalnum()\n",
    "\n",
    "#printig the result based on the value true or false\n",
    "if alphanum_str == True :\n",
    "    \n",
    "    print(str1,\"word is alphanumeric\")\n",
    "else :\n",
    "    print(str1,\"word is not alphanumeric\")"
   ]
  },
  {
   "cell_type": "code",
   "execution_count": 1,
   "id": "57bffb73-e678-4ebf-8966-739c35608946",
   "metadata": {},
   "outputs": [
    {
     "name": "stdin",
     "output_type": "stream",
     "text": [
      "please enter the sentence :  lets meet at 1\n"
     ]
    },
    {
     "name": "stdout",
     "output_type": "stream",
     "text": [
      "Digits in the string are: [1]\n"
     ]
    }
   ],
   "source": [
    "#24. Extract all digits from a string.\n",
    "\n",
    "#Asking user to enter input\n",
    "text =  input(\"please enter the sentence : \")\n",
    "\n",
    "#declaring a empty list\n",
    "numbers = []\n",
    "\n",
    "#iterating the string values by splitting them\n",
    "for word in text.split():\n",
    "#checking for numbers using isdigit method\n",
    "    if word.isdigit():\n",
    "        numbers.append(int(word))\n",
    "print(\"Digits in the string are:\",numbers)"
   ]
  },
  {
   "cell_type": "code",
   "execution_count": 4,
   "id": "94569e9e-913e-498d-a9a2-4da49a2558b2",
   "metadata": {},
   "outputs": [
    {
     "name": "stdin",
     "output_type": "stream",
     "text": [
      "please enter the sentence :  num987\n"
     ]
    },
    {
     "name": "stdout",
     "output_type": "stream",
     "text": [
      "all alphabets in the string are  num\n"
     ]
    }
   ],
   "source": [
    "#25.Extract all alphabets from a string.\n",
    "\n",
    "#Asking user to enter input\n",
    "text =  input(\"please enter the sentence : \")\n",
    "\n",
    "#declaring an empty string\n",
    "all_alpha = \"\"\n",
    "\n",
    "#iterating the string to extract only words\n",
    "for i in text :\n",
    "    #if text is alpha then they are added to the string\n",
    "    if i.isalpha():\n",
    "        all_alpha= \"\".join([all_alpha,i])\n",
    "        \n",
    "#printing the result\n",
    "print(\"all alphabets in the string are \",all_alpha)    \n",
    "\n"
   ]
  },
  {
   "cell_type": "code",
   "execution_count": 35,
   "id": "481cc423-327a-4884-8827-71b5a45e1e5f",
   "metadata": {},
   "outputs": [
    {
     "name": "stdin",
     "output_type": "stream",
     "text": [
      "Enter the Sentence :  GooD\n"
     ]
    },
    {
     "name": "stdout",
     "output_type": "stream",
     "text": [
      " Number of upper cases in the sentence are 2\n"
     ]
    }
   ],
   "source": [
    "#26. Count the number of uppercase letters in a string.\n",
    "\n",
    "#Asking user to enter input\n",
    "str1 = input(\"Enter the Sentence : \")\n",
    "\n",
    "#initializing count variable to zero\n",
    "count1 = 0\n",
    "\n",
    "#Using loop to count the uppercase letters in string\n",
    "\n",
    "for i in str1 :\n",
    "    if i.isupper() == True :\n",
    "        count1 = count1 + 1 \n",
    "        \n",
    "#printing the result\n",
    "print(\" Number of upper cases in the sentence are\" , count1)\n",
    "\n"
   ]
  },
  {
   "cell_type": "code",
   "execution_count": 32,
   "id": "38801d54-bf59-4638-840f-d47b9b34e044",
   "metadata": {},
   "outputs": [
    {
     "name": "stdin",
     "output_type": "stream",
     "text": [
      "Enter the Sentence :  good\n"
     ]
    },
    {
     "name": "stdout",
     "output_type": "stream",
     "text": [
      " Number of lower cases in the sentence are 4\n"
     ]
    }
   ],
   "source": [
    "#27. Count the number of lowercase letters in a string.\n",
    "\n",
    "#Asking user to enter input\n",
    "str1 = input(\"Enter the Sentence : \")\n",
    "\n",
    "#initializing count variable to zero\n",
    "count1 = 0\n",
    "\n",
    "#Using loop to cout the lowercase in string\n",
    "for i in str1 :\n",
    "    if i.islower() == True :\n",
    "        count1 = count1 + 1\n",
    "\n",
    "#printing the result\n",
    "print(\" Number of lower cases in the sentence are\" , count1)\n",
    "\n"
   ]
  },
  {
   "cell_type": "code",
   "execution_count": 9,
   "id": "05acfda3-d20b-4f32-a00a-b988b9bdb99b",
   "metadata": {},
   "outputs": [
    {
     "name": "stdin",
     "output_type": "stream",
     "text": [
      "Enter your statement gOOD\n"
     ]
    },
    {
     "name": "stdout",
     "output_type": "stream",
     "text": [
      " After swappig the string is  Good\n"
     ]
    }
   ],
   "source": [
    "#28. Swap the case of each character in a string.\n",
    "\n",
    "#Asking user to enter input\n",
    "str1 = input(\"Enter your statement\")\n",
    "\n",
    "#using swapcase method to swap the each character\n",
    "swap_str = str1.swapcase()\n",
    "\n",
    "#printing the result\n",
    "print(\" After swappig the string is \" , swap_str)\n"
   ]
  },
  {
   "cell_type": "code",
   "execution_count": 11,
   "id": "b37aeb35-80aa-474d-a8be-01184ba5baeb",
   "metadata": {},
   "outputs": [
    {
     "name": "stdin",
     "output_type": "stream",
     "text": [
      "Enter the string How are you\n",
      " enter the word to be removed are\n"
     ]
    },
    {
     "name": "stdout",
     "output_type": "stream",
     "text": [
      "After removing the word, String is How  you\n"
     ]
    }
   ],
   "source": [
    "#29. Remove a specific word from a string.\n",
    "\n",
    "#Asking user to enter input\n",
    "str1 = input(\"Enter the string\")\n",
    "\n",
    "#enter the string to be removed\n",
    "rem_str = input(\" enter the word to be removed\")\n",
    "\n",
    "new_str1 = str1.replace(rem_str,\"\")\n",
    "\n",
    "#printing the result\n",
    "print(\"After removing the word, String is\" ,new_str1)"
   ]
  },
  {
   "cell_type": "code",
   "execution_count": 2,
   "id": "d1ac4764-beda-4684-b47a-4f536f9cb5fe",
   "metadata": {},
   "outputs": [
    {
     "name": "stdin",
     "output_type": "stream",
     "text": [
      "Enter your email Id ramya@gmail.com\n"
     ]
    },
    {
     "name": "stdout",
     "output_type": "stream",
     "text": [
      "email id is valid\n"
     ]
    }
   ],
   "source": [
    "#30. Check if a string is a valid email address.\n",
    "\n",
    "#importing the regular expression module,which is a built in function\n",
    "import re\n",
    "\n",
    "#Defining function to validate email address\n",
    "def valid_email(email_id):\n",
    "    \n",
    "    #This is regular expression that matches email address pattern\n",
    "    pattern = r'^([a-zA-Z0-9_\\-\\.]+)@([a-zA-Z0-9_\\-\\.]+)\\.([a-zA-Z]{2,5})$'\n",
    "    \n",
    "    #Using re.match function to check if patten and input matches\n",
    "    if re.match(pattern, email_id):\n",
    "        print(\"email id is valid\")\n",
    "    else:\n",
    "        print(\"email id is not valid\")\n",
    "        \n",
    "#Driver code\n",
    "\n",
    "#asking user to enter email id\n",
    "email_id  = input(\"Enter your email Id\")\n",
    "\n",
    "#calling the function to validate email_id\n",
    "valid_email(email_id)\n",
    "    \n"
   ]
  },
  {
   "cell_type": "code",
   "execution_count": 3,
   "id": "05c67665-65e4-4264-8926-b0bd8c978a2b",
   "metadata": {},
   "outputs": [
    {
     "name": "stdin",
     "output_type": "stream",
     "text": [
      "Enter your email Id ramya@gmail.com\n"
     ]
    },
    {
     "data": {
      "text/plain": [
       "'ramya'"
      ]
     },
     "execution_count": 3,
     "metadata": {},
     "output_type": "execute_result"
    }
   ],
   "source": [
    "#31.Extract the username from an email address string.\n",
    "\n",
    "#defining function to extract username\n",
    "\n",
    "def extract_username(email):\n",
    "    #Using the split function to seperate and print first part at zero index\n",
    "    user_name = email.split('@')[0]\n",
    "    return user_name\n",
    "\n",
    "#Driver code\n",
    "\n",
    "#asking user to enter email id\n",
    "email  = input(\"Enter your email Id\")\n",
    "\n",
    "#calling the function to extract username\n",
    "extract_username(email)\n"
   ]
  },
  {
   "cell_type": "code",
   "execution_count": 4,
   "id": "2a158057-bba8-4c6c-bc13-74ee46960be3",
   "metadata": {},
   "outputs": [
    {
     "name": "stdin",
     "output_type": "stream",
     "text": [
      "Enter your email Id ramya@gmail.com\n"
     ]
    },
    {
     "data": {
      "text/plain": [
       "'gmail.com'"
      ]
     },
     "execution_count": 4,
     "metadata": {},
     "output_type": "execute_result"
    }
   ],
   "source": [
    "#32. Extract the domain name from an email address string.\n",
    "\n",
    "#defining function to domain name\n",
    "\n",
    "def extract_domainname(email):\n",
    "    #Using the split function to seperate and print second part at first index\n",
    "    domain_name = email.split('@')[1]\n",
    "    return domain_name\n",
    "\n",
    "#Driver code\n",
    "\n",
    "#asking user to enter email id\n",
    "email  = input(\"Enter your email Id\")\n",
    "\n",
    "#calling the function to extract username\n",
    "extract_domainname(email)\n"
   ]
  },
  {
   "cell_type": "code",
   "execution_count": 5,
   "id": "d8a7f34b-3710-4bc7-a90a-afac8fada071",
   "metadata": {},
   "outputs": [
    {
     "name": "stdin",
     "output_type": "stream",
     "text": [
      "please enter your statement Hello    are    you    there\n"
     ]
    },
    {
     "name": "stdout",
     "output_type": "stream",
     "text": [
      "After replacing multiple spaces , Strimg is  Hello are you there\n"
     ]
    }
   ],
   "source": [
    "#33.Replace multiple spaces in a string with a single space.\n",
    "\n",
    "\n",
    "str1 = input(\"please enter your statement\")\n",
    "\n",
    "remove_space = \" \".join(str1.split())\n",
    "\n",
    "print(\"After replacing multiple spaces , Strimg is \" ,remove_space)"
   ]
  },
  {
   "cell_type": "code",
   "execution_count": 3,
   "id": "581f41b1-0c19-48bb-8a05-e481184853e2",
   "metadata": {},
   "outputs": [
    {
     "name": "stdout",
     "output_type": "stream",
     "text": [
      "Urls:  ['https://www.amazon.in']\n"
     ]
    }
   ],
   "source": [
    "#34. Check if a string is a valid URL.\n",
    "\n",
    "#defining function to find a string is a valid url\n",
    "def Find(string):\n",
    "    #using split function to split the string\n",
    "    x=string.split()\n",
    "    #cretaing a new list to add data\n",
    "    res=[]\n",
    "    #using loop to iterate the string\n",
    "    for i in x:\n",
    "        if i.startswith(\"https:\") or i.startswith(\"http:\"):\n",
    "            res.append(i)\n",
    "    return res\n",
    "             \n",
    "# Driver Code\n",
    "string =\" https://www.amazon.in\"\n",
    "print(\"Urls: \", Find(string))\n",
    "\n"
   ]
  },
  {
   "cell_type": "code",
   "execution_count": 1,
   "id": "76bcddb4-0a53-4a15-87eb-0a557793f851",
   "metadata": {},
   "outputs": [
    {
     "name": "stdout",
     "output_type": "stream",
     "text": [
      "Protocol : https\n"
     ]
    }
   ],
   "source": [
    "#35. Extract the protocol (http or https) from a URL string.\n",
    "\n",
    "def extract_protocol(url):\n",
    "    # Find the index of the first occurrence of \"://\"\n",
    "    protocol_end = url.find(\"://\")\n",
    "\n",
    "    if protocol_end != -1:\n",
    "        # Extract the protocol from the URL\n",
    "        protocol = url[:protocol_end]\n",
    "        return protocol\n",
    "    else:\n",
    "        return None\n",
    "\n",
    "\n",
    "url = \"https://www.example.com\"\n",
    "\n",
    "\n",
    "# Extract protocols\n",
    "protocol = extract_protocol(url)\n",
    "\n",
    "\n",
    "# Print extracted protocols\n",
    "print(\"Protocol :\", protocol)\n",
    "\n"
   ]
  },
  {
   "cell_type": "code",
   "execution_count": 5,
   "id": "4d0aa716-11ff-414b-b6a8-65a4af5a6e1d",
   "metadata": {},
   "outputs": [
    {
     "name": "stdin",
     "output_type": "stream",
     "text": [
      "please enter the string frequency\n"
     ]
    },
    {
     "name": "stdout",
     "output_type": "stream",
     "text": [
      " Frequency of characters is  {'f': 1, 'r': 1, 'e': 2, 'q': 1, 'u': 1, 'n': 1, 'c': 1, 'y': 1}\n"
     ]
    }
   ],
   "source": [
    "#36. Find the frequency of each character in a string.\n",
    "\n",
    "#Asking user to enter the input\n",
    "str1 = input(\"please enter the string\")\n",
    "\n",
    "#creating an empty dictionary\n",
    "d1 = {}\n",
    "\n",
    "#Using loop to find the frequency of each character\n",
    "for i in str1 : \n",
    "    \n",
    "    if i in d1 :\n",
    "        \n",
    "        d1[i] += 1\n",
    "        \n",
    "    else : \n",
    "        \n",
    "        d1[i] = 1\n",
    "#printing the result\n",
    "print(\" Frequency of characters is \", d1)\n",
    "\n",
    "\n"
   ]
  },
  {
   "cell_type": "code",
   "execution_count": 6,
   "id": "7318ae64-f5bf-4ebc-a63f-3fc9befb3472",
   "metadata": {},
   "outputs": [
    {
     "name": "stdin",
     "output_type": "stream",
     "text": [
      " Enter the String are they here??\n"
     ]
    },
    {
     "name": "stdout",
     "output_type": "stream",
     "text": [
      " After removing punctuation, string is  are they here\n"
     ]
    }
   ],
   "source": [
    "#37. Remove all punctuation from a string.\n",
    "\n",
    "#Asking user to enter the input\n",
    "str1 = input(\" Enter the String\")\n",
    "\n",
    "#punctuation characters in general\n",
    "punc = '''!()-[]{};:'\"\\,<>./?@#$%^&*_~'''\n",
    "\n",
    "#iterating all elements in string and remove it\n",
    "for p in str1 : \n",
    "    \n",
    "    if p in punc :\n",
    "        \n",
    "        str1 = str1.replace(p,\"\")\n",
    "\n",
    "#printing the result        \n",
    "print(\" After removing punctuation, string is \", str1)\n",
    "        \n"
   ]
  },
  {
   "cell_type": "code",
   "execution_count": 4,
   "id": "58a6f79f-84c8-4334-8251-1c9d2e80d93d",
   "metadata": {},
   "outputs": [
    {
     "name": "stdin",
     "output_type": "stream",
     "text": [
      "Enter your sentence 546\n"
     ]
    },
    {
     "name": "stdout",
     "output_type": "stream",
     "text": [
      " String contains only digits\n"
     ]
    }
   ],
   "source": [
    "#38. Check if a string contains only digits.\n",
    "\n",
    "#Asking user to enter the input\n",
    "str1 = input(\"Enter your sentence\")\n",
    "\n",
    "#checking if string contains only digits\n",
    "if str1.isnumeric() == True : \n",
    "    \n",
    "    print(\" String contains only digits\")\n",
    "    \n",
    "else : \n",
    "    \n",
    "    print(\"String is comprimised with other characters\")"
   ]
  },
  {
   "cell_type": "code",
   "execution_count": 6,
   "id": "04f61f9c-ff30-4a82-ae04-a65b02fcba43",
   "metadata": {},
   "outputs": [
    {
     "name": "stdin",
     "output_type": "stream",
     "text": [
      "Enter your sentence hello\n"
     ]
    },
    {
     "name": "stdout",
     "output_type": "stream",
     "text": [
      " String contains only alphabets\n"
     ]
    }
   ],
   "source": [
    "#39. Check if a string contains only alphabets.\n",
    "\n",
    "#Asking user to enter the input\n",
    "str1 = input(\"Enter your sentence\")\n",
    "\n",
    "#checking if string contains only alphabets\n",
    "if str1.isalpha() == True : \n",
    "    \n",
    "    print(\" String contains only alphabets\")\n",
    "    \n",
    "else : \n",
    "    \n",
    "    print(\"String is comprimised with other characters\")\n"
   ]
  },
  {
   "cell_type": "code",
   "execution_count": 1,
   "id": "449d0981-4c24-45ad-ae71-f446601fb2cd",
   "metadata": {},
   "outputs": [
    {
     "name": "stdin",
     "output_type": "stream",
     "text": [
      "Enter your sentence hello\n"
     ]
    },
    {
     "name": "stdout",
     "output_type": "stream",
     "text": [
      "String converted to list is: ['h', 'e', 'l', 'l', 'o']\n"
     ]
    }
   ],
   "source": [
    "#40. Convert a string to a list of characters.\n",
    "\n",
    "#Asking user to enter the input\n",
    "str1 = input(\"Enter your sentence\")\n",
    "\n",
    "#using list constructor to covert list\n",
    "li = list(str1)\n",
    "\n",
    "##printing the result \n",
    "print(\"String converted to list is:\",li)"
   ]
  },
  {
   "cell_type": "code",
   "execution_count": 10,
   "id": "5c0fc1cf-1e0c-4ef0-95ab-a80116714198",
   "metadata": {},
   "outputs": [
    {
     "name": "stdin",
     "output_type": "stream",
     "text": [
      "Enter your first sentence silent\n",
      "Enter your second sentence listen\n"
     ]
    },
    {
     "name": "stdout",
     "output_type": "stream",
     "text": [
      "Strings are anagrams\n"
     ]
    }
   ],
   "source": [
    "#41. Check if two strings are anagrams.\n",
    "\n",
    "#Asking user to enter the input\n",
    "str1 = input(\"Enter your first sentence\")\n",
    "str2 = input(\"Enter your second sentence\")\n",
    "\n",
    "#converting strings to lowercase\n",
    "new_str1 = str1.lower()\n",
    "new_str2 = str2.lower()\n",
    "\n",
    "#checking if length and sorted elements of string are equal or not\n",
    "if len(new_str1) == len(new_str2) :\n",
    "    \n",
    "    if sorted(new_str1) == sorted(new_str2) : \n",
    "        \n",
    "        print(\"Strings are anagrams\")\n",
    "        \n",
    "    else :\n",
    "        \n",
    "        print(\"strings are not anagrams\")\n",
    "else :\n",
    "    \n",
    "    print(\"strings are not anagrams\")\n",
    "    \n",
    "        "
   ]
  },
  {
   "cell_type": "code",
   "execution_count": 4,
   "id": "670d2eb2-a3d0-46ac-b03f-11ef49a5cdd5",
   "metadata": {},
   "outputs": [
    {
     "name": "stdin",
     "output_type": "stream",
     "text": [
      "enter the string abc\n",
      "enter the number of shifts 3\n"
     ]
    },
    {
     "name": "stdout",
     "output_type": "stream",
     "text": [
      "Text  : abc\n",
      "Shift : 3\n",
      "Cipher: def\n"
     ]
    }
   ],
   "source": [
    "\n",
    "#42. Encode a string using a Caesar cipher.\n",
    "\n",
    "#defining function to encode a ceaser cipher\n",
    "def encrypt(text,s):\n",
    "    result = \"\"\n",
    " \n",
    "    # traverse text\n",
    "    for i in range(len(text)):\n",
    "        char = text[i]\n",
    " \n",
    "        # Encrypt uppercase characters\n",
    "        if (char.isupper()):\n",
    "            result += chr((ord(char) + s-65) % 26 + 65)\n",
    " \n",
    "        # Encrypt lowercase characters\n",
    "        else:\n",
    "            result += chr((ord(char) + s - 97) % 26 + 97)\n",
    " \n",
    "    return result\n",
    " \n",
    "#check the above function\n",
    "text = input(\"enter the string\")\n",
    "s = int(input(\"enter the number of shifts\"))\n",
    "print (\"Text  : \" + text)\n",
    "print (\"Shift : \" + str(s))\n",
    "print (\"Cipher: \" + encrypt(text,s))"
   ]
  },
  {
   "cell_type": "code",
   "execution_count": 3,
   "id": "43772547-c199-4ade-9741-5e1d16e6c20a",
   "metadata": {},
   "outputs": [
    {
     "name": "stdin",
     "output_type": "stream",
     "text": [
      "enter the string ghi\n",
      "enter the number of shifts 3\n"
     ]
    },
    {
     "name": "stdout",
     "output_type": "stream",
     "text": [
      "Text  : ghi\n",
      "Shift : 3\n",
      "Cipher: def\n"
     ]
    }
   ],
   "source": [
    "#\n",
    "#42. Decode a string using a Caesar cipher.\n",
    "\n",
    "#defining function to decode a ceaser cipher\n",
    "def decode(text,s):\n",
    "    result = \"\"\n",
    " \n",
    "    # traverse text\n",
    "    for i in range(len(text)):\n",
    "        char = text[i]\n",
    " \n",
    "        # decrypt uppercase characters\n",
    "        if (char.isupper()):\n",
    "            result += chr((ord(char) - s-65) % 26 + 65)\n",
    " \n",
    "        # Decrypt lowercase characters\n",
    "        else:\n",
    "            result += chr((ord(char) - s - 97) % 26 + 97)\n",
    " \n",
    "    return result\n",
    " \n",
    "#check the above function\n",
    "text = input(\"enter the string\")\n",
    "s = int(input(\"enter the number of shifts\"))\n",
    "print (\"Text  : \" + text)\n",
    "print (\"Shift : \" + str(s))\n",
    "print (\"Cipher: \" + decode(text,s))"
   ]
  },
  {
   "cell_type": "code",
   "execution_count": 30,
   "id": "026bb271-63fe-43a9-9493-1b3d6905a231",
   "metadata": {},
   "outputs": [
    {
     "name": "stdin",
     "output_type": "stream",
     "text": [
      "enter the string how are are you you doing\n"
     ]
    },
    {
     "name": "stdout",
     "output_type": "stream",
     "text": [
      "you\n"
     ]
    }
   ],
   "source": [
    "#44. Find the most frequent word in a string.\n",
    "\n",
    "#Asking user to enter the input\n",
    "str1 = input(\"enter the string\") \n",
    "li = str1.split()\n",
    "\n",
    "#creating a empty dictionary\n",
    "d = {}\n",
    "#using loop to find most frequent word in string\n",
    "for i in li :\n",
    "    \n",
    "    if i in d:\n",
    "        \n",
    "        d[i] += 1\n",
    "        \n",
    "    else :\n",
    "        \n",
    "        d[i] = 1\n",
    "        \n",
    "#printing the result    \n",
    "print(max(d.keys()))\n"
   ]
  },
  {
   "cell_type": "code",
   "execution_count": 4,
   "id": "f79eac53-0b74-4e61-ab92-d41b49e9d67d",
   "metadata": {},
   "outputs": [
    {
     "name": "stdin",
     "output_type": "stream",
     "text": [
      "enter the string yes yes am going to do it \n"
     ]
    },
    {
     "name": "stdout",
     "output_type": "stream",
     "text": [
      "{'yes', 'going', 'am', 'do', 'to', 'it'}\n"
     ]
    }
   ],
   "source": [
    "#45. Find all unique words in a string.\n",
    "\n",
    "#Asking user to enter the input\n",
    "str1 = input(\"enter the string\")\n",
    "\n",
    "#splitting the string and converting it to set to eliminate dupliactes\n",
    "uniq_str = set(str1.split())\n",
    "\n",
    "#Printing the result\n",
    "print(\"unique words in string are \",uniq_str)\n",
    "\n"
   ]
  },
  {
   "cell_type": "code",
   "execution_count": 1,
   "id": "6e3e1e00-2ae8-4126-9c2b-763d84b901af",
   "metadata": {},
   "outputs": [
    {
     "name": "stdin",
     "output_type": "stream",
     "text": [
      "enter the string reading\n"
     ]
    },
    {
     "name": "stdout",
     "output_type": "stream",
     "text": [
      "Syallable count is: 3\n"
     ]
    }
   ],
   "source": [
    "#46. Count the number of syllables in a string.\n",
    "\n",
    "#Asking user to enter the input\n",
    "str1 = input(\"enter the string\")\n",
    "\n",
    "#defining a variable and assigning value\n",
    "syllable_count = 0\n",
    "\n",
    "#using loop to count number of syallables\n",
    "for i in str1.lower() :\n",
    "    \n",
    "    if i in 'aieouy' :\n",
    "        \n",
    "        syllable_count += 1\n",
    "        \n",
    "print(\"Syallable count is:\",syllable_count)\n",
    "    "
   ]
  },
  {
   "cell_type": "code",
   "execution_count": 42,
   "id": "54e4f919-ba79-4a15-884e-62795111b79d",
   "metadata": {},
   "outputs": [
    {
     "name": "stdin",
     "output_type": "stream",
     "text": [
      "enter the string \"We are the so-called \\\"Vikings\\\" from the north.\"\n"
     ]
    },
    {
     "name": "stdout",
     "output_type": "stream",
     "text": [
      "String contains special chararcters\n"
     ]
    }
   ],
   "source": [
    "#47. Check if a string contains any special characters.\n",
    "\n",
    "#Asking user to enter the input\n",
    "str1 = input(\"enter the string\")\n",
    "\n",
    "#special characters in general\n",
    "sp_char = (\"\\' , \\\" ,\\\\ , \\t , \\n\")\n",
    "\n",
    "#checking if string has special characters\n",
    "if i in sp_char :\n",
    "           \n",
    "         print(\"String contains special chararcters\")\n",
    "else : \n",
    "           print(\"String do not have any special chararcters\")      "
   ]
  },
  {
   "cell_type": "code",
   "execution_count": 12,
   "id": "94169e4b-d194-4edf-92aa-e87764f4b5bb",
   "metadata": {},
   "outputs": [
    {
     "name": "stdin",
     "output_type": "stream",
     "text": [
      "enter the string how are you\n",
      "enter the word to be removed 2\n"
     ]
    },
    {
     "name": "stdout",
     "output_type": "stream",
     "text": [
      "values in list are :  ['how', 'are', 'you']\n",
      "how are\n"
     ]
    }
   ],
   "source": [
    "#48. Remove the nth word from a string.\n",
    "\n",
    "#Asking user to enter the input\n",
    "str1 = input(\"enter the string\")\n",
    "word = int(input(\"enter the word to be removed\"))\n",
    "\n",
    "#converting string to list \n",
    "\n",
    "li = list(str1.split())\n",
    "\n",
    "print(\"values in list are : \", li)\n",
    "\n",
    " # deleting the word using pop function at specific index or you can delete specific letter\n",
    "remove_word = li.pop(word)     \n",
    "\n",
    " # converting list to string by using join function and stroing it in new variable\n",
    "new_str = \" \".join(li)         \n",
    "\n",
    "#Printing the result\n",
    "print(\"after removing word at specific index is \" , new_str)\n",
    " "
   ]
  },
  {
   "cell_type": "code",
   "execution_count": 14,
   "id": "8dd7049a-e41d-4a62-b4db-3f98880f5016",
   "metadata": {},
   "outputs": [
    {
     "name": "stdin",
     "output_type": "stream",
     "text": [
      "enter the string String do not have special chararcters\n",
      "enter the word to be added any\n",
      "enter the position where you wanted to add the string 4\n"
     ]
    },
    {
     "name": "stdout",
     "output_type": "stream",
     "text": [
      "values in list are :  ['String', 'do', 'not', 'have', 'special', 'chararcters']\n",
      "after removing word at specific index is  String do not have any special chararcters\n"
     ]
    }
   ],
   "source": [
    "# 49.Insert a word at the nth position in a string.\n",
    "\n",
    "#Asking user to enter the input\n",
    "str1 = input(\"enter the string\")\n",
    "word = input(\"enter the word to be added\")\n",
    "position = int(input(\"enter the position where you wanted to add the string\"))\n",
    "\n",
    "#converting string to list \n",
    "\n",
    "li = list(str1.split())\n",
    "\n",
    "print(\"values in list are : \", li)\n",
    "\n",
    "# adding the word using insert function at specific index \n",
    "add_word = li.insert(position,word) \n",
    "\n",
    "print(\"values in list after adding are : \", li)\n",
    "\n",
    "new_str = \" \".join(li)          # converting list to string by using join function and stroing it in new variable\n",
    "\n",
    "print(\"after removing word at specific index is :\" , new_str)\n",
    "\n",
    "\n"
   ]
  },
  {
   "cell_type": "code",
   "execution_count": 2,
   "id": "255f61af-6dc4-4384-aeec-0bced9b004b7",
   "metadata": {},
   "outputs": [
    {
     "name": "stdout",
     "output_type": "stream",
     "text": [
      "['Name', ' Age', ' Country']\n",
      "['John', ' 25', ' USA']\n",
      "['Alice', ' 30', ' Canada']\n",
      "['Bob', ' 22', ' UK']\n"
     ]
    }
   ],
   "source": [
    "#50.Convert a CSV string to a list of lists.\n",
    "\n",
    "def csv_string_to_list(csv_string):\n",
    "    # Split the CSV string into lines\n",
    "    lines = csv_string.split('\\n')\n",
    "\n",
    "    # Initialize an empty list to store the result\n",
    "    result = []\n",
    "\n",
    "    for line in lines:\n",
    "        # Split each line into fields using comma as the delimiter\n",
    "        fields = line.split(',')\n",
    "\n",
    "        # Append the fields to the result list as a row\n",
    "        result.append(fields)\n",
    "\n",
    "    return result\n",
    "\n",
    "# Example CSV string\n",
    "csv_data = \"Name, Age, Country\\nJohn, 25, USA\\nAlice, 30, Canada\\nBob, 22, UK\"\n",
    "\n",
    "# Convert CSV string to a list of lists\n",
    "list_of_lists = csv_string_to_list(csv_data)\n",
    "\n",
    "# Print the result\n",
    "for row in list_of_lists:\n",
    "    print(row)"
   ]
  },
  {
   "cell_type": "code",
   "execution_count": null,
   "id": "23e38c4d-2e8e-4987-8858-645a5ccce512",
   "metadata": {},
   "outputs": [],
   "source": []
  }
 ],
 "metadata": {
  "kernelspec": {
   "display_name": "Python 3 (ipykernel)",
   "language": "python",
   "name": "python3"
  },
  "language_info": {
   "codemirror_mode": {
    "name": "ipython",
    "version": 3
   },
   "file_extension": ".py",
   "mimetype": "text/x-python",
   "name": "python",
   "nbconvert_exporter": "python",
   "pygments_lexer": "ipython3",
   "version": "3.10.8"
  },
  "toc-autonumbering": false,
  "toc-showcode": false,
  "toc-showtags": true
 },
 "nbformat": 4,
 "nbformat_minor": 5
}
