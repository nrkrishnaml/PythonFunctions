{
 "cells": [
  {
   "cell_type": "code",
   "execution_count": 4,
   "id": "b56b281f-43f2-457b-b57f-582a5f219221",
   "metadata": {},
   "outputs": [
    {
     "name": "stdout",
     "output_type": "stream",
     "text": [
      "sum of all numbers in list is: 10\n"
     ]
    }
   ],
   "source": [
    "#2. Create a program that calculates the sum of all numbers in a list using a `for` loop.\n",
    "\n",
    "\n",
    "#declaring a list\n",
    "my_list =[1,2,3,4]\n",
    "#declaring count variable\n",
    "count =0\n",
    "\n",
    "#using for loop to caluculate sum of all numbers\n",
    "\n",
    "for i in my_list:\n",
    "    count = count + i\n",
    "print(\"sum of all numbers in list is:\",count)"
   ]
  },
  {
   "cell_type": "code",
   "execution_count": 2,
   "id": "66d9bac7-6e56-4096-aca8-aea04d7389fe",
   "metadata": {},
   "outputs": [
    {
     "name": "stdout",
     "output_type": "stream",
     "text": [
      "1 2 3 4 5 6 7 8 9 10 "
     ]
    }
   ],
   "source": [
    "#1. Write a Python program to print the numbers from 1 to 10 using a `for` loop.\n",
    "\n",
    "#printing numbers from 1 to 10.\n",
    "for i in range(1,11):\n",
    "    print(i,end =\" \")"
   ]
  },
  {
   "cell_type": "code",
   "execution_count": 8,
   "id": "8110fbcb-ef56-49c0-af40-951ccaddffdc",
   "metadata": {},
   "outputs": [
    {
     "name": "stdout",
     "output_type": "stream",
     "text": [
      "Printing the string in reverse order: ereht dna ereh\n"
     ]
    }
   ],
   "source": [
    "#3. Write a program to print the characters of a string in reverse order using a `for` loop.\n",
    "\n",
    "#declaring string and empty string\n",
    "str1 = 'here and there'\n",
    "rev_str = \"\"\n",
    "\n",
    "#Using for loop to print the characters of a string in reverse order\n",
    "for i in str1:\n",
    "    rev_str = i + rev_str\n",
    "print(\"Printing the string in reverse order:\",rev_str)"
   ]
  },
  {
   "cell_type": "code",
   "execution_count": 10,
   "id": "1aa0dedd-acfe-454c-9d3e-c1c6ace3563f",
   "metadata": {},
   "outputs": [
    {
     "data": {
      "text/plain": [
       "120"
      ]
     },
     "execution_count": 10,
     "metadata": {},
     "output_type": "execute_result"
    }
   ],
   "source": [
    "#4. Develop a program that finds the factorial of a given number using a `for` loop.\n",
    "\n",
    "#program to finding the factorial of a number\n",
    "def fact(n):\n",
    "    \n",
    "    factorial = 1\n",
    "\n",
    "#Checking the number based on the values of n\n",
    "    if n < 0 :\n",
    "        print(\"Number is negative\")\n",
    "        \n",
    "    elif n == 0:\n",
    "        print(\"Factorial of zero is 1\")\n",
    "        \n",
    "    else:\n",
    "        \n",
    "        for i in range(1,n+1):\n",
    "            \n",
    "            factorial  = factorial * i\n",
    "    return factorial\n",
    "\n",
    "#Driver code\n",
    "#Calling the function\n",
    "fact(5)\n",
    "        \n",
    "    "
   ]
  },
  {
   "cell_type": "code",
   "execution_count": 4,
   "id": "70c864b0-2b38-48d4-9a85-3cfdb27051d4",
   "metadata": {},
   "outputs": [
    {
     "name": "stdin",
     "output_type": "stream",
     "text": [
      "enter a number 5\n"
     ]
    },
    {
     "name": "stdout",
     "output_type": "stream",
     "text": [
      "5 10 15 20 25 30 35 40 45 50 "
     ]
    }
   ],
   "source": [
    "#5. Create a program to print the multiplication table of a given number using a `for` loop.\n",
    " \n",
    "\n",
    "#number to get multiples\n",
    "n = int(input(\"enter a number\"))\n",
    "\n",
    "#using for loop to print multiples of given number\n",
    "\n",
    "for i in range(1,11):\n",
    "    print(n * i ,end = \" \")"
   ]
  },
  {
   "cell_type": "code",
   "execution_count": 1,
   "id": "f14e445a-e42f-4636-af58-5d3a404d03b2",
   "metadata": {},
   "outputs": [
    {
     "name": "stdout",
     "output_type": "stream",
     "text": [
      "Even numbers count is: 4\n",
      "Odd numbers count is : 5\n"
     ]
    }
   ],
   "source": [
    "#6. Write a program that counts the number of even and odd numbers in a list using a `for` loop.\n",
    "\n",
    "#Defining list\n",
    "my_list =[1,2,3,4,5,6,7,8,9]\n",
    "\n",
    "#Defining variables to store the count of even and odd\n",
    "\n",
    "even_count = 0\n",
    "odd_count = 0\n",
    "\n",
    "#Using loop to count even and odd numbers\n",
    "\n",
    "for i in my_list:\n",
    "    \n",
    "    if i % 2 == 0:\n",
    "        even_count += 1\n",
    "        \n",
    "    else:\n",
    "        \n",
    "        odd_count += 1\n",
    "\n",
    "#printing the result\n",
    "print(\"Even numbers count is:\", even_count)\n",
    "print(\"Odd numbers count is :\",odd_count)"
   ]
  },
  {
   "cell_type": "code",
   "execution_count": 3,
   "id": "cade3a20-d262-423b-9216-e7c57dd01f0c",
   "metadata": {},
   "outputs": [
    {
     "name": "stdout",
     "output_type": "stream",
     "text": [
      "1 4 9 16 25 "
     ]
    }
   ],
   "source": [
    "#7. Develop a program that prints the squares of numbers from 1 to 5 using a `for` loop.\n",
    "\n",
    "\n",
    "#program to print the squares\n",
    "\n",
    "for i in range(1,6):\n",
    "    \n",
    "    i = i**2\n",
    "    #printing the squares of number\n",
    "    print(i , end =\" \")"
   ]
  },
  {
   "cell_type": "code",
   "execution_count": 8,
   "id": "9b3e4a74-64b4-4174-92e5-a8a572e8ebec",
   "metadata": {},
   "outputs": [
    {
     "name": "stdout",
     "output_type": "stream",
     "text": [
      "Length of the string is: 12\n"
     ]
    }
   ],
   "source": [
    "#8. Create a program to find the length of a string without using the `len()` function.\n",
    "\n",
    "#defining string and initilaizing variable to store count\n",
    "str1 =\"Data Science\"\n",
    "count = 0\n",
    "\n",
    "#Converting string to list\n",
    "my_list = list(str1)\n",
    "\n",
    "#Using for loop to find length of string\n",
    "for i in my_list:\n",
    "    count += 1\n",
    "    \n",
    "print(\"Length of the string is:\",count)\n"
   ]
  },
  {
   "cell_type": "code",
   "execution_count": 12,
   "id": "7c25dd3b-9915-4d98-8d83-90773c6976f7",
   "metadata": {},
   "outputs": [
    {
     "name": "stdout",
     "output_type": "stream",
     "text": [
      "Average of numbers in list is : 22\n"
     ]
    }
   ],
   "source": [
    "#9. Write a program that calculates the average of a list of numbers using a `for` loop.\n",
    "\n",
    "#Defininf list\n",
    "my_list = [1,2,3,4,5,6,7,8,9]\n",
    "\n",
    "#Declaring variable to find average\n",
    "avg_count = 0\n",
    "\n",
    "#Using loop to caluculate average of numbers in list\n",
    "for i in my_list:\n",
    "    avg_count = avg_count + i\n",
    "    \n",
    "print(\"Average of numbers in list is :\",avg_count//2)\n",
    "    "
   ]
  },
  {
   "cell_type": "code",
   "execution_count": 2,
   "id": "51c03bbd-9b4d-4225-bcf1-4af7c169e7c7",
   "metadata": {},
   "outputs": [
    {
     "name": "stdout",
     "output_type": "stream",
     "text": [
      "0 1 1 2 3 5 8 13 21 34 "
     ]
    }
   ],
   "source": [
    "#10. Develop a program that prints the first `n` Fibonacci numbers using a `for` loop.\n",
    "\n",
    "def fibonacci(n):\n",
    "  if n == 0:\n",
    "    return 0\n",
    "  elif n == 1:\n",
    "    return 1\n",
    "  else:\n",
    "    return fibonacci(n-1) + fibonacci(n-2)\n",
    "\n",
    "# Generate the first 10 numbers in the Fibonacci series\n",
    "for i in range(10):\n",
    "  print(fibonacci(i), end = \" \")"
   ]
  },
  {
   "cell_type": "code",
   "execution_count": 1,
   "id": "75d384b9-8708-4fcf-ac3e-76718ee9f639",
   "metadata": {},
   "outputs": [
    {
     "name": "stdout",
     "output_type": "stream",
     "text": [
      "List contains dupliactes\n"
     ]
    }
   ],
   "source": [
    "#11. Write a program to check if a given list contains any duplicates using a `for` loop.\n",
    "\n",
    "#Defining list with values and empty list\n",
    "my_list =[1,2,3,2,1]\n",
    "new_list =[]\n",
    "\n",
    "#using loop to determine if list ha duplicates or not\n",
    "for i in my_list:\n",
    "   if i not in new_list:\n",
    "    new_list.append(i)\n",
    "if len(my_list) == len(new_list):\n",
    "    print(\"List does not have any duplicates\")   \n",
    "else:\n",
    "    print(\"List contains dupliactes\")"
   ]
  },
  {
   "cell_type": "code",
   "execution_count": 2,
   "id": "bb4775cd-a7ed-44a9-b487-fdeb2b498180",
   "metadata": {},
   "outputs": [
    {
     "name": "stdin",
     "output_type": "stream",
     "text": [
      "enter the starting number 1\n",
      "enter the last number 15\n"
     ]
    },
    {
     "name": "stdout",
     "output_type": "stream",
     "text": [
      "1 2 3 5 7 11 13 "
     ]
    }
   ],
   "source": [
    "#12. Create a program that prints the prime numbers in a given range using a `for` loop.\n",
    "\n",
    "#Asking user to enter the input \n",
    "start = int(input(\"enter the starting number\"))\n",
    "end  = int(input(\"enter the last number\"))\n",
    "\n",
    "#Printing the prime numbers in the given range\n",
    "for i in range(start,end+1):\n",
    "    flag = 0\n",
    "    for j in range(2,i):\n",
    "        if (i% j == 0):\n",
    "            flag =1\n",
    "            break       \n",
    "    if flag == 0:\n",
    "        print(i,end =' ')"
   ]
  },
  {
   "cell_type": "code",
   "execution_count": 5,
   "id": "17902f1b-ae21-4b8b-b163-5440237942b9",
   "metadata": {},
   "outputs": [
    {
     "name": "stdout",
     "output_type": "stream",
     "text": [
      "Number of vowels in string is: 5\n"
     ]
    }
   ],
   "source": [
    "#13. Develop a program that counts the number of vowels in a string using a `for` loop.\n",
    "\n",
    "#Defining the string and variable assigning value zero\n",
    "str1 = \"number of vowels\"\n",
    "vowel_count = 0\n",
    "\n",
    "#Finding the number of vowels count\n",
    "for i in str1:\n",
    "    if i in 'aeiou':\n",
    "        vowel_count += 1\n",
    "print(\"Number of vowels in string is:\",vowel_count)"
   ]
  },
  {
   "cell_type": "code",
   "execution_count": 13,
   "id": "ec666f74-a0f7-40fa-a414-9a0bc80d1ca9",
   "metadata": {},
   "outputs": [
    {
     "name": "stdout",
     "output_type": "stream",
     "text": [
      "56\n"
     ]
    }
   ],
   "source": [
    "#14. Write a program to find the maximum element in a 2D list using a nested `for` loop.\n",
    "\n",
    "#Defining lists\n",
    "my_list = [[1],[2],[3,4,56]]\n",
    "my_list1 = []\n",
    "\n",
    "#Finding the maximum element in the 2D list\n",
    "for sublist in my_list:\n",
    "    for i in sublist:\n",
    "         my_list1.append(i)\n",
    "print(max(my_list1))\n",
    "        "
   ]
  },
  {
   "cell_type": "code",
   "execution_count": 33,
   "id": "6c98032c-079c-4aa9-b29e-4ea1c847b8c9",
   "metadata": {},
   "outputs": [
    {
     "name": "stdin",
     "output_type": "stream",
     "text": [
      "Enter the element to be removed 2\n"
     ]
    },
    {
     "name": "stdout",
     "output_type": "stream",
     "text": [
      "Remaining elements in list after removing elements : [1, 3, 1]\n"
     ]
    }
   ],
   "source": [
    "#15. Create a program that removes all occurrences of a specific element from a list using a `for` loop.\n",
    "\n",
    "#Asking user to enter the input\n",
    "n = int(input(\"Enter the element to be removed\"))\n",
    "#defining the list \n",
    "my_list =[1,2,3,2,1,2]\n",
    "\n",
    "#removing specific elements in list\n",
    "for i in my_list:\n",
    "    if i == n:\n",
    "        my_list.remove(i)\n",
    "print(\"Remaining elements in list after removing elements :\",my_list)\n",
    "        "
   ]
  },
  {
   "cell_type": "code",
   "execution_count": 40,
   "id": "d26a4a9b-b170-48e7-84d9-733f010b0fc5",
   "metadata": {},
   "outputs": [
    {
     "name": "stdout",
     "output_type": "stream",
     "text": [
      "1 *  1 = 1\n",
      "1 *  2 = 2\n",
      "1 *  3 = 3\n",
      "1 *  4 = 4\n",
      "1 *  5 = 5\n",
      "2 *  1 = 2\n",
      "2 *  2 = 4\n",
      "2 *  3 = 6\n",
      "2 *  4 = 8\n",
      "2 *  5 = 10\n",
      "3 *  1 = 3\n",
      "3 *  2 = 6\n",
      "3 *  3 = 9\n",
      "3 *  4 = 12\n",
      "3 *  5 = 15\n",
      "4 *  1 = 4\n",
      "4 *  2 = 8\n",
      "4 *  3 = 12\n",
      "4 *  4 = 16\n",
      "4 *  5 = 20\n",
      "5 *  1 = 5\n",
      "5 *  2 = 10\n",
      "5 *  3 = 15\n",
      "5 *  4 = 20\n",
      "5 *  5 = 25\n"
     ]
    }
   ],
   "source": [
    "#16. Develop a program that generates a multiplication table for numbers from 1 to 5 using a nested `for` loop.\n",
    "\n",
    "#generating multiplication table from 1 to 5\n",
    "for i in range(1,6):\n",
    "    for j in range(1,6):\n",
    "        print(i , '* ' , j , '=',i*j)"
   ]
  },
  {
   "cell_type": "code",
   "execution_count": 45,
   "id": "0ef4ae1b-e1ba-47e0-913d-e1777ab56777",
   "metadata": {},
   "outputs": [
    {
     "name": "stdout",
     "output_type": "stream",
     "text": [
      "new celsius temperatures are: [40.0, 50.0, 36.0, 28.0]\n"
     ]
    }
   ],
   "source": [
    "#17. Write a program that converts a list of Fahrenheit temperatures to Celsius using a `for` loop.\n",
    "\n",
    "#list values with faranheit temperatures\n",
    "my_list = [105,123,98,84]\n",
    "new_list =[]\n",
    "\n",
    "#converting faranheit temperatures to celsius\n",
    "for i in my_list:\n",
    "    c  = (i -32)//1.8\n",
    "    new_list.append(c)\n",
    "print(\"new celsius temperatures are:\",new_list)"
   ]
  },
  {
   "cell_type": "code",
   "execution_count": 7,
   "id": "43d62693-5292-4ad1-b803-1413668255d8",
   "metadata": {},
   "outputs": [
    {
     "name": "stdout",
     "output_type": "stream",
     "text": [
      "1 5 "
     ]
    }
   ],
   "source": [
    "#18. Create a program to print the common elements from two lists using a `for` loop.\n",
    "\n",
    "#defining lists\n",
    "list1 = [1,2,3,4,5]\n",
    "list2 = [5,6,7,8,1]\n",
    "\n",
    "#printing common elements in two lists\n",
    "for i in list1:\n",
    "    if i in list2:\n",
    "        print(i ,end = \" \")"
   ]
  },
  {
   "cell_type": "code",
   "execution_count": 14,
   "id": "e513385b-2afd-4594-b4ae-eef20efe82f0",
   "metadata": {},
   "outputs": [
    {
     "name": "stdin",
     "output_type": "stream",
     "text": [
      "Enter the number of rows to be printed: 5\n"
     ]
    },
    {
     "name": "stdout",
     "output_type": "stream",
     "text": [
      "* \n",
      "* * \n",
      "* * * \n",
      "* * * * \n",
      "* * * * * \n"
     ]
    }
   ],
   "source": [
    "#19. Develop a program that prints the pattern of right-angled triangles using a `for` loop. Use ‘*’ to draw the pattern\n",
    "\n",
    "rows = int(input(\"Enter the number of rows to be printed:\"))\n",
    "\n",
    "#Printing the * pattern right angle traingle\n",
    "for i in range(1,rows+1):\n",
    "    for j in range(1,i+1):\n",
    "        print('*',end = \" \")\n",
    "    print()"
   ]
  },
  {
   "cell_type": "code",
   "execution_count": 5,
   "id": "44491160-f0d7-40b0-b7c9-2900f1dd2728",
   "metadata": {},
   "outputs": [
    {
     "name": "stdout",
     "output_type": "stream",
     "text": [
      "8\n"
     ]
    }
   ],
   "source": [
    "#20. Write a program to find the greatest common divisor (GCD) of two numbers using a `for` loop.\n",
    "\n",
    "#Function to \n",
    "def gcd_num(a,b):\n",
    "    \n",
    "    if a > b :\n",
    "        num = b\n",
    "    else:\n",
    "        num =a\n",
    "        \n",
    "    for i in range(1,num+1):\n",
    "        if((a%i == 0) and (b%i == 0)):\n",
    "            gcd =i\n",
    "    return gcd\n",
    "\n",
    "find_gcd = gcd_num(24,56)\n",
    "print(find_gcd)"
   ]
  },
  {
   "cell_type": "code",
   "execution_count": 2,
   "id": "7d144d16-74ef-4de3-872f-2b8841c0e179",
   "metadata": {},
   "outputs": [
    {
     "name": "stdout",
     "output_type": "stream",
     "text": [
      "[3, 7, 11, 15]\n"
     ]
    }
   ],
   "source": [
    "#21. Create a program that calculates the sum of the digits of numbers in a list using a list comprehension.\n",
    "\n",
    "# Python program to find sum of number digits\n",
    "\n",
    "# Method to find the sum of number digits \n",
    "def sumDigits(num):\n",
    "  if num == 0:\n",
    "    return 0\n",
    "  else:\n",
    "    return num % 10 + sumDigits(int(num / 10))\n",
    "    \n",
    "myList = [12,34,56,78]\n",
    "\n",
    "digitSumList = []\n",
    "for ele in myList:\n",
    "    digitSum = sumDigits(ele)\n",
    "    digitSumList.append(digitSum)\n",
    "x =0      \n",
    "total_sum = [x+i for i in digitSumList]\n",
    "print(total_sum)"
   ]
  },
  {
   "cell_type": "code",
   "execution_count": 7,
   "id": "c86ca4f1-882e-470a-9267-5388e8db4e30",
   "metadata": {},
   "outputs": [
    {
     "name": "stdin",
     "output_type": "stream",
     "text": [
      "Enter the number for calculating the prime factors :\n",
      " 45\n"
     ]
    },
    {
     "name": "stdout",
     "output_type": "stream",
     "text": [
      "3 5 "
     ]
    }
   ],
   "source": [
    "#22. Write a program to find the prime factors of a given number using a `for` loop and list comprehension.\n",
    "\n",
    "#program to print prime factors \n",
    "\n",
    "#using for loop\n",
    " \n",
    "n = int(input(\"Enter the number for calculating the prime factors :\\n\"))\n",
    "for i in range(2,n + 1):\n",
    "    if n % i == 0:\n",
    "        count = 1\n",
    "        for j in range(2,(i//2 + 1)):\n",
    "            if(i % j == 0):\n",
    "                count = 0\n",
    "                break\n",
    "        if(count == 1):\n",
    "            print(i , end = \" \")"
   ]
  },
  {
   "cell_type": "code",
   "execution_count": 18,
   "id": "c52e29ab-c6e0-4ddb-aa7b-fefbef9450ba",
   "metadata": {},
   "outputs": [
    {
     "name": "stdout",
     "output_type": "stream",
     "text": [
      "Unique elements in the list are: [1, 2, 3]\n"
     ]
    }
   ],
   "source": [
    "#23.Develop a program that extracts unique elements from a list and stores them in a new list using a list comprehension.\n",
    "\n",
    "#program to extract unique elements in new list\n",
    "\n",
    "#Defining two lists\n",
    "my_list = [1,2,3,1,3]\n",
    "uniq_list =[]\n",
    "\n",
    "#Using list comprehension method to add elements to new list\n",
    "l = [uniq_list.append(i) for i in my_list if i not in uniq_list]\n",
    "print(\"Unique elements in the list are:\",uniq_list)"
   ]
  },
  {
   "cell_type": "code",
   "execution_count": 5,
   "id": "66fb35b4-39b9-420d-afa3-7332f8b51e33",
   "metadata": {},
   "outputs": [
    {
     "data": {
      "text/plain": [
       "[11, 22, 33, 44, 55, 66, 77, 88, 99]"
      ]
     },
     "execution_count": 5,
     "metadata": {},
     "output_type": "execute_result"
    }
   ],
   "source": [
    "#24.Create a program that generates a list of all palindromic numbers up to a specified limit using a list comprehension.\n",
    "startrange =  10\n",
    "endrange = 100\n",
    "def isPalindrome(n):\n",
    " \n",
    "    # Find reverse of n\n",
    "    rev = 0\n",
    "    i = n\n",
    "    while i > 0:\n",
    "        rev = rev * 10 + i % 10\n",
    "        i //= 10\n",
    " \n",
    "    # If n and rev are same, \n",
    "    # then n is palindrome\n",
    "    return (n == rev)\n",
    "\n",
    "palindromelist =[i for i in range(startrange,endrange) if isPalindrome(i) == True and i>10 ]\n",
    "palindromelist"
   ]
  },
  {
   "cell_type": "code",
   "execution_count": 1,
   "id": "46f9d064-10f9-4615-9593-1387a3ac4258",
   "metadata": {},
   "outputs": [
    {
     "name": "stdout",
     "output_type": "stream",
     "text": [
      "[1, 2, 3, 4, 5, 6, 7]\n"
     ]
    }
   ],
   "source": [
    "#25. Write a program to flatten a nested list using list comprehension.\n",
    "\n",
    "#defining list\n",
    "my_list = [[1], [2, 3], [4, 5, 6, 7]]\n",
    "\n",
    "#Flattening nested list\n",
    "flat_list = [num for sublist in my_list for num in sublist]\n",
    "print(flat_list)"
   ]
  },
  {
   "cell_type": "code",
   "execution_count": 23,
   "id": "3dc99603-0569-448c-b616-251bf72216cb",
   "metadata": {},
   "outputs": [
    {
     "name": "stdout",
     "output_type": "stream",
     "text": [
      "Sum of even numbers in list: 12\n",
      "Sum of odd numbers in list: 16\n"
     ]
    }
   ],
   "source": [
    "#26. Develop a program that computes the sum of even and odd numbers in a list separately using listcomprehension.\n",
    "\n",
    "#Defining list and declaring count variables\n",
    "my_list = [1,2,3,4,5,6,7]\n",
    "c_even = 0 \n",
    "c_odd = 0\n",
    "\n",
    "#computing sum of eben and odd numbers in list\n",
    "even_count = sum([i for i in my_list if i%2 == 0])\n",
    "print(\"Sum of even numbers in list:\",even_count)\n",
    "odd_count = ([c_odd :=c_odd+i for i in my_list if i%2 != 0])\n",
    "print(\"Sum of odd numbers in list:\",c_odd)"
   ]
  },
  {
   "cell_type": "code",
   "execution_count": 26,
   "id": "da490748-2822-4217-890f-9dfd349533e7",
   "metadata": {},
   "outputs": [
    {
     "name": "stdout",
     "output_type": "stream",
     "text": [
      "Squares of odd numbers between 1 to 10 is: [1, 9, 25, 49, 81]\n"
     ]
    }
   ],
   "source": [
    "#27. Create a program that generates a list of squares of odd numbers between 1 and 10 using list comprehension.\n",
    "\n",
    "#Defining empty list\n",
    "my_list = []\n",
    "\n",
    "#Generating list of squares of odd numbers\n",
    "odd_square = [my_list.append(i**2) for i in range(1,11) if i%2 != 0]\n",
    "\n",
    "print(\"Squares of odd numbers between 1 to 10 is:\",my_list)"
   ]
  },
  {
   "cell_type": "code",
   "execution_count": 29,
   "id": "10bb9800-7968-462e-b1fb-caefb4f1e7ec",
   "metadata": {},
   "outputs": [
    {
     "name": "stdout",
     "output_type": "stream",
     "text": [
      "{1: 'python', 2: 'c', 3: 'c++'}\n"
     ]
    }
   ],
   "source": [
    "#28. Write a program that combines two lists into a dictionary using list comprehension.\n",
    "\n",
    "my_list1 = [1, 2, 3]\n",
    "my_list2 = ['python', 'c', 'c++','i']\n",
    "\n",
    "dictionary = {k: v for k, v in zip(my_list1,my_list2)}\n",
    "print(dictionary)\n"
   ]
  },
  {
   "cell_type": "code",
   "execution_count": 32,
   "id": "8a16e812-6841-40b9-bae5-687430cb91de",
   "metadata": {},
   "outputs": [
    {
     "name": "stdout",
     "output_type": "stream",
     "text": [
      "['o', 'a']\n"
     ]
    }
   ],
   "source": [
    "#29. Develop a program that extracts the vowels from a string and stores them in a list using list comprehension.\n",
    "\n",
    "str1 = 'program'\n",
    "my_list =[]\n",
    "        \n",
    "lst = [ my_list.append(i) for i in str1 if i in 'aeiou']\n",
    "print(my_list)"
   ]
  },
  {
   "cell_type": "code",
   "execution_count": 30,
   "id": "34a0da7a-7eaa-40ca-af01-d0f875566a5e",
   "metadata": {},
   "outputs": [
    {
     "name": "stdout",
     "output_type": "stream",
     "text": [
      "['885', '891', '890']\n"
     ]
    }
   ],
   "source": [
    "##30. Create a program that removes all non-numeric characters from a list of strings using list comprehension.\n",
    "import re\n",
    "\n",
    "my_list = ['Judy 88 5','ramya 89 1','gene 89 0']\n",
    "nc = [re.sub(r'[^0-9]', '',str(i)) for i in my_list ]\n",
    "print(nc)"
   ]
  },
  {
   "cell_type": "code",
   "execution_count": 32,
   "id": "8dd48a3c-4755-44ee-ad81-04c804490bca",
   "metadata": {},
   "outputs": [
    {
     "data": {
      "text/plain": [
       "{2,\n",
       " 3,\n",
       " 5,\n",
       " 7,\n",
       " 11,\n",
       " 13,\n",
       " 17,\n",
       " 19,\n",
       " 23,\n",
       " 29,\n",
       " 31,\n",
       " 37,\n",
       " 41,\n",
       " 43,\n",
       " 47,\n",
       " 53,\n",
       " 59,\n",
       " 61,\n",
       " 67,\n",
       " 71,\n",
       " 73,\n",
       " 79,\n",
       " 83,\n",
       " 89,\n",
       " 97}"
      ]
     },
     "execution_count": 32,
     "metadata": {},
     "output_type": "execute_result"
    }
   ],
   "source": [
    "#31 Write a program to generate a list of prime numbers using the Sieve of Eratosthenes algorithm and list comprehension.\n",
    "num = 100\n",
    "\n",
    "primelist = set(i for i in range(2,num+1))\n",
    "\n",
    "val  = set(j for i in range(2,num+1)  for j in range(i*i,num+1,i))\n",
    "\n",
    "primelist.difference(val)\n"
   ]
  },
  {
   "cell_type": "code",
   "execution_count": 33,
   "id": "b176c571-aa5b-44f3-94ae-66f919c98ac3",
   "metadata": {},
   "outputs": [
    {
     "data": {
      "text/plain": [
       "[(3, 4, 5), (5, 12, 13), (6, 8, 10), (8, 15, 17), (9, 12, 15), (12, 16, 20)]"
      ]
     },
     "execution_count": 33,
     "metadata": {},
     "output_type": "execute_result"
    }
   ],
   "source": [
    "# 32 Create a program that generates a list of all Pythagorean triplets up to a specified limit using listcomprehension.\n",
    "n =20\n",
    "[(a,b,c) for a in range(1,n+1) for b in range(a,n+1) for c in range(b,n+1) if a**2+b**2 == c**2]"
   ]
  },
  {
   "cell_type": "code",
   "execution_count": 34,
   "id": "04a7ca4c-de92-4215-a9b7-199cee5718b1",
   "metadata": {},
   "outputs": [
    {
     "data": {
      "text/plain": [
       "[(0, 1), (0, 4), (0, 9), (2, 1), (2, 4), (2, 9), (3, 1), (3, 4), (3, 9)]"
      ]
     },
     "execution_count": 34,
     "metadata": {},
     "output_type": "execute_result"
    }
   ],
   "source": [
    "#33. Develop a program that generates a list of all possible combinations of two lists using list comprehension.\n",
    "List1 = [0,2,3]\n",
    "List2 = [1, 4, 9]\n",
    "\n",
    "posibleCombinations  = [(i,j) for i in List1 for j in List2]\n",
    "posibleCombinations"
   ]
  },
  {
   "cell_type": "code",
   "execution_count": 35,
   "id": "375d4dc6-0533-4502-8c56-9570e0a11aca",
   "metadata": {},
   "outputs": [
    {
     "name": "stdout",
     "output_type": "stream",
     "text": [
      "Mean for given list of numbers is ::: [5.0]\n",
      "median for given list of numbers is ::: [5]\n",
      "Mode for given list of numbers is ::: ['No Mode Found']\n"
     ]
    }
   ],
   "source": [
    "#34. Write a program that calculates the mean, median, and mode of a list of numbers using listcomprehension.\n",
    "ListofNumbers = [1,2,3,4,5,6,7,8,9]\n",
    "\n",
    "mean  =  [sum(ListofNumbers)/len(ListofNumbers)]\n",
    "print (\"Mean for given list of numbers is ::: {}\".format(mean))\n",
    "\n",
    "ListofNumbers.sort()\n",
    "\n",
    "median = [(ListofNumbers[len(ListofNumbers)//2] + ListofNumbers[len(ListofNumbers)//2]-1)/2 if len(ListofNumbers) % 2 == 0 else ListofNumbers[len(ListofNumbers)//2]]\n",
    "print (\"median for given list of numbers is ::: {}\".format(median))\n",
    "\n",
    "from collections import Counter\n",
    "\n",
    "data = Counter(ListofNumbers)\n",
    "modedata = [k for k, v in dict(data).items() if v == max(list(data.values()))] \n",
    "mode  = [\"No Mode Found\" if len(modedata) == len(ListofNumbers) else modedata]\n",
    "print (\"Mode for given list of numbers is ::: {}\".format(mode))"
   ]
  },
  {
   "cell_type": "code",
   "execution_count": 36,
   "id": "700b48fe-4f11-45a9-a75f-54d8dbaba096",
   "metadata": {},
   "outputs": [
    {
     "name": "stdin",
     "output_type": "stream",
     "text": [
      "enter the row number 8\n"
     ]
    },
    {
     "name": "stdout",
     "output_type": "stream",
     "text": [
      "[[1], [1, 1], [1, 2, 1], [1, 3, 3, 1], [1, 4, 6, 4, 1], [1, 5, 10, 10, 5, 1], [1, 6, 15, 20, 15, 6, 1], [1, 7, 21, 35, 35, 21, 7, 1]]\n"
     ]
    }
   ],
   "source": [
    "#35. Create a program that generates Pascal's triangle up to a specified number of rows using listcomprehension.\n",
    "n =int(input(\"enter the row number\"))\n",
    "List1 = []\n",
    "\n",
    "for i  in range(n):\n",
    "    temp_list = []\n",
    "    for j in range(i+1):\n",
    "        if j==0 or j==i:\n",
    "            temp_list.append(1)\n",
    "        else:\n",
    "            temp_list.append(List1[i-1][j-1]+List1[i-1][j])\n",
    "    List1.append(temp_list)\n",
    "\n",
    "print(List1)"
   ]
  },
  {
   "cell_type": "code",
   "execution_count": 37,
   "id": "deae1d16-a8c0-4d23-98a7-c67cd2d1da74",
   "metadata": {},
   "outputs": [
    {
     "name": "stdout",
     "output_type": "stream",
     "text": [
      "       1 \n",
      "      1 1 \n",
      "     1 2 1 \n",
      "    1 3 3 1 \n",
      "   1 4 6 4 1 \n",
      "  1 5 10 10 5 1 \n",
      " 1 6 15 20 15 6 1 \n",
      "1 7 21 35 35 21 7 1 \n"
     ]
    }
   ],
   "source": [
    "for i in range(n):\n",
    "    for j in range(n-i-1):\n",
    "        print(\" \", end=\"\")\n",
    "    for j in range(i+1):\n",
    "        print(List1[i][j], end=\" \")\n",
    "    print()"
   ]
  },
  {
   "cell_type": "code",
   "execution_count": 38,
   "id": "ba8b8930-0ea9-4fcb-83ea-6baf90b8334e",
   "metadata": {},
   "outputs": [
    {
     "data": {
      "text/plain": [
       "[[1], [1, 1], [1, 2, 1], [1, 3, 3, 1], [1, 4, 6, 4, 1], [1, 5, 10, 10, 5, 1]]"
      ]
     },
     "execution_count": 38,
     "metadata": {},
     "output_type": "execute_result"
    }
   ],
   "source": [
    "n =6 \n",
    "\n",
    "data = [1 if ((j==0) or (j==i)) else (List1[i-1][j-1]+List1[i-1][j]) for i in range(n) for j in range(i+1)  ]\n",
    "# pascaldata = [data[n:i+1]  for i in range(n)]\n",
    "pascaldata= []\n",
    "for i in range(n):\n",
    "    pascaldata.append(data[:i+1])\n",
    "    del data[:i+1]\n",
    "\n",
    "pascaldata"
   ]
  },
  {
   "cell_type": "code",
   "execution_count": 53,
   "id": "1e523627-98df-449f-b518-af7089b69c63",
   "metadata": {},
   "outputs": [
    {
     "data": {
      "text/plain": [
       "153"
      ]
     },
     "execution_count": 53,
     "metadata": {},
     "output_type": "execute_result"
    }
   ],
   "source": [
    "#36. Develop a program that calculates the sum of the digits of a factorial of numbers from 1 to 5 using listcomprehension.\n",
    "import math\n",
    "startRange= 1\n",
    "endRange = 5\n",
    "factorial_sum = sum([math.prod([j for j in range(1,i+1)]) for i in range(1, endRange+1)])\n",
    "factorial_sum"
   ]
  },
  {
   "cell_type": "code",
   "execution_count": 39,
   "id": "cfc95b68-a082-4b05-b582-3c54384ec5d3",
   "metadata": {},
   "outputs": [
    {
     "data": {
      "text/plain": [
       "['comprehension']"
      ]
     },
     "execution_count": 39,
     "metadata": {},
     "output_type": "execute_result"
    }
   ],
   "source": [
    "#37. Write a program that finds the longest word in a sentence using list comprehension.\n",
    "string = \"\"\" Write a program that finds the longest word in a sentence using list comprehension\"\"\"\n",
    "words = string.split(\" \")\n",
    "\n",
    "longest_words = [i for i in words if len(i) == max(len(str(i)) for i in words)]\n",
    "\n",
    "longest_words"
   ]
  },
  {
   "cell_type": "code",
   "execution_count": 55,
   "id": "37f625af-028f-4918-95e1-b0d443179284",
   "metadata": {},
   "outputs": [
    {
     "data": {
      "text/plain": [
       "['guava', 'pineapple', 'mandarin orange']"
      ]
     },
     "execution_count": 55,
     "metadata": {},
     "output_type": "execute_result"
    }
   ],
   "source": [
    "#38. Create a program that filters a list of strings to include only those with more than three vowels using listcomprehension.\n",
    "import re\n",
    "\n",
    "fruits = [\"mango\", \"kiwi\", \"strawberry\", \"guava\", \"pineapple\", \"mandarin orange\"]\n",
    "results = [i for i in fruits if len(re.sub(r\"[^aeiouAEIOU]\", \"\", i)) > 2]\n",
    "results"
   ]
  },
  {
   "cell_type": "code",
   "execution_count": 41,
   "id": "6f4dd176-3c09-4ef4-8128-b3670f9a8128",
   "metadata": {},
   "outputs": [
    {
     "data": {
      "text/plain": [
       "500500"
      ]
     },
     "execution_count": 41,
     "metadata": {},
     "output_type": "execute_result"
    }
   ],
   "source": [
    "#39Develop a program that calculates the sum of the digits of numbers from 1 to 1000 using listcomprehension.\n",
    "n = 1000\n",
    "naturalnumbers  = [i for i in range(1,1001)]\n",
    "sum(naturalnumbers)"
   ]
  },
  {
   "cell_type": "code",
   "execution_count": 31,
   "id": "cc0ccd4b-62c9-4598-8a79-2b131631e0cf",
   "metadata": {},
   "outputs": [
    {
     "data": {
      "text/plain": [
       "[11, 101, 131, 151, 181, 191, 727, 757, 787, 797, 313, 353, 373, 383, 919, 929]"
      ]
     },
     "execution_count": 31,
     "metadata": {},
     "output_type": "execute_result"
    }
   ],
   "source": [
    "#40Write a program that generates a list of prime palindromic numbers using list comprehension.\n",
    "num = 1000\n",
    "\n",
    "primelist = set(i for i in range(2,num+1))\n",
    "\n",
    "val  = set(j for i in range(2,num+1)  for j in range(i*i,num+1,i))\n",
    "\n",
    "PrimeNumbers  = list(primelist.difference(val))\n",
    "\n",
    "PrimeNumbers = [i for i in PrimeNumbers if len(str(i))>1 ]\n",
    "palindromeno  = [ i for i in PrimeNumbers if str(i) == str(i)[::-1] ]\n",
    "\n",
    "palindromeno"
   ]
  }
 ],
 "metadata": {
  "kernelspec": {
   "display_name": "Python 3 (ipykernel)",
   "language": "python",
   "name": "python3"
  },
  "language_info": {
   "codemirror_mode": {
    "name": "ipython",
    "version": 3
   },
   "file_extension": ".py",
   "mimetype": "text/x-python",
   "name": "python",
   "nbconvert_exporter": "python",
   "pygments_lexer": "ipython3",
   "version": "3.10.8"
  }
 },
 "nbformat": 4,
 "nbformat_minor": 5
}
