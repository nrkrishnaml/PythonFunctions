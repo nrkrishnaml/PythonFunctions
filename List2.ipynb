{
 "cells": [
  {
   "cell_type": "code",
   "execution_count": 1,
   "id": "1bceced2-4455-4048-8c61-470fe2354d20",
   "metadata": {},
   "outputs": [
    {
     "name": "stdout",
     "output_type": "stream",
     "text": [
      "Dictionary values after conversion from list are {7: 0, 5: 1, 4: 2, 6: 3}\n"
     ]
    }
   ],
   "source": [
    "#37. Convert a list to a dictionary where list elements become keys and their indices become values.\n",
    "\n",
    "#Creating list and an empty dictionary\n",
    "l = [7,5,4,6]\n",
    "d ={}\n",
    "#interchanging the values and index as key and value pair\n",
    "for i in range(len(l)):\n",
    "    d[l[i]] = i\n",
    "print('Dictionary values after conversion from list are',d)"
   ]
  },
  {
   "cell_type": "code",
   "execution_count": 2,
   "id": "e282525b-58a1-4951-a429-db7880bf3b88",
   "metadata": {},
   "outputs": [
    {
     "name": "stdout",
     "output_type": "stream",
     "text": [
      "original list is  [23, 45, 67, 87, 98]\n",
      "shuffled elements in list are [87, 45, 67, 23]\n"
     ]
    }
   ],
   "source": [
    "#38. Shuffle the elements of a list randomly.\n",
    "\n",
    "#importing random module\n",
    "import random\n",
    "\n",
    "#defining list\n",
    "my_list = [23,45,67,87,98]\n",
    "print(\"original list is \" , my_list)\n",
    "\n",
    "#printing after shuffling elements in list\n",
    "print(\"shuffled elements in list are\" , random.sample(my_list,4))"
   ]
  },
  {
   "cell_type": "code",
   "execution_count": 3,
   "id": "b8a8ca45-1da5-4e0e-8aad-c16aba727f74",
   "metadata": {},
   "outputs": [
    {
     "name": "stdin",
     "output_type": "stream",
     "text": [
      "enter number 10\n"
     ]
    },
    {
     "name": "stdout",
     "output_type": "stream",
     "text": [
      "list of the first 10 factorial numbers [1, 2, 6, 24, 120, 720, 5040, 40320, 362880, 3628800]\n"
     ]
    }
   ],
   "source": [
    "#39.Create a list of the first 10 factorial numbers.\n",
    "\n",
    "#declaring an empty list\n",
    "my_list = []\n",
    "#define function to create a list of the first factorial of 10 numbers\n",
    "def fact(n):\n",
    "    for i in range(0,11):\n",
    "        if n<= 1:\n",
    "            return 1\n",
    "        elif n> 1:\n",
    "            return n*fact(n-1)\n",
    "        else:\n",
    "          print(\"invalid number\")\n",
    "\n",
    "# asking the user to entaer a number   \n",
    "n = int(input(\"enter number\"))\n",
    "\n",
    "#Using list comprehension to call the function to generate factorial numbers\n",
    "l = [my_list.append(fact(i)) for i in range(1,11) if i >=1 ]\n",
    "print(\"list of the first 10 factorial numbers\",my_list)"
   ]
  },
  {
   "cell_type": "code",
   "execution_count": 4,
   "id": "e2ba276f-e978-4cbd-bad2-62b68df86031",
   "metadata": {},
   "outputs": [
    {
     "name": "stdout",
     "output_type": "stream",
     "text": [
      "both the list have common elements\n"
     ]
    }
   ],
   "source": [
    "#40.Check if two lists have at least one element in common.\n",
    "\n",
    "# defining 2 lists\n",
    "list1 = [5,6,7,8,9,10]\n",
    "list2 = [1,2,3,4,5,6]\n",
    "#checking if two lists have at least one element in common.\n",
    "\n",
    "for i in list1:\n",
    "    if i in list2:\n",
    "        #if common values are present then set flag value to 1.\n",
    "        flag = 1\n",
    "\n",
    "if flag ==1:\n",
    "    print(\"both the list have common elements\")\n",
    "else:\n",
    "    print(\"Lists do not have common elements\")"
   ]
  },
  {
   "cell_type": "code",
   "execution_count": 5,
   "id": "8247fda9-c022-4022-99cd-13c7a94806e4",
   "metadata": {},
   "outputs": [
    {
     "name": "stdout",
     "output_type": "stream",
     "text": [
      "Original list is  [1, 2, 3, 'python', 'Data Science']\n",
      "my_list  []\n"
     ]
    }
   ],
   "source": [
    "#41. Remove all elements from a list.\n",
    "\n",
    "#Declaring the list.\n",
    "my_list = [1,2,3 ,'python' , 'Data Science']\n",
    "\n",
    "# Printing the original list\n",
    "print(\"Original list is \" , my_list)\n",
    "\n",
    "#Removing all the elements in the list by using clear method\n",
    "my_list.clear()\n",
    "print(\"my_list \" ,my_list)"
   ]
  },
  {
   "cell_type": "code",
   "execution_count": 6,
   "id": "6a7d245b-02ed-45a5-9cb0-70f7ce0751a7",
   "metadata": {},
   "outputs": [
    {
     "name": "stdout",
     "output_type": "stream",
     "text": [
      "After replacing all the negative elements , list values are  [5, 4, 0, 0, 9, 2]\n"
     ]
    }
   ],
   "source": [
    "#42. Replace negative numbers in a list with 0.\n",
    "\n",
    "my_list = [5,4,-6,-7,9,2]\n",
    "#using for loop to replace negative numbers\n",
    "\n",
    "for i in range(len(my_list)):\n",
    "    \n",
    "    # if the value at index is negative then assign the value with zero\n",
    "    if my_list[i]<0:\n",
    "       my_list[i] = 0 \n",
    "print(\"After replacing all the negative elements , list values are \",my_list)"
   ]
  },
  {
   "cell_type": "code",
   "execution_count": 7,
   "id": "9ea320f1-eb1b-4333-81c1-d4cc833bd94e",
   "metadata": {},
   "outputs": [
    {
     "name": "stdout",
     "output_type": "stream",
     "text": [
      "list values are  ['trying', 'to', 'convert', 'string', 'to', 'list', 'of', 'words']\n"
     ]
    }
   ],
   "source": [
    "#43. Convert a string into a list of words.\n",
    "\n",
    "# defining string str1\n",
    "str1 = \"trying to convert string to list of words\"\n",
    "#converting list to string using split method\n",
    "list1 = str1.split()\n",
    "print(\"list values are \",list1)"
   ]
  },
  {
   "cell_type": "code",
   "execution_count": 8,
   "id": "c34f90c1-883c-4660-9a5c-c68c0584ac3c",
   "metadata": {},
   "outputs": [
    {
     "name": "stdout",
     "output_type": "stream",
     "text": [
      "list of words converted to string is  trying to convert string to list of words\n"
     ]
    }
   ],
   "source": [
    "#44. Convert a list of words into a string.\n",
    "\n",
    "#declaring a list\n",
    "my_list = ['trying', 'to', 'convert', 'string', 'to', 'list', 'of', 'words']\n",
    "str1 = \"\"\n",
    "# converting list of words to string using join method\n",
    "str1 = \" \".join(my_list)\n",
    "print(\"list of words converted to string is \",str1)"
   ]
  },
  {
   "cell_type": "code",
   "execution_count": 10,
   "id": "ab150437-9a8b-4529-ad34-53cc759fe9df",
   "metadata": {},
   "outputs": [
    {
     "name": "stdin",
     "output_type": "stream",
     "text": [
      "enter number 5\n"
     ]
    },
    {
     "name": "stdout",
     "output_type": "stream",
     "text": [
      "first `n` powers of 2 are [None, 2, 4, 8, 16]\n"
     ]
    }
   ],
   "source": [
    "#45. Create a list of the first `n` powers of 2.\n",
    "\n",
    "#declaring empty list\n",
    "list1 = []\n",
    "n = int(input(\"enter number\"))\n",
    "\n",
    "#defining function to caluculate the first n powers of 2\n",
    "def power(n):\n",
    "    for i in range(0,n):\n",
    "        if n == 0:\n",
    "            return 1\n",
    "        elif n==1:\n",
    "           return 2\n",
    "        else :\n",
    "            return 2**n\n",
    "\n",
    "# usingfor loop to itertate the 'n' values       \n",
    "for n in range(n):\n",
    "        #calling the function and adding the values to the list\n",
    "        list1.append(power(n))       \n",
    "\n",
    "print('first `n` powers of 2 are',list1)"
   ]
  },
  {
   "cell_type": "code",
   "execution_count": 11,
   "id": "9bb0b2e0-eb2e-4979-a6f4-4c3d4040bcc7",
   "metadata": {},
   "outputs": [
    {
     "name": "stdout",
     "output_type": "stream",
     "text": [
      "original list is  ['longest', 'string', 'in', 'a', 'list']\n",
      "Longest String in the list is longest\n"
     ]
    }
   ],
   "source": [
    "#46. Find the longest string in a list of strings.\n",
    "\n",
    "#Importing tools\n",
    "from functools import reduce\n",
    "\n",
    "l = [\"longest\" ,\"string\",\"in\" ,\"a\" ,\"list\"]\n",
    "print(\"original list is \" ,l)\n",
    "\n",
    "#Using reudce function to find longest string\n",
    "l1 = reduce(lambda a ,b : a if len(a) > len(b) else b,l)\n",
    "\n",
    "print(\"Longest String in the list is\" ,l1)"
   ]
  },
  {
   "cell_type": "code",
   "execution_count": 12,
   "id": "1b9db134-e8b5-4c94-af6a-482595cb6dd8",
   "metadata": {},
   "outputs": [
    {
     "name": "stdout",
     "output_type": "stream",
     "text": [
      "original list is  ['longest', 'string', 'in', 'a', 'list']\n",
      "Shortest String in the list is a\n"
     ]
    }
   ],
   "source": [
    "#47. Find the shortest string in a list of strings.\n",
    "\n",
    "#Importing tools\n",
    "from functools import reduce\n",
    "\n",
    "l = [\"longest\" ,\"string\",\"in\" ,\"a\" ,\"list\"]\n",
    "print(\"original list is \" ,l)\n",
    "#Using reudce function to find shortest string\n",
    "l1 = reduce(lambda a ,b : a if len(a) < len(b) else b,l)\n",
    "\n",
    "print(\"Shortest String in the list is\" ,l1)"
   ]
  },
  {
   "cell_type": "code",
   "execution_count": 1,
   "id": "39f1ac64-79aa-4534-a8df-12bcef4aee5a",
   "metadata": {},
   "outputs": [
    {
     "name": "stdin",
     "output_type": "stream",
     "text": [
      "enter number 8\n"
     ]
    },
    {
     "name": "stdout",
     "output_type": "stream",
     "text": [
      "list of the first `n` triangular numbers [1, 3, 6, 10, 15, 21, 28, 36]\n"
     ]
    }
   ],
   "source": [
    "#48.Create a list of the first `n` triangular numbers.\n",
    "\n",
    "#Declarinf empty list and other variables\n",
    "l =[]\n",
    "j =0\n",
    "k=0\n",
    "#asking the user to enter a number\n",
    "n = int(input(\"enter number\"))\n",
    "\n",
    "#iterating the values and incrementing the values\n",
    "for i in range(1,n+1):\n",
    "    j = j+1\n",
    "    k = k+j\n",
    "    l.append(k)\n",
    "print('list of the first `n` triangular numbers',l)"
   ]
  },
  {
   "cell_type": "code",
   "execution_count": 2,
   "id": "1aa0dc0b-aac2-4594-a9a5-f5ade073ed49",
   "metadata": {},
   "outputs": [
    {
     "name": "stdout",
     "output_type": "stream",
     "text": [
      "Main list contains the subsequence.\n"
     ]
    }
   ],
   "source": [
    "#49. Check if a list contains another list as a subsequence.\n",
    "\n",
    "def is_subsequence(subsequence, main_list):\n",
    "    subseq_index = 0  # Index for the subsequence elements\n",
    "    for element in main_list:\n",
    "        if element == subsequence[subseq_index]:\n",
    "            subseq_index += 1\n",
    "            if subseq_index == len(subsequence):\n",
    "                return True\n",
    "    return False\n",
    "\n",
    "# Example main list and subsequence\n",
    "main_list = [1, 2, 3, 4, 5, 6, 7, 8, 9, 10]\n",
    "subsequence = [3, 5, 8]\n",
    "\n",
    "# Check if the main list contains the subsequence\n",
    "if is_subsequence(subsequence, main_list):\n",
    "    print(\"Main list contains the subsequence.\")\n",
    "else:\n",
    "    print(\"Main list does not contain the subsequence.\")"
   ]
  },
  {
   "cell_type": "code",
   "execution_count": 1,
   "id": "1ac9416e-e376-4e7c-9136-cb115b3011ee",
   "metadata": {},
   "outputs": [
    {
     "name": "stdout",
     "output_type": "stream",
     "text": [
      "values after swapping by their indices are  [2, 5, 9, 7, 8, 3]\n"
     ]
    }
   ],
   "source": [
    "#50.Swap two elements in the list by their indices\n",
    "\n",
    "my_list = [2,5,3,7,8,9]\n",
    "\n",
    "#assigning and storingthe values using indices\n",
    "my_list[2],my_list[5] = my_list[5],my_list[2]\n",
    "\n",
    "print(\"values after swapping by their indices are \" , my_list)\n",
    "    \n",
    "    \n"
   ]
  },
  {
   "cell_type": "code",
   "execution_count": null,
   "id": "db249f27-42a9-4542-aa6b-73592bd7a3c4",
   "metadata": {},
   "outputs": [],
   "source": []
  }
 ],
 "metadata": {
  "kernelspec": {
   "display_name": "Python 3 (ipykernel)",
   "language": "python",
   "name": "python3"
  },
  "language_info": {
   "codemirror_mode": {
    "name": "ipython",
    "version": 3
   },
   "file_extension": ".py",
   "mimetype": "text/x-python",
   "name": "python",
   "nbconvert_exporter": "python",
   "pygments_lexer": "ipython3",
   "version": "3.10.8"
  }
 },
 "nbformat": 4,
 "nbformat_minor": 5
}
