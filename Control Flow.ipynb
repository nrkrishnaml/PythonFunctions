{
 "cells": [
  {
   "cell_type": "code",
   "execution_count": 1,
   "id": "eab99c4d-e7d3-46ce-8c76-08e2a0182492",
   "metadata": {},
   "outputs": [
    {
     "name": "stdout",
     "output_type": "stream",
     "text": [
      "Enter a number 45\n"
     ]
    },
    {
     "name": "stdout",
     "output_type": "stream",
     "text": [
      "number is positive\n"
     ]
    }
   ],
   "source": [
    "#1. Write a Python program to check if a given number is positive or negative.\n",
    "\n",
    "#Asking user to enter the input\n",
    "num = int(input(\"Enter a number\"))\n",
    "\n",
    "#Checking if input is positive or negative number\n",
    "if num >= 0:\n",
    "    print(\"number is positive\")\n",
    "    \n",
    "else:\n",
    "    print(\"number is negative\")"
   ]
  },
  {
   "cell_type": "code",
   "execution_count": 3,
   "id": "fdd48936-d2b5-4e77-b084-cf75c4d94208",
   "metadata": {},
   "outputs": [
    {
     "name": "stdout",
     "output_type": "stream",
     "text": [
      "Enter the person's age 54\n"
     ]
    },
    {
     "name": "stdout",
     "output_type": "stream",
     "text": [
      "person is eligible for vote\n"
     ]
    }
   ],
   "source": [
    "#2. Create a program that determines if a person is eligible to vote based on their age.\n",
    "\n",
    "#Enter the input\n",
    "age =  int(input(\"Enter the person's age\"))\n",
    "\n",
    "#Checking if person is eleigibel for vote or not\n",
    "if age >= 18:\n",
    "    print(\"person is eligible for vote\")   \n",
    "else:\n",
    "     print(\"person is not eligible for vote\")   \n",
    "    "
   ]
  },
  {
   "cell_type": "code",
   "execution_count": 4,
   "id": "23eaf2a9-b7ce-4128-9379-75047fa667c9",
   "metadata": {},
   "outputs": [
    {
     "name": "stdout",
     "output_type": "stream",
     "text": [
      "Enter a number 45\n",
      "Enter a number 87\n"
     ]
    },
    {
     "name": "stdout",
     "output_type": "stream",
     "text": [
      "87 is maximum of two numbers\n"
     ]
    }
   ],
   "source": [
    "#3. Develop a program to find the maximum of two numbers using if-else statements.\n",
    "\n",
    "#Asking user to enter the input\n",
    "num1 = int(input(\"Enter a number\"))\n",
    "num2 = int(input(\"Enter a number\"))\n",
    "\n",
    "#finding the maximum of two numbers\n",
    "if num1 > num2 :\n",
    "    \n",
    "    print(num1 ,\"is maximum of two numbers\")\n",
    "    \n",
    "else:\n",
    "    print(num2 ,\"is maximum of two numbers\")"
   ]
  },
  {
   "cell_type": "code",
   "execution_count": 9,
   "id": "e5621ceb-8c32-4e7b-bbbc-15bd57dbe48c",
   "metadata": {},
   "outputs": [
    {
     "name": "stdout",
     "output_type": "stream",
     "text": [
      "Enter a year 2020\n"
     ]
    },
    {
     "name": "stdout",
     "output_type": "stream",
     "text": [
      "year is leap year\n"
     ]
    }
   ],
   "source": [
    "#4. Write a Python script to classify a given year as a leap year or not.\n",
    "\n",
    "#Asking user to enter the input\n",
    "year = int(input(\"Enter a year\"))\n",
    "\n",
    "#If the year is divisible by 4 or 400 and not divisible by 100 is leap year\n",
    "if (year%4 == 0 and year%100 != 0) or year%400 == 0:\n",
    "    print(\"year is leap year\")\n",
    "else:\n",
    "    print(\"year is not leap year\")"
   ]
  },
  {
   "cell_type": "code",
   "execution_count": 30,
   "id": "f875e999-1548-4fcf-933c-8c63c2e7bb0f",
   "metadata": {},
   "outputs": [
    {
     "name": "stdout",
     "output_type": "stream",
     "text": [
      "Enter a character c\n"
     ]
    },
    {
     "name": "stdout",
     "output_type": "stream",
     "text": [
      "character is consonant\n"
     ]
    }
   ],
   "source": [
    "#5. Create a program that checks whether a character is a vowel or a consonant.\n",
    "\n",
    "#Enter the input\n",
    "char = input(\"Enter a character\")\n",
    "\n",
    "#checking if character is vowel or cocnsonant\n",
    "if char in ('aeiou' or 'AEIOU'):\n",
    "     print(\"character is vowel\")\n",
    "else:\n",
    "     print(\"character is consonant\")\n",
    "             "
   ]
  },
  {
   "cell_type": "code",
   "execution_count": 5,
   "id": "baf2b133-5643-4ea8-a548-65f0d3ea287b",
   "metadata": {},
   "outputs": [
    {
     "name": "stdout",
     "output_type": "stream",
     "text": [
      "Enter a number 45\n"
     ]
    },
    {
     "name": "stdout",
     "output_type": "stream",
     "text": [
      "number is odd\n"
     ]
    }
   ],
   "source": [
    "#6. Implement a program to determine whether a given number is even or odd.\n",
    "\n",
    "#Enter any number\n",
    "num = int(input(\"Enter a number\"))\n",
    "\n",
    "#Finding if number is even or odd\n",
    "if num % 2 == 0:\n",
    "          print(\"number is even\")\n",
    "else:\n",
    "          print(\"number is odd\")"
   ]
  },
  {
   "cell_type": "code",
   "execution_count": 9,
   "id": "a6eefd3a-4d5e-423f-9cbc-52a518f236a6",
   "metadata": {},
   "outputs": [
    {
     "name": "stdout",
     "output_type": "stream",
     "text": [
      "-18\n",
      "18.0\n"
     ]
    }
   ],
   "source": [
    "#7. Write a Python function to calculate the absolute value of a number without using the `abs()` function.\n",
    "\n",
    "#Defining function to find absolute value\n",
    "def abs_value(value):\n",
    "    \n",
    "    #First compute the square of the number. Then calculate the square root of the calculated value.\n",
    "    return (value**2)**(0.5)\n",
    "\n",
    "#Paasing the number and printing tha absolute value without using abs() function.\n",
    "number = -18\n",
    "print(number)\n",
    "value = abs_value(number)\n",
    "print(value)"
   ]
  },
  {
   "cell_type": "code",
   "execution_count": 2,
   "id": "0bdc1c24-8d7c-418e-908d-1c29348ea041",
   "metadata": {},
   "outputs": [
    {
     "name": "stdout",
     "output_type": "stream",
     "text": [
      "Enter a number 456\n",
      "Enter a number 765\n",
      "Enter a number 987\n"
     ]
    },
    {
     "name": "stdout",
     "output_type": "stream",
     "text": [
      "Largest of three numbers is : 987\n"
     ]
    }
   ],
   "source": [
    "#8. Develop a program that determines the largest of three given numbers using if-else statements.\n",
    "\n",
    "#enter the numbers\n",
    "num1  = int(input(\"Enter a number\"))\n",
    "num2  = int(input(\"Enter a number\"))\n",
    "num3  = int(input(\"Enter a number\"))\n",
    "\n",
    "#Checking for the maximum number of three numbers\n",
    "if num1 > num2 and num1 > num3:\n",
    "    largest = num1\n",
    "elif num2 > num1 and num2 > num3:\n",
    "    largest = num2\n",
    "else:\n",
    "    largest = num3\n",
    "\n",
    "    #pritingthe output\n",
    "print(\"Largest of three numbers is :\",largest)\n",
    "        "
   ]
  },
  {
   "cell_type": "code",
   "execution_count": 6,
   "id": "2787eb1f-298e-4373-a42d-d51eabb90d34",
   "metadata": {},
   "outputs": [
    {
     "name": "stdout",
     "output_type": "stream",
     "text": [
      "Enter any string civic\n"
     ]
    },
    {
     "name": "stdout",
     "output_type": "stream",
     "text": [
      "String is palindrome\n"
     ]
    }
   ],
   "source": [
    "#9. Create a program that checks if a given string is a palindrome.\n",
    "\n",
    "#Enter the string\n",
    "word = input(\"Enter any string\")\n",
    "\n",
    "#finding if string is palindrome or not\n",
    "if word == word[::-1]:\n",
    "    print(\"String is palindrome\")\n",
    "else:\n",
    "    print(\"String is palindrome\")\n",
    "    "
   ]
  },
  {
   "cell_type": "code",
   "execution_count": 6,
   "id": "29fce072-9567-4194-9987-255a1a10d66b",
   "metadata": {},
   "outputs": [
    {
     "name": "stdout",
     "output_type": "stream",
     "text": [
      "Enter the score in percentile 76\n"
     ]
    },
    {
     "name": "stdout",
     "output_type": "stream",
     "text": [
      "C\n"
     ]
    }
   ],
   "source": [
    "#10. Write a Python program to calculate the grade based on a student's score.\n",
    "\n",
    "#Enter the score\n",
    "score = int(input(\"Enter the score in percentile\"))\n",
    "\n",
    "#Finding the grade based on score\n",
    "if score >= 95:\n",
    "    grade = 'A+'\n",
    "elif  score >=90 and score <= 95:\n",
    "    grade = 'A'\n",
    "elif score >=80 and score <=90:\n",
    "    grade = 'B'\n",
    "elif score >=70 and score <=80:\n",
    "    grade = 'C'\n",
    "elif score >=60 and score <= 70:\n",
    "    grade = 'D'\n",
    "elif score >=45and score <= 60:\n",
    "    grade = 'E'\n",
    "else:\n",
    "    grade = 'Fail'\n",
    "\n",
    "print(grade)"
   ]
  },
  {
   "cell_type": "code",
   "execution_count": 29,
   "id": "0931df38-3a2e-4e80-b047-2c3f6d69c0ca",
   "metadata": {},
   "outputs": [
    {
     "name": "stdout",
     "output_type": "stream",
     "text": [
      "Enter a number 45\n",
      "Enter a number 12\n",
      "Enter a number 63\n"
     ]
    },
    {
     "name": "stdout",
     "output_type": "stream",
     "text": [
      "Largest of three numbers is : 63\n"
     ]
    }
   ],
   "source": [
    "#11. Write a program to find the largest among three numbers using nested if-else statements.\n",
    "\n",
    "#enter the numbers\n",
    "num1  = int(input(\"Enter a number\"))\n",
    "num2  = int(input(\"Enter a number\"))\n",
    "num3  = int(input(\"Enter a number\"))\n",
    "\n",
    "#Checking for the maximum number of three numbers\n",
    "if num1 > num2 and num1 > num3:\n",
    "    largest = num1\n",
    "if num2 > num1 and num2 > num3:\n",
    "    largest = num2\n",
    "else:\n",
    "    largest = num3\n",
    "\n",
    "    #pritingthe output\n",
    "print(\"Largest of three numbers is :\",largest)"
   ]
  },
  {
   "cell_type": "code",
   "execution_count": 28,
   "id": "51987f29-810f-4611-8a73-473666070b2a",
   "metadata": {},
   "outputs": [
    {
     "name": "stdout",
     "output_type": "stream",
     "text": [
      "Enter the first dimension of traingle 12\n",
      "Enter the second dimension of traingle 15\n",
      "Enter the third dimension of traingle 12\n"
     ]
    },
    {
     "name": "stdout",
     "output_type": "stream",
     "text": [
      "It is an Isosceles traingle\n"
     ]
    }
   ],
   "source": [
    "#12. Implement a program to determine if a triangle is equilateral, isosceles, or scalene.\n",
    "\n",
    "#Taking inputs of the dimensions of an traingle\n",
    "s1 = int(input(\"Enter the first dimension of traingle\"))\n",
    "s2 = int(input(\"Enter the second dimension of traingle\"))\n",
    "s3 = int(input(\"Enter the third dimension of traingle\"))\n",
    "\n",
    "#Determing the type of traingle\n",
    "if s1 == s2 == s3 :\n",
    "    print(\"It is an Equilateral traingle\")\n",
    "if s1 == s2 or s2 == s3 or s3 == s1:\n",
    "    print(\"It is an Isosceles traingle\")\n",
    "else:\n",
    "    print(\"It is an Scalene traingle\")\n",
    "    \n"
   ]
  },
  {
   "cell_type": "code",
   "execution_count": 20,
   "id": "3671b716-25ea-48fa-9217-91357e84fe85",
   "metadata": {},
   "outputs": [
    {
     "name": "stdout",
     "output_type": "stream",
     "text": [
      "Enter a year 1600\n"
     ]
    },
    {
     "name": "stdout",
     "output_type": "stream",
     "text": [
      "Year is leap year and also century year\n"
     ]
    }
   ],
   "source": [
    "#13. Develop a program that checks if a year is a leap year and also if it is a century year.\n",
    "\n",
    "#Asking user to enter the input\n",
    "year = int(input(\"Enter a year\"))\n",
    "\n",
    "#If the year is divisible by 4 and not divisible by 100 is leap year\n",
    "if (year%4 == 0 and year%100 != 0):\n",
    "    print(\"year is leap year\")\n",
    "    \n",
    "#If the year is divisible by 4 it is leap year \n",
    "#if the year is divisible by 100 then it is century year   \n",
    "if (year%4 == 0):\n",
    "    if (year%100 == 0):\n",
    "        print(\"Year is leap year and also century year\")\n",
    "          \n",
    "else:\n",
    "    print(\"year is not leap year\")"
   ]
  },
  {
   "cell_type": "code",
   "execution_count": 25,
   "id": "e64fecdd-29f3-4c1d-87b4-9451fa9e4f57",
   "metadata": {
    "jupyter": {
     "source_hidden": true
    },
    "tags": []
   },
   "outputs": [
    {
     "name": "stdout",
     "output_type": "stream",
     "text": [
      "Enter a number 12\n"
     ]
    },
    {
     "name": "stdout",
     "output_type": "stream",
     "text": [
      "Number is positive\n"
     ]
    }
   ],
   "source": [
    "#14. Write a Python script to determine if a number is positive, negative, or zero.\n",
    "\n",
    "#Asking user to enter the input\n",
    "number = int(input(\"Enter a number\"))\n",
    "\n",
    "#determinig if a number is positive, negative, or zero.\n",
    "\n",
    "if number >= 0 :\n",
    "    if number > 0:\n",
    "        print(\"Number is positive\")\n",
    "    else:\n",
    "        print(\"Number is zero\") \n",
    "else:\n",
    "    print(\"Number is negative\")"
   ]
  },
  {
   "cell_type": "code",
   "execution_count": 22,
   "id": "72f97556-0a49-490d-ba11-386af89e496b",
   "metadata": {},
   "outputs": [
    {
     "name": "stdout",
     "output_type": "stream",
     "text": [
      "Enter age 565\n"
     ]
    },
    {
     "name": "stdout",
     "output_type": "stream",
     "text": [
      "Person is not a teenager\n"
     ]
    }
   ],
   "source": [
    "#15. Create a program to check if a person is a teenager (between 13 and 19 years old).\n",
    "\n",
    "#Asking user to enter the input\n",
    "age = int(input(\"Enter age\"))\n",
    "\n",
    "#checking if person is teenager or not\n",
    "if age > 0:\n",
    "    if age >= 13 and age<=19:\n",
    "        print(\"Person is a teenager\")\n",
    "    else :\n",
    "          print(\"Person is not a teenager\")\n",
    "else:\n",
    "    print(\"Invalid input\")"
   ]
  },
  {
   "cell_type": "code",
   "execution_count": 3,
   "id": "9c9f4597-d206-4d21-b613-9b48674253c7",
   "metadata": {},
   "outputs": [
    {
     "name": "stdout",
     "output_type": "stream",
     "text": [
      "enter the measures of traingle 45\n"
     ]
    },
    {
     "name": "stdout",
     "output_type": "stream",
     "text": [
      "It is an acute angle traingle\n"
     ]
    }
   ],
   "source": [
    "#16. Develop a program that determines the type of angle based on its measure (acute, obtuse, or right).\n",
    "\n",
    "#Asking user to enter the input\n",
    "angle = int(input(\"enter the measures of traingle\"))\n",
    "\n",
    "#Finding the type of traingle.\n",
    "# 0 - 90 degrees --> acute angle ,90 -->right angle , 90-180 --> obtuse angle\n",
    "if angle >= 90:\n",
    "    if angle == 90:\n",
    "            print(\"it is a right angle traingle\")\n",
    "    else:\n",
    "            print(\"it is a obtuse angle traingle\")\n",
    "                  \n",
    "else:\n",
    "    if angle < 90:\n",
    "            print(\"It is an acute angle traingle\")\n",
    "    else:\n",
    "            print(\"Invalid input\")\n",
    "            "
   ]
  },
  {
   "cell_type": "code",
   "execution_count": 5,
   "id": "72c96666-7ca7-4e50-8fe1-dcb89a542287",
   "metadata": {},
   "outputs": [
    {
     "name": "stdout",
     "output_type": "stream",
     "text": [
      "Enter a:  4\n",
      "Enter b:  5\n",
      "Enter c:  6\n"
     ]
    },
    {
     "name": "stdout",
     "output_type": "stream",
     "text": [
      "Complex Roots exist.\n",
      "-0.625  + i 8.426149773176359\n",
      "-0.625  - i 8.426149773176359\n"
     ]
    }
   ],
   "source": [
    "#17. Write a Python program to calculate the roots of a quadratic equation.\n",
    "\n",
    "import math\n",
    "\n",
    "a = int(input(\"Enter a: \"))\n",
    "b = int(input(\"Enter b: \"))\n",
    "c = int(input(\"Enter c: \"))\n",
    "\n",
    "if a == 0:\n",
    "    print(\"Enter the coefficients correctly.\")\n",
    "else:\n",
    "    disc = b * b - 4 * a * c  \n",
    "    sqrt_val = math.sqrt(abs(disc))  \n",
    "      \n",
    "    if disc > 0:  \n",
    "        print(\"Real and different roots \")  \n",
    "        print((-b + sqrt_val)/(2 * a))  \n",
    "        print((-b - sqrt_val)/(2 * a))  \n",
    "      \n",
    "    elif disc == 0:  \n",
    "        print(\"Real and same roots\")  \n",
    "        print(-b / (2 * a))  \n",
    "      \n",
    "    else:  \n",
    "        print(\"Complex Roots exist.\")  \n",
    "        print(- b / (2 * a), \" + i\", sqrt_val)  \n",
    "        print(- b / (2 * a), \" - i\", sqrt_val)"
   ]
  },
  {
   "cell_type": "code",
   "execution_count": 6,
   "id": "4b1a31c7-3f80-4c3c-9288-6453c6a0879a",
   "metadata": {},
   "outputs": [
    {
     "name": "stdout",
     "output_type": "stream",
     "text": [
      "Enter number 5\n"
     ]
    },
    {
     "name": "stdout",
     "output_type": "stream",
     "text": [
      "It's friday\n"
     ]
    }
   ],
   "source": [
    "#18. Implement a program to determine the day of the week based on a user-provided number (1 for Monday, 2 for Tuesday, etc.).\n",
    "\n",
    "#user to enter input\n",
    "day = int(input(\"Enter number\"))\n",
    "\n",
    "#printing the day based on user provided number\n",
    "if day == 1:\n",
    "    print(\"It's monday\")\n",
    "    \n",
    "elif day == 2:\n",
    "    print(\"It's tuesday\")\n",
    "    \n",
    "elif day == 3:\n",
    "    print(\"It's wednesday\")\n",
    "    \n",
    "elif day == 4:\n",
    "    print(\"It's thursday\")\n",
    "    \n",
    "elif day == 5:\n",
    "    print(\"It's friday\")\n",
    "    \n",
    "elif day == 6:\n",
    "    print(\"It's saturday\")\n",
    "    \n",
    "elif day == 7:\n",
    "    print(\"It's sunday\")\n",
    "    \n",
    "else:\n",
    "    print(\"enter the input between 1 and 7\")\n",
    "    "
   ]
  },
  {
   "cell_type": "code",
   "execution_count": 7,
   "id": "2b44a728-29ed-41d5-8b30-86c956aafca8",
   "metadata": {},
   "outputs": [
    {
     "name": "stdout",
     "output_type": "stream",
     "text": [
      "Enter a year 2000\n"
     ]
    },
    {
     "name": "stdout",
     "output_type": "stream",
     "text": [
      "year is not leap year\n"
     ]
    }
   ],
   "source": [
    "#19. Create a program that determines if a year is a leap year and also if it is evenly divisible by 400.\n",
    "\n",
    "#Asking user to enter the input\n",
    "year = int(input(\"Enter a year\"))\n",
    "\n",
    "#If the year is divisible by 4 \n",
    "if (year%4 == 0 and  year%100!= 0 ):\n",
    "    if (year%400 == 0):\n",
    "        print(\"Year is leap year and also century year\")\n",
    "          \n",
    "else:\n",
    "    print(\"year is not leap year\")"
   ]
  },
  {
   "cell_type": "code",
   "execution_count": 8,
   "id": "a54151b6-f5d2-4b68-9de2-80d591ee6ef6",
   "metadata": {},
   "outputs": [
    {
     "name": "stdout",
     "output_type": "stream",
     "text": [
      "Enter a number:  67\n"
     ]
    },
    {
     "name": "stdout",
     "output_type": "stream",
     "text": [
      "67 is a prime number\n"
     ]
    }
   ],
   "source": [
    "#20. Develop a program that checks if a given number is prime or not using nested if-else statements.\n",
    "\n",
    "# Program to check if a number is prime or not\n",
    "\n",
    "#Taking input from user\n",
    "num = int(input(\"Enter a number: \"))\n",
    "\n",
    "# define a flag variable\n",
    "flag = False\n",
    "\n",
    "if num == 1:\n",
    "    print(num, \"is not a prime number\")\n",
    "elif num > 1:\n",
    "    # check for factors\n",
    "    for i in range(2, num):\n",
    "        if (num % i) == 0:\n",
    "            # if factor is found, set flag to True\n",
    "            flag = True\n",
    "            # break out of loop\n",
    "            break\n",
    "\n",
    "    # check if flag is True\n",
    "    if flag:\n",
    "        print(num, \"is not a prime number\")\n",
    "    else:\n",
    "        print(num, \"is a prime number\")"
   ]
  },
  {
   "cell_type": "code",
   "execution_count": 3,
   "id": "48a62caa-8457-4116-a026-62d4e274e01c",
   "metadata": {},
   "outputs": [
    {
     "name": "stdout",
     "output_type": "stream",
     "text": [
      "Enter the score in sub1 98\n",
      "Enter the score in sub2 76\n",
      "Enter the score in sub3 89\n",
      "Enter the score in sub4 87\n",
      "Enter the score in sub5 100\n"
     ]
    },
    {
     "name": "stdout",
     "output_type": "stream",
     "text": [
      "Average marks of all subjects 90.0\n",
      "Grade based on score is: A\n"
     ]
    }
   ],
   "source": [
    "#21. Write a Python program to assign grades based on different ranges of scores using elif statements.\n",
    "\n",
    "#Enter the marks\n",
    "sub1 = int(input(\"Enter the score in sub1\"))\n",
    "sub2 = int(input(\"Enter the score in sub2\"))\n",
    "sub3 = int(input(\"Enter the score in sub3\"))\n",
    "sub4 = int(input(\"Enter the score in sub4\"))\n",
    "sub5 = int(input(\"Enter the score in sub5\"))\n",
    "\n",
    "#Taking the avg of all subjects\n",
    "score  = ((sub1 + sub2 + sub3 + sub4 + sub5)/5) \n",
    "\n",
    "#Finding the grade based on score\n",
    "if score >= 95:\n",
    "    grade = 'A+'\n",
    "elif  score >=90 and score <= 95:\n",
    "    grade = 'A'\n",
    "elif score >=80 and score <=90:\n",
    "    grade = 'B'\n",
    "elif score >=70 and score <=80:\n",
    "    grade = 'C'\n",
    "elif score >=60 and score <= 70:\n",
    "    grade = 'D'\n",
    "elif score >=45and score <= 60:\n",
    "    grade = 'E'\n",
    "else:\n",
    "    grade = 'Fail'\n",
    "print(\"Average marks of all subjects\",score)\n",
    "print(\"Grade based on score is:\",grade)"
   ]
  },
  {
   "cell_type": "code",
   "execution_count": 1,
   "id": "9a72a7d7-056a-4b87-99b5-e59553715665",
   "metadata": {},
   "outputs": [
    {
     "name": "stdout",
     "output_type": "stream",
     "text": [
      "enter the measures of traingle 56\n"
     ]
    },
    {
     "name": "stdout",
     "output_type": "stream",
     "text": [
      "It is an acute angle traingle\n"
     ]
    }
   ],
   "source": [
    "#22. Implement a program to determine the type of a triangle based on its angles.\n",
    "\n",
    "#Asking user to enter the input\n",
    "angle = int(input(\"enter the measures of traingle\"))\n",
    "\n",
    "#Finding the type of traingle.\n",
    "# 0 - 90 degrees --> acute angle ,90 -->right angle , 90-180 --> obtuse angle\n",
    "\n",
    "if angle == 90:\n",
    "        print(\"it is a right angle traingle\")\n",
    "elif angle >90 and angle <180:\n",
    "        print(\"it is a obtuse angle traingle\")\n",
    "elif angle>0 and angle < 90:\n",
    "        print(\"It is an acute angle traingle\")\n",
    "else:\n",
    "        print(\"Invalid input\")"
   ]
  },
  {
   "cell_type": "code",
   "execution_count": 2,
   "id": "d8474444-e3bd-4f9b-aba2-fa9e7b3d91b9",
   "metadata": {},
   "outputs": [
    {
     "name": "stdout",
     "output_type": "stream",
     "text": [
      "enter the person's BMI 26\n"
     ]
    },
    {
     "name": "stdout",
     "output_type": "stream",
     "text": [
      "person is overweight\n"
     ]
    }
   ],
   "source": [
    "#23. Develop a program to categorize a given person's BMI into underweight, normal, overweight, or obese usingelif statements.\n",
    "\n",
    "#Asking user to enter the input\n",
    "BMI = int(input(\"enter the person's BMI\"))\n",
    "\n",
    "if BMI >=12 and BMI <= 18:\n",
    "    print(\"person is underweight\")\n",
    "elif BMI >=19 and BMI <= 24:\n",
    "    print(\"Person BMI is normal\")\n",
    "elif BMI >= 25 and BMI <=29:\n",
    "    print(\"person is overweight\")\n",
    "elif BMI >= 30 and BMI <=36:\n",
    "    print(\"person is obese\")\n",
    "else:\n",
    "    print(\"enter the value between 12 and 36\")"
   ]
  },
  {
   "cell_type": "code",
   "execution_count": 4,
   "id": "1513aefe-ce7e-444d-a0e7-bb5ac290be74",
   "metadata": {},
   "outputs": [
    {
     "name": "stdout",
     "output_type": "stream",
     "text": [
      "Enter a number 0\n"
     ]
    },
    {
     "name": "stdout",
     "output_type": "stream",
     "text": [
      "Number is zero\n"
     ]
    }
   ],
   "source": [
    "#24. Create a program that determines whether a given number is positive, negative, or zero using elif statements.\n",
    "\n",
    "#Asking user to enter the input\n",
    "number = int(input(\"Enter a number\"))\n",
    "\n",
    "#determinig if a number is positive, negative, or zero.\n",
    "if number > 0:\n",
    "    print(\"Number is positive\")\n",
    "elif number ==0:\n",
    "    print(\"Number is zero\") \n",
    "else:\n",
    "    print(\"Number is negative\")"
   ]
  },
  {
   "cell_type": "code",
   "execution_count": 5,
   "id": "57da33dc-105b-40ee-9917-ea809a1b4a12",
   "metadata": {},
   "outputs": [
    {
     "name": "stdout",
     "output_type": "stream",
     "text": [
      "Please Enter Your Own Character :  i\n"
     ]
    },
    {
     "name": "stdout",
     "output_type": "stream",
     "text": [
      "The Given Character  i is a Lowercase Alphabet\n"
     ]
    }
   ],
   "source": [
    "#25. Write a Python script to determine the type of a character (uppercase, lowercase, or special) using elif statements.\n",
    "\n",
    "# Python Program to check character is Lowercase or Uppercase\n",
    "ch = input(\"Please Enter Your Own Character : \")\n",
    "\n",
    "#islower function is useful to check whether the given string is either in lowercase or not.\n",
    "#isupper function is useful to check whether the given string is either in uppercase or not.\n",
    "\n",
    "if(ch.isupper()):\n",
    "    print(\"The Given Character \", ch, \"is an Uppercase Alphabet\")\n",
    "elif(ch.islower()):\n",
    "    print(\"The Given Character \", ch, \"is a Lowercase Alphabet\")\n",
    "else:\n",
    "    print(\"The Given Character \", ch, \"is Not a Lower or Uppercase Alphabet\")"
   ]
  },
  {
   "cell_type": "code",
   "execution_count": 6,
   "id": "8fb1dd4a-6c5a-47a2-96f0-d2d1f8e11ed0",
   "metadata": {},
   "outputs": [
    {
     "name": "stdout",
     "output_type": "stream",
     "text": [
      "Enter Sale Amount:  7800\n"
     ]
    },
    {
     "name": "stdout",
     "output_type": "stream",
     "text": [
      "Discount :  936.0\n",
      "Net Pay  :  6864.0\n"
     ]
    }
   ],
   "source": [
    "#26. Implement a program to calculate the discounted price based on different purchase amounts using elif statements.\n",
    "\n",
    "# input sale amount\n",
    "amt = int(input(\"Enter Sale Amount: \"))\n",
    "\n",
    "# checking conditions and calculating discount\n",
    "if(amt>0):\n",
    "    if amt<=5000:\n",
    "       disc = amt*0.05\n",
    "    elif amt<=15000:\n",
    "        disc=amt*0.12\n",
    "    elif amt<=25000:\n",
    "        disc=0.2 * amt\n",
    "    else:\n",
    "         disc=0.3 * amt\n",
    "\n",
    "    print(\"Discount : \",disc)\n",
    "    print(\"Net Pay  : \",amt-disc)\n",
    "else:\n",
    "    print(\"Invalid Amount\")"
   ]
  },
  {
   "cell_type": "code",
   "execution_count": 13,
   "id": "248690b5-1c55-4de3-aadf-f91b6a7ee738",
   "metadata": {},
   "outputs": [
    {
     "name": "stdout",
     "output_type": "stream",
     "text": [
      "Enter the units 238\n"
     ]
    },
    {
     "name": "stdout",
     "output_type": "stream",
     "text": [
      "Electricity bill is : 5210\n"
     ]
    }
   ],
   "source": [
    "#27. Develop a program to calculate the electricity bill based on different consumption slabs using elif statements.\n",
    "\n",
    "#Taking the input\n",
    "units = int(input(\"Enter the units\"))\n",
    "            \n",
    "if units <=  100 :\n",
    "    bill = units * 10\n",
    "    print(\"Electricity bill is :\",bill)\n",
    "\n",
    "elif units <= 200:\n",
    "    bill = (units * 10) + (units - 100)*15\n",
    "    print(\"Electricity bill is :\",bill)  \n",
    "            \n",
    "elif units <= 300 :\n",
    "    bill = (units * 10) + (units - 100)*15 + (units - 200)*20\n",
    "    print(\"Electricity bill is :\",bill)  \n",
    "            \n",
    "elif units > 300 :\n",
    "    bill = (units * 10) + (units - 100)*15 + (units - 200)*20 + (units -300)*25\n",
    "    print(\"Electricity bill is :\",bill) \n",
    "            \n",
    "else:\n",
    "    print(\"invalid input\")\n",
    "    "
   ]
  },
  {
   "cell_type": "code",
   "execution_count": 5,
   "id": "7c4eae1d-c6a6-47d4-bb20-8e2eaadb07c7",
   "metadata": {},
   "outputs": [
    {
     "name": "stdout",
     "output_type": "stream",
     "text": [
      "enter the side1 of traingle 3\n",
      "enter the side2 of traingle 4\n",
      "enter the side3 of traingle 3\n",
      "enter the side4 of traingle 4\n"
     ]
    },
    {
     "name": "stdout",
     "output_type": "stream",
     "text": [
      "it is a rectangle\n"
     ]
    }
   ],
   "source": [
    "#28. Create a program to determine the type of quadrilateral based on its angles and sides using elif statements.\n",
    "\n",
    "#Asking user to enter the input\n",
    "s1 = int(input(\"enter the side1 of traingle\"))\n",
    "s2 = int(input(\"enter the side2 of traingle\"))\n",
    "s3 = int(input(\"enter the side3 of traingle\"))\n",
    "s4 = int(input(\"enter the side4 of traingle\"))\n",
    "\n",
    "#Finding the type of Quadrilateral.\n",
    "\n",
    "if s1 == s2 == s3 == s4:\n",
    "        print(\"it is a square\")\n",
    "elif s1 == s3 and s2 == s4:\n",
    "        print(\"it is a rectangle\")\n",
    "elif s1 == s2 and s3 == s4  :\n",
    "        print(\"It is a kite\")\n",
    "else:\n",
    "        print(\"Invalid input\")"
   ]
  },
  {
   "cell_type": "code",
   "execution_count": 3,
   "id": "98848cf3-ce90-4c2e-9afe-218a2ba44170",
   "metadata": {},
   "outputs": [
    {
     "name": "stdout",
     "output_type": "stream",
     "text": [
      "Enter the month 08\n"
     ]
    },
    {
     "name": "stdout",
     "output_type": "stream",
     "text": [
      "season is Monsoon\n"
     ]
    }
   ],
   "source": [
    "#29. Write a Python script to determine the season based on a user-provided month using elif statements.\n",
    "\n",
    "#Enter the month to determine the season\n",
    "month = input(\"Enter the month\")\n",
    "\n",
    "#Determining the season based on the month\n",
    "if month== '12' or month == '01' or month == '02':\n",
    "    print(\"season is winter\")\n",
    "elif month == '03' or month == '04' or month == '05':\n",
    "    print(\"season is Summer\")\n",
    "elif month == '06' or month == '07' or month == '08':\n",
    "    print(\"season is Monsoon\") \n",
    "elif month == '09' or month == '10' or month == '11':\n",
    "    print(\"season is Autumn\")\n",
    "else:\n",
    "    print(\"Enter your input in format 01,02... 12\")"
   ]
  },
  {
   "cell_type": "code",
   "execution_count": 19,
   "id": "43b5263a-c773-4b01-aa1a-07ce078134e8",
   "metadata": {},
   "outputs": [
    {
     "name": "stdout",
     "output_type": "stream",
     "text": [
      "Enter the year 2020\n",
      "Enter the month feb\n"
     ]
    },
    {
     "name": "stdout",
     "output_type": "stream",
     "text": [
      "It is leap year\n",
      "this month has 29 days\n"
     ]
    }
   ],
   "source": [
    "#30. Implement a program to determine the type of a year (leap or common) and month (30 or 31 days) using\n",
    "#elif statements.\n",
    "\n",
    "#User enters the year and month\n",
    "year = int(input(\"Enter the year\"))\n",
    "month = input(\"Enter the month\")\n",
    "leap = ''  \n",
    "\n",
    "#First checking for leap year and days in month\n",
    "if (year % 4 == 0 and year%100 != 0):\n",
    "    leap = True\n",
    "    print(\"It is leap year\")\n",
    "    if month in ('January', 'march','may','july','august','oct','dec'):\n",
    "           print(\"this month has 31 days\")\n",
    "    elif month in ('april','june','sept','nov'):\n",
    "           print(\"this month has 30 days\")\n",
    "    elif month == 'feb' and leap == True:\n",
    "           print(\"this month has 29 days\")\n",
    "    elif month == 'feb' and leap != True:\n",
    "            print (\"this month has 28 days\")"
   ]
  },
  {
   "cell_type": "code",
   "execution_count": 1,
   "id": "60fc0c2e-358e-4c64-bc4c-b91895c639d7",
   "metadata": {},
   "outputs": [
    {
     "name": "stdout",
     "output_type": "stream",
     "text": [
      "Enter a number 5\n"
     ]
    },
    {
     "name": "stdout",
     "output_type": "stream",
     "text": [
      "number is positive\n"
     ]
    }
   ],
   "source": [
    "#1. Write a Python program that checks if a given number is positive, negative, or zero.\n",
    "\n",
    "#Checking if input is positive or negative number\n",
    "def check_num(num):\n",
    "    #if number is positive\n",
    "    if num >= 0:\n",
    "        print(\"number is positive\")\n",
    "    # #if number is zero\n",
    "    elif num == 0:\n",
    "         print(\"number iszero\")\n",
    "    #if number is negative\n",
    "    else:\n",
    "        print(\"number is negative\")\n",
    "        \n",
    "#Asking user to enter the input\n",
    "n = int(input(\"Enter a number\"))\n",
    "\n",
    "#Driver code\n",
    "\n",
    "check_num(n)"
   ]
  },
  {
   "cell_type": "code",
   "execution_count": 3,
   "id": "670d436a-aa4a-42e2-ba40-21d19ed81bf3",
   "metadata": {},
   "outputs": [
    {
     "name": "stdout",
     "output_type": "stream",
     "text": [
      "Enter the person's age 12\n"
     ]
    },
    {
     "name": "stdout",
     "output_type": "stream",
     "text": [
      "person is not eligible for vote\n"
     ]
    }
   ],
   "source": [
    "#2. Create a program to determine if a person is eligible to vote based on their age.\n",
    "\n",
    "#Checking if person is eleigibel for vote or not\n",
    "def eligible(age):\n",
    "    if age >= 18:\n",
    "        print(\"person is eligible for vote\")   \n",
    "    else:\n",
    "         print(\"person is not eligible for vote\")   \n",
    "            \n",
    "#Enter the input\n",
    "age =  int(input(\"Enter the person's age\"))\n",
    "eligible(age)"
   ]
  },
  {
   "cell_type": "code",
   "execution_count": 2,
   "id": "e03fe572-580a-4a39-b135-5dc45e95df67",
   "metadata": {},
   "outputs": [
    {
     "name": "stdout",
     "output_type": "stream",
     "text": [
      "Enter a number 12\n",
      "Enter a number 15\n"
     ]
    },
    {
     "name": "stdout",
     "output_type": "stream",
     "text": [
      "15 is maximum of two numbers\n"
     ]
    }
   ],
   "source": [
    "#3. Write a program to find the maximum of two given numbers using conditional statements.\n",
    "\n",
    "#finding the maximum of two numbers\n",
    "#Function definition\n",
    "def max(num1,num2):\n",
    "\n",
    "    if num1 > num2 :\n",
    "        print(num1 ,\"is maximum of two numbers\")\n",
    "    else:\n",
    "        print(num2 ,\"is maximum of two numbers\")\n",
    "        \n",
    "#Asking user to enter the input\n",
    "num1 = int(input(\"Enter a number\"))\n",
    "num2 = int(input(\"Enter a number\"))\n",
    "\n",
    "max(num1,num2)\n",
    "        "
   ]
  },
  {
   "cell_type": "code",
   "execution_count": 6,
   "id": "144a2879-7524-4999-a8a9-bb9f2c2ce803",
   "metadata": {},
   "outputs": [
    {
     "name": "stdout",
     "output_type": "stream",
     "text": [
      "Enter the score in percentile 56\n"
     ]
    },
    {
     "name": "stdout",
     "output_type": "stream",
     "text": [
      "grade is E\n"
     ]
    }
   ],
   "source": [
    "#4. Develop a program that calculates the grade of a student based on their exam score.\n",
    "\n",
    "#Finding the grade based on score\n",
    "def grade(score):\n",
    "    if score >= 95:\n",
    "        print('grade is A+')\n",
    "    elif  score >=90 and score <= 95:\n",
    "         print('grade is A')\n",
    "    elif score >=80 and score <=90:\n",
    "         print('grade is B')\n",
    "    elif score >=70 and score <=80:\n",
    "         print('grade is C')\n",
    "    elif score >=60 and score <= 70:\n",
    "         print('grade is D')\n",
    "    elif score >=45 and score <= 60:\n",
    "          print('grade is E')\n",
    "    else:\n",
    "        grade = 'Fail'\n",
    "        \n",
    "#Enter the score\n",
    "score = int(input(\"Enter the score in percentile\"))\n",
    "#Calling the function\n",
    "grade(score)"
   ]
  },
  {
   "cell_type": "code",
   "execution_count": 18,
   "id": "d0f138a3-fe9d-4c6b-b807-04459d640e15",
   "metadata": {},
   "outputs": [
    {
     "name": "stdout",
     "output_type": "stream",
     "text": [
      "Enter a year 2020\n"
     ]
    },
    {
     "name": "stdout",
     "output_type": "stream",
     "text": [
      "2020 is a leap year: True\n"
     ]
    }
   ],
   "source": [
    "#5. Create a program that checks if a year is a leap year or not.\n",
    "\n",
    "#defining function\n",
    "#If the year is divisible by 4 or 400 and not divisible by 100 is leap year\n",
    "def year(y):\n",
    "     return ((y%4 == 0 and y%100 != 0) or y%400 == 0)\n",
    "        \n",
    "#Asking user to enter the input\n",
    "y = int(input(\"Enter a year\"))\n",
    "#Calling the function\n",
    "result = year(y)\n",
    "print(f\"{y} is a leap year:\",result)"
   ]
  },
  {
   "cell_type": "code",
   "execution_count": 30,
   "id": "c7d41428-619c-4daa-974a-c91dcd1b2dcd",
   "metadata": {},
   "outputs": [
    {
     "name": "stdout",
     "output_type": "stream",
     "text": [
      "enter the side1 of traingle 12\n",
      "enter the side2 of traingle 13\n",
      "enter the side3 of traingle 15\n"
     ]
    },
    {
     "name": "stdout",
     "output_type": "stream",
     "text": [
      "It's a Scalene Traingle\n"
     ]
    }
   ],
   "source": [
    "#6. Write a program to classify a triangle based on its sides' lengths.\n",
    "\n",
    "#Asking user to enter the input\n",
    "s1 = int(input(\"enter the side1 of traingle\"))\n",
    "s2 = int(input(\"enter the side2 of traingle\"))\n",
    "s3 = int(input(\"enter the side3 of traingle\"))\n",
    "\n",
    "#Checking if the input forms a Traingle\n",
    "#if yes, classifying traingle\n",
    "def valid(s1,s2,s3):\n",
    "    if (s1+s2 >= s3 or s2+s3 >= s1 or s3+s1 >= s2):\n",
    "        return True\n",
    "    else:\n",
    "        return False\n",
    "\n",
    "def traingle(s1,s2,s3):\n",
    "    if s1 == s2 and s2 == s3:\n",
    "        print(\"It's a Equilateral Traingle\")\n",
    "    elif s1 == s2 or s2 == s3 or s3 == s1:\n",
    "        print(\"It's a Isosceles Traingle\")\n",
    "    else:\n",
    "        print(\"It's a Scalene Traingle\")\n",
    "    \n",
    "# Driver code\n",
    "if  valid(s1,s2,s3) == True:\n",
    "    traingle(s1,s2,s3)\n",
    "else:\n",
    "    print(\"Given sides does not form a Traingle\")\n",
    "    "
   ]
  },
  {
   "cell_type": "code",
   "execution_count": 32,
   "id": "f58a966e-4ef2-4100-9930-97b31c136819",
   "metadata": {},
   "outputs": [
    {
     "name": "stdout",
     "output_type": "stream",
     "text": [
      "Enter a number 125\n",
      "Enter a number 451\n",
      "Enter a number 265\n"
     ]
    },
    {
     "name": "stdout",
     "output_type": "stream",
     "text": [
      "Largest of three numbers is: 451\n"
     ]
    }
   ],
   "source": [
    "#7. Build a program that determines the largest of three given numbers.\n",
    "\n",
    "#Checking for the maximum number of three numbers\n",
    "def largest_num(num1,num2,num3):\n",
    "    if num1 > num2 and num1 > num3:\n",
    "        print(\"Largest of three numbers is:\", num1)\n",
    "    elif num2 > num1 and num2 > num3:\n",
    "        print(\"Largest of three numbers is:\", num2)\n",
    "    else:\n",
    "        print(\"Largest of three numbers is:\", num3)\n",
    "#enter the numbers\n",
    "n1  = int(input(\"Enter a number\"))\n",
    "n2  = int(input(\"Enter a number\"))\n",
    "n3  = int(input(\"Enter a number\"))\n",
    "#calling the function\n",
    "largest_num(n1,n2,n3)"
   ]
  },
  {
   "cell_type": "code",
   "execution_count": 34,
   "id": "6f1effae-0fac-4a33-8277-b69601815868",
   "metadata": {},
   "outputs": [
    {
     "name": "stdout",
     "output_type": "stream",
     "text": [
      "Enter a character l\n"
     ]
    },
    {
     "name": "stdout",
     "output_type": "stream",
     "text": [
      "character is consonant\n"
     ]
    }
   ],
   "source": [
    "#8. Develop a program that checks whether a character is a vowel or a consonant.\n",
    "\n",
    "#checking if character is vowel or cocnsonant\n",
    "def vowel(char):\n",
    "    if char in ('aeiou' or 'AEIOU'):\n",
    "        print(\"character is vowel\")\n",
    "    else:\n",
    "        print(\"character is consonant\")\n",
    "\n",
    "#Enter the input\n",
    "character = input(\"Enter a character\")\n",
    "#Calling the function\n",
    "vowel(character)\n",
    "        "
   ]
  },
  {
   "cell_type": "code",
   "execution_count": 3,
   "id": "a371be8d-e8ec-45da-b796-a5459d2de26d",
   "metadata": {},
   "outputs": [
    {
     "name": "stdout",
     "output_type": "stream",
     "text": [
      "Enter Sale Amount:  10000\n",
      "Enter Sale Amount:  10000\n"
     ]
    },
    {
     "name": "stdout",
     "output_type": "stream",
     "text": [
      "total cost is: 8800.0\n"
     ]
    }
   ],
   "source": [
    "#9. Create a program to calculate the total cost of a shopping cart based on discounts.\n",
    "\n",
    "# calculating total amount after discount\n",
    "def amount(amt):\n",
    "    if(amt>0):\n",
    "        if amt<=5000:\n",
    "            print(\"total cost is:\", amt - amt*0.05)\n",
    "        elif amt<=15000:\n",
    "            print(\"total cost is:\",amt- amt*0.12)\n",
    "        elif amt<=25000:\n",
    "            print(\"total cost is:\",amt - 0.2 * amt)\n",
    "        else:\n",
    "             print(\"total cost is:\",amt - 0.3 * amt)\n",
    "            \n",
    "# input total amount\n",
    "cost = int(input(\"Enter Sale Amount: \"))\n",
    "#Calling the function\n",
    "amount(cost)"
   ]
  },
  {
   "cell_type": "code",
   "execution_count": 5,
   "id": "f3a7ecc3-f796-4372-8c06-7fc9c65fdc14",
   "metadata": {},
   "outputs": [
    {
     "name": "stdout",
     "output_type": "stream",
     "text": [
      "Enter a number 5\n"
     ]
    },
    {
     "name": "stdout",
     "output_type": "stream",
     "text": [
      "Number is Odd\n"
     ]
    }
   ],
   "source": [
    "#10. Write a program that checks if a given number is even or odd.\n",
    "\n",
    "#Program to find if number is even or odd\n",
    "def number(num):\n",
    "    #if number is even\n",
    "    if num % 2 == 0:\n",
    "        print(\"Number is Even\")\n",
    "    #if number is odd\n",
    "    else:\n",
    "        print(\"Number is Odd\")\n",
    "\n",
    "#Asking user to give input\n",
    "n = int(input(\"Enter a number\"))\n",
    "#Calling the function\n",
    "number(n)"
   ]
  },
  {
   "cell_type": "code",
   "execution_count": 7,
   "id": "20692292-8060-4233-86ef-477e3415947b",
   "metadata": {},
   "outputs": [
    {
     "name": "stdout",
     "output_type": "stream",
     "text": [
      "Enter a:  2\n",
      "Enter b:  3\n",
      "Enter c:  4\n"
     ]
    },
    {
     "name": "stdout",
     "output_type": "stream",
     "text": [
      "Complex Roots exist.\n",
      "-0.75  + i 4.795831523312719\n",
      "-0.75  - i 4.795831523312719\n"
     ]
    }
   ],
   "source": [
    "#11. Write a program that calculates the roots of a quadratic equation .\n",
    "\n",
    "import math\n",
    "\n",
    "def findroots(a,b,c):\n",
    "    if a == 0:\n",
    "        print(\"Enter the coefficients correctly.\")\n",
    "    else:\n",
    "        disc = b * b - 4 * a * c  \n",
    "        sqrt_val = math.sqrt(abs(disc))  \n",
    "\n",
    "        if disc > 0:  \n",
    "            print(\"Real and different roots \")  \n",
    "            print((-b + sqrt_val)/(2 * a))  \n",
    "            print((-b - sqrt_val)/(2 * a))  \n",
    "\n",
    "        elif disc == 0:  \n",
    "            print(\"Real and same roots\")  \n",
    "            print(-b / (2 * a))  \n",
    "\n",
    "        else:  \n",
    "            print(\"Complex Roots exist.\")  \n",
    "            print(- b / (2 * a), \" + i\", sqrt_val)  \n",
    "            print(- b / (2 * a), \" - i\", sqrt_val)\n",
    "\n",
    "#Taking input from user\n",
    "a = int(input(\"Enter a: \"))\n",
    "b = int(input(\"Enter b: \"))\n",
    "c = int(input(\"Enter c: \"))\n",
    "\n",
    "#Calling the function\n",
    "findroots(a,b,c)"
   ]
  },
  {
   "cell_type": "code",
   "execution_count": 8,
   "id": "9d862bea-f580-418c-8772-c95ebd9284cb",
   "metadata": {},
   "outputs": [
    {
     "name": "stdout",
     "output_type": "stream",
     "text": [
      "Enter number 6\n"
     ]
    },
    {
     "name": "stdout",
     "output_type": "stream",
     "text": [
      "It's saturday\n"
     ]
    }
   ],
   "source": [
    "#12. Create a program that determines the day of the week based on the day number (1-7).\n",
    "\n",
    "#Defining the function to determine the day\n",
    "def weekday(day):\n",
    "    \n",
    "    #printing the day based on user provided number\n",
    "    if day == 1:\n",
    "        print(\"It's monday\")   \n",
    "    elif day == 2:\n",
    "        print(\"It's tuesday\")    \n",
    "    elif day == 3:\n",
    "        print(\"It's wednesday\")    \n",
    "    elif day == 4:\n",
    "        print(\"It's thursday\")    \n",
    "    elif day == 5:\n",
    "        print(\"It's friday\")    \n",
    "    elif day == 6:\n",
    "        print(\"It's saturday\")   \n",
    "    elif day == 7:\n",
    "        print(\"It's sunday\")    \n",
    "    else:\n",
    "        print(\"enter the input between 1 and 7\")\n",
    "    \n",
    "#user to enter input\n",
    "daynum = int(input(\"Enter number\"))\n",
    "\n",
    "#Calling the function\n",
    "weekday(daynum)"
   ]
  },
  {
   "cell_type": "code",
   "execution_count": 9,
   "id": "c219719e-b7be-4d33-869b-bb0d9c66307f",
   "metadata": {},
   "outputs": [
    {
     "name": "stdout",
     "output_type": "stream",
     "text": [
      "Enter the number 6\n"
     ]
    },
    {
     "name": "stdout",
     "output_type": "stream",
     "text": [
      "Factorial of number is: 720\n"
     ]
    }
   ],
   "source": [
    "#13. Develop a program that calculates the factorial of a given number using recursion.\n",
    "\n",
    "#Function to find factorial of an number\n",
    "\n",
    "def Factorial(n):\n",
    "    \n",
    "    if n == 0:\n",
    "        return 1\n",
    "    else:\n",
    "        return n * Factorial(n-1)\n",
    "    \n",
    "#Driver code\n",
    "num = int(input(\"Enter the number\"))\n",
    "print(\"Factorial of number is:\",Factorial(num))"
   ]
  },
  {
   "cell_type": "code",
   "execution_count": 12,
   "id": "0d9311b3-2b7a-4203-bb20-2e64c9012de3",
   "metadata": {},
   "outputs": [
    {
     "name": "stdout",
     "output_type": "stream",
     "text": [
      "Enter a number 34\n",
      "Enter a number 54\n",
      "Enter a number 89\n"
     ]
    },
    {
     "name": "stdout",
     "output_type": "stream",
     "text": [
      "largest is: 89\n"
     ]
    }
   ],
   "source": [
    "#14. Write a program to find the largest among three numbers without using the `max()` function.\n",
    "\n",
    "#Function to find largest number\n",
    "\n",
    "def Maximum(num1,num2,num3):\n",
    "#Checking for the maximum number of three numbers\n",
    "    if num1 > num2 and num1 > num3:\n",
    "        print(\"largest is:\", num1)\n",
    "    elif num2 > num1 and num2 > num3:\n",
    "        print(\"largest is:\", num2)\n",
    "    else:\n",
    "        print(\"largest is:\", num3)\n",
    "\n",
    "#Driver Code\n",
    "\n",
    "#enter the numbers\n",
    "n1  = int(input(\"Enter a number\"))\n",
    "n2  = int(input(\"Enter a number\"))\n",
    "n3  = int(input(\"Enter a number\"))\n",
    "\n",
    "#Calling the function\n",
    "Maximum(n1,n2,n3)"
   ]
  },
  {
   "cell_type": "code",
   "execution_count": 4,
   "id": "1541c9ec-8bbd-4086-9d77-3eb33aa699c4",
   "metadata": {},
   "outputs": [
    {
     "name": "stdout",
     "output_type": "stream",
     "text": [
      "Inser your card\n",
      "enter your pin\n"
     ]
    },
    {
     "name": "stdout",
     "output_type": "stream",
     "text": [
      "enter your pin 5678\n",
      "Enter you option 1/2/3.. 1\n"
     ]
    },
    {
     "name": "stdout",
     "output_type": "stream",
     "text": [
      "Available balance is 89000 Rupees only\n",
      "Thank you, Please visit again\n"
     ]
    }
   ],
   "source": [
    "#15. Create a program that simulates a basic ATM transaction menu.\n",
    "\n",
    "def checkbalance(balance):\n",
    "    print(\"Available balance is\", balance ,\"Rupees only\")\n",
    "\n",
    "def deposit(balance):\n",
    "    \n",
    "    deposit_amount = int(input(\"Enter the amount to be deposited\"))\n",
    "    balance += deposit_amount\n",
    "    print(\"New balance amount is:\",balance)\n",
    "    \n",
    "def withdraw(balance,withdraw_amount):\n",
    "    \n",
    "    #withdraw_amount = int(input(\"Enter the amount to be withdrawed\")\n",
    "    if withdraw_amount <= balance:\n",
    "        balance -= withdraw_amount\n",
    "        print(\"Transaction Successfull and current balnace is \", balance)\n",
    "    else:\n",
    "        print(\"Insufficient Funds\")\n",
    "                          \n",
    "def main():\n",
    "        \n",
    "    pin = 5678\n",
    "    balance = 89000\n",
    "    \n",
    "    print(\"Inser your card\")\n",
    "    print(\"enter your pin\")\n",
    "                          \n",
    "    confirm_pin = int(input(\"enter your pin\"))\n",
    "    \n",
    "    if pin == confirm_pin:\n",
    "        \n",
    "        option = int(input(\"Enter you option 1/2/3..\"))\n",
    "\n",
    "        if option == 1:\n",
    "           checkbalance(balance)\n",
    "        elif option == 2:\n",
    "           deposit(balance)\n",
    "        elif option == 3:          \n",
    "            withdraw_amount=int(input(\"Enter withdraw amount\"))\n",
    "            withdraw(balance, withdraw_amount)\n",
    "        else:\n",
    "            print(\"Invalid input\")\n",
    "\n",
    "        print(\"Thank you, Please visit again\")\n",
    "\n",
    "\n",
    "if __name__ == \"__main__\":\n",
    "    \n",
    "    main()\n",
    "                 \n",
    "    \n",
    "    \n",
    "    \n",
    "                    \n",
    "    "
   ]
  },
  {
   "cell_type": "code",
   "execution_count": 2,
   "id": "f625819c-4a31-4df3-bb35-88e2bab2b4da",
   "metadata": {},
   "outputs": [
    {
     "name": "stdout",
     "output_type": "stream",
     "text": [
      "Enter any string reverse\n"
     ]
    },
    {
     "name": "stdout",
     "output_type": "stream",
     "text": [
      "String is not palindrome\n"
     ]
    }
   ],
   "source": [
    "#16. Build a program that checks if a given string is a palindrome or not.\n",
    "\n",
    "#Function to find if string is palindrome or not\n",
    "def palindrome(word):\n",
    "    #finding if string is palindrome or not\n",
    "    if word == word[::-1]:\n",
    "        print(\"String is palindrome\")\n",
    "    else:\n",
    "        print(\"String is not palindrome\")\n",
    "    \n",
    "#Enter the string\n",
    "string = input(\"Enter any string\")\n",
    "#Calling the function\n",
    "palindrome(string)\n"
   ]
  },
  {
   "cell_type": "code",
   "execution_count": 4,
   "id": "c63e77f7-e738-4cef-a025-78fc34383e43",
   "metadata": {},
   "outputs": [
    {
     "data": {
      "text/plain": [
       "4.0"
      ]
     },
     "execution_count": 4,
     "metadata": {},
     "output_type": "execute_result"
    }
   ],
   "source": [
    "#17. Write a program that calculates the average of a list of numbers, excluding the smallest and largest values.\n",
    "\n",
    "#Function to caluculate avg of list of numbers excluding max and min values\n",
    "def avg_value(l):\n",
    "    return ((sum(l)-max(l)-min(l))/(len(l)-2))\n",
    "\n",
    "#Defining list\n",
    "my_list = [1,2,3,4,5,6,7]\n",
    "#Calling function\n",
    "avg_value(my_list)\n",
    "    \n",
    "    "
   ]
  },
  {
   "cell_type": "code",
   "execution_count": 7,
   "id": "86ca3bc0-35ce-4412-9c89-1fbf86538739",
   "metadata": {},
   "outputs": [
    {
     "name": "stdout",
     "output_type": "stream",
     "text": [
      "Enter the temperature in celsius 34\n"
     ]
    },
    {
     "name": "stdout",
     "output_type": "stream",
     "text": [
      "Temperature in faranheit is: 93.2\n"
     ]
    }
   ],
   "source": [
    "#18. Develop a program that converts a given temperature from Celsius to Fahrenheit.\n",
    "\n",
    "#Function to convert temperature from Celsius to Fahrenheit.\n",
    "def temp_conv(temp):\n",
    "    return (temp * 1.8) + 32\n",
    "\n",
    "#Taking input from user\n",
    "celsius = int(input(\"Enter the temperature in celsius\"))\n",
    "\n",
    "#Calling the function and priting the output\n",
    "print(\"Temperature in faranheit is:\",temp_conv(celsius))"
   ]
  },
  {
   "cell_type": "code",
   "execution_count": 13,
   "id": "b7ab0713-b67d-43ee-b50b-0bba319966d4",
   "metadata": {},
   "outputs": [
    {
     "name": "stdout",
     "output_type": "stream",
     "text": [
      "Enter first number 12\n",
      "Enter second number 5\n"
     ]
    },
    {
     "name": "stdout",
     "output_type": "stream",
     "text": [
      "Select your operation -\n",
      "1. Add\n",
      "2. Subtract\n",
      "3. Multiply\n",
      "4. Divide\n",
      "\n"
     ]
    },
    {
     "name": "stdout",
     "output_type": "stream",
     "text": [
      "Select your option 1,2,3,4 -  3\n"
     ]
    },
    {
     "name": "stdout",
     "output_type": "stream",
     "text": [
      "Multiplication of two numbers is: 60\n"
     ]
    }
   ],
   "source": [
    "#19. Create a program that simulates a basic calculator for addition, subtraction, multiplication, and division.\n",
    "\n",
    "#Function to perform basic caluculator\n",
    "\n",
    "def add(n1,n2):\n",
    "    return n1 + n2\n",
    "\n",
    "def sub(n1,n2):\n",
    "    return n1 - n2\n",
    "\n",
    "def mul(n1,n2):\n",
    "    return n1 * n2\n",
    "\n",
    "def div(n1,n2):\n",
    "    return n1/n2\n",
    "\n",
    "#Driver's Code\n",
    "\n",
    "\n",
    "n1 = int(input(\"Enter first number\"))\n",
    "n2 = int(input(\"Enter second number\"))\n",
    "         \n",
    "print(\"Select your operation -\\n\" \\\n",
    "        \"1. Add\\n\" \\\n",
    "        \"2. Subtract\\n\" \\\n",
    "        \"3. Multiply\\n\" \\\n",
    "        \"4. Divide\\n\")\n",
    "         \n",
    "option = int(input(\"Select your option 1,2,3,4 - \"))\n",
    "         \n",
    "if option == 1:\n",
    "    print(\"Addition of two numbers is:\",add(n1,n2))\n",
    "elif option == 2:\n",
    "    print(\"Subtraction of two numbers is:\",sub(n1,n2))\n",
    "elif option == 3:\n",
    "    print(\"Multiplication of two numbers is:\",mul(n1,n2))\n",
    "elif option == 4:\n",
    "    print(\"Division of two numbers is:\",div(n1,n2))\n",
    "else:\n",
    "    print(\"Invalid option\")\n",
    "          \n",
    "          "
   ]
  },
  {
   "cell_type": "code",
   "execution_count": 1,
   "id": "8b4f963a-c091-4439-858a-dccd9b6cf443",
   "metadata": {},
   "outputs": [
    {
     "name": "stdout",
     "output_type": "stream",
     "text": [
      "Three distinct real roots:\n",
      "x1 =  1.414213562373095\n",
      "x2 =  -1.414213562373095\n",
      "x3 =  -3.0\n",
      "y1 = (-1.7763568394002505e-15+0j)\n",
      "y2 = (-1.7763568394002505e-15+0j)\n",
      "y3 = 0j\n"
     ]
    }
   ],
   "source": [
    "#20. Write a program that determines the roots of a cubic equation using the Cardano formula.\n",
    "\n",
    "import cmath\n",
    "# Define the coefficients of the cubic equation ax^3+bx^2+cx+d\n",
    "a = 1\n",
    "b = 3\n",
    "c = -2\n",
    "d = -6\n",
    "\n",
    "# calculate intermediate values\n",
    "p = (3*a*c - b**2) / (3*a**2)\n",
    "q = (2*b**3 - 9*a*b*c + 27*a**2*d) / (27*a**3)\n",
    "delta = (q**2 / 4 + p**3 / 27)\n",
    "\n",
    "# determine number and type of roots\n",
    "if delta > 0:  # one real and two complex roots\n",
    "    u = (-q/2 + cmath.sqrt(delta))**(1/3)\n",
    "    v = (-q/2 - cmath.sqrt(delta))**(1/3)\n",
    "    x1 = u + v - b / (3*a)\n",
    "    x2 = -(u + v)/2 - b / (3*a) + (u - v)*cmath.sqrt(3)/2j\n",
    "    x3 = -(u + v)/2 - b / (3*a) - (u - v)*cmath.sqrt(3)/2j\n",
    "    print(\"One real root and two complex roots:\")\n",
    "    print(\"x1 = \", x1.real)\n",
    "    print(\"x2 = \", x2)\n",
    "    print(\"x3 = \", x3)\n",
    "elif delta == 0:  # three real roots, two are equal\n",
    "    u = (-q/2)**(1/3)\n",
    "    v = u\n",
    "    x1 = 2*u - b / (3*a)\n",
    "    x2 = -u - b / (3*a)\n",
    "    print(\"Three real roots, two are equal:\")\n",
    "    print(\"x1 = \", x1.real)\n",
    "    print(\"x2 = \", x2.real)\n",
    "    print(\"x3 = \", x3.real)\n",
    "else:  # three distinct real roots\n",
    "    u = (-q/2 + cmath.sqrt(delta))**(1/3)\n",
    "    v = (-q/2 - cmath.sqrt(delta))**(1/3)\n",
    "    x1 = u + v - b / (3*a)\n",
    "    x2 = -(u + v)/2 - b / (3*a) + (u - v)*cmath.sqrt(3)/2j\n",
    "    x3 = -(u + v)/2 - b / (3*a) - (u - v)*cmath.sqrt(3)/2j\n",
    "    print(\"Three distinct real roots:\")\n",
    "    print(\"x1 = \", x1.real)\n",
    "    print(\"x2 = \", x2.real)\n",
    "    print(\"x3 = \", x3.real)\n",
    "\n",
    "print(\"y1 =\", (a*x1**3)+(b*x1**2)+c*x1+d)\n",
    "print(\"y2 =\", (a*x2**3)+(b*x2**2)+c*x2+d)\n",
    "print(\"y3 =\", (a*x3**3)+(b*x3**2)+c*x3+d)"
   ]
  },
  {
   "cell_type": "code",
   "execution_count": 4,
   "id": "a7c94f72-e6d2-494c-9592-34bb89a98644",
   "metadata": {},
   "outputs": [
    {
     "name": "stdout",
     "output_type": "stream",
     "text": [
      "Enter salary 1200000\n"
     ]
    },
    {
     "name": "stdout",
     "output_type": "stream",
     "text": [
      "Tax using New Tax Slab Rates: 115000.0\n"
     ]
    }
   ],
   "source": [
    "#21. Create a program that calculates the income tax based on the user's income and tax brackets.\n",
    "\n",
    "#function to find tax based on income\n",
    "\n",
    "def get_new_tax(salary):\n",
    "    # lies under tax rebate limit\n",
    "    if salary <= 700000:\n",
    "        return 0\n",
    "    if salary <= 1000000:\n",
    "        return (250000 * 0.05) + (250000 * 0.10) + (salary - 750000) * 0.15\n",
    "    if salary <= 1250000:\n",
    "        return (250000 * 0.05) + (250000 * 0.10) + (250000 * 0.15) + (salary - 1000000) * 0.2\n",
    "    if salary <= 1500000:\n",
    "        return (250000 * 0.05) + (250000 * 0.10) + (250000 * 0.15) + (250000 * 0.2) + (salary - 1250000) * 0.25\n",
    "    return (250000 * 0.05) + (250000 * 0.10) + (250000 * 0.15) + (250000 * 0.2) + (250000 * 0.25) + (salary - 1500000) * 0.3\n",
    "\n",
    "\n",
    "def main():\n",
    "    salary = int(input(\"Enter salary\"))\n",
    "    print(\"Tax using New Tax Slab Rates:\", get_new_tax(salary))\n",
    "\n",
    "\n",
    "if __name__ == \"__main__\":\n",
    "    main()"
   ]
  },
  {
   "cell_type": "code",
   "execution_count": 6,
   "id": "b46ac939-4db5-458d-bf9d-e604debe3b9d",
   "metadata": {},
   "outputs": [
    {
     "name": "stdout",
     "output_type": "stream",
     "text": [
      "Enter a choice (rock, paper, scissors):  paper\n"
     ]
    },
    {
     "name": "stdout",
     "output_type": "stream",
     "text": [
      "\n",
      "You chose rock, computer chose paper.\n",
      "\n",
      "Both players selected paper. It's a tie!\n"
     ]
    }
   ],
   "source": [
    "#22. Write a program that simulates a rock-paper-scissors game against the computer.\n",
    "\n",
    "def game(user_action,computer_action):\n",
    "    if user_action == computer_action:\n",
    "        print(f\"Both players selected {user_action}. It's a tie!\")\n",
    "    elif user_action == \"rock\":\n",
    "        if computer_action == \"scissors\":\n",
    "            print(\"Rock smashes scissors! You win!\")\n",
    "        else:\n",
    "            print(\"Paper covers rock! You lose.\")\n",
    "    elif user_action == \"paper\":\n",
    "        if computer_action == \"rock\":\n",
    "            print(\"Paper covers rock! You win!\")\n",
    "        else:\n",
    "            print(\"Scissors cuts paper! You lose.\")\n",
    "    elif user_action == \"scissors\":\n",
    "        if computer_action == \"paper\":\n",
    "            print(\"Scissors cuts paper! You win!\")\n",
    "        else:\n",
    "            print(\"Rock smashes scissors! You lose.\")\n",
    "            \n",
    "\n",
    "import random\n",
    "\n",
    "user_choice = input(\"Enter a choice (rock, paper, scissors): \")\n",
    "possible_actions = [\"rock\", \"paper\", \"scissors\"]\n",
    "system_choice = random.choice(possible_actions)\n",
    "print(f\"\\nYou chose {user_action}, computer chose {computer_action}.\\n\")\n",
    "\n",
    "\n",
    "#calling function\n",
    "game(user_choice,system_choice)"
   ]
  },
  {
   "cell_type": "code",
   "execution_count": 11,
   "id": "af1fce52-aead-4806-8a09-f00f47e0d2c1",
   "metadata": {},
   "outputs": [
    {
     "name": "stdout",
     "output_type": "stream",
     "text": [
      "Enter the password length 9\n",
      "Enter the password strength : easy/medium/strong medium\n"
     ]
    },
    {
     "data": {
      "text/plain": [
       "'ViY4jjf1i'"
      ]
     },
     "execution_count": 11,
     "metadata": {},
     "output_type": "execute_result"
    }
   ],
   "source": [
    "#23. Develop a program that generates a random password based on user preferences (length, complexity).\n",
    "\n",
    "import random,string\n",
    "\n",
    "def generate_password(length,complexity):\n",
    "    \n",
    "    if complexity == 'easy':\n",
    "        all_characters = string.ascii_letters\n",
    "    elif complexity == 'medium':\n",
    "        all_characters = string.ascii_letters + string.digits\n",
    "    elif complexity == 'strong':\n",
    "        all_characters = string.ascii_letters + string.digits + string.punctuation\n",
    "        \n",
    "    password =  \"\".join(random.choices(all_characters,k = length))\n",
    "    \n",
    "    return password\n",
    "\n",
    "\n",
    "#Driver code\n",
    "\n",
    "length = int(input(\"Enter the password length\"))\n",
    "complexity = input(\"Enter the password strength : easy/medium/strong\")\n",
    "#calling the function\n",
    "generate_password(length,complexity)"
   ]
  },
  {
   "cell_type": "code",
   "execution_count": 12,
   "id": "8721cebc-ba55-46de-b461-fb65c51d7e93",
   "metadata": {},
   "outputs": [
    {
     "name": "stdout",
     "output_type": "stream",
     "text": [
      "\n",
      "WELCOME! LET'S START THE ADVENTURE\n",
      "\n",
      "You are standing outside of your house and you see a man running towards you and asking for urgent shelter.\n",
      "\n",
      "Will you provide shelter to him. (Yes / No)\n",
      "\n"
     ]
    },
    {
     "name": "stdout",
     "output_type": "stream",
     "text": [
      ">> yes\n"
     ]
    },
    {
     "name": "stdout",
     "output_type": "stream",
     "text": [
      "\n",
      "After 2 minutes, the Police came to your house, and ask you that whether the thief is in your house or not. Will you say (Yes / No)\n",
      "\n"
     ]
    },
    {
     "name": "stdout",
     "output_type": "stream",
     "text": [
      ">> yes\n"
     ]
    },
    {
     "name": "stdout",
     "output_type": "stream",
     "text": [
      "\n",
      "You are an honest person. He was a thief & You won the Game\n"
     ]
    }
   ],
   "source": [
    "#24. Create a program that implements a simple text-based adventure game with branching scenarios.\n",
    "\n",
    "answer_yes = [\"Yes\", \"Y\", \"yes\", \"y\"]\n",
    "answer_no = [\"No\", \"N\", \"no\", \"n\"]\n",
    "\n",
    "print(\"\"\"\n",
    "WELCOME! LET'S START THE ADVENTURE\n",
    "\n",
    "You are standing outside of your house and you see a man running towards you and asking for urgent shelter.\n",
    "\n",
    "Will you provide shelter to him. (Yes / No)\n",
    "\"\"\")\n",
    "\n",
    "ans1 = input(\">>\")\n",
    "\n",
    "if ans1 in answer_yes:\n",
    "    print(\"\\nAfter 2 minutes, the Police came to your house, and ask you that whether the thief is in your house or not. Will you say (Yes / No)\\n\")\n",
    "\n",
    "    ans2 = input(\">>\")\n",
    "\n",
    "    if ans2 in answer_yes:\n",
    "        print(\"\\nYou are an honest person. He was a thief & You won the Game\")\n",
    "\n",
    "    elif ans2 in answer_no:\n",
    "        print(\"\\nYou helped a thief. Now, go to Jail. GAME OVER\")\n",
    "\n",
    "    else:\n",
    "        print(\"\\nYou typed the wrong input. GOODBYE!\")\n",
    "\n",
    "elif ans1 in answer_no:\n",
    "    print(\"\\nNow, he is trying to kill you. Will, you knock him down? (Yes / No)\\n\")\n",
    "\n",
    "    ans3 = input(\">>\")\n",
    "\n",
    "    if ans3 in answer_yes:\n",
    "        print(\"\\nCongrats! He was a thief & You helped the police to catch him with your bravery.\")\n",
    "\n",
    "    elif ans3 in answer_no:\n",
    "        print(\"\\nSorry! You are dead. He was a thief & He killed you. GAME OVER\")\n",
    "\n",
    "    else:\n",
    "        print(\"\\nYou typed the wrong input. GOODBYE!\")\n",
    "\n",
    "else:\n",
    "    print(\"\\nYou typed the wrong input. GOODBYE!\")"
   ]
  },
  {
   "cell_type": "code",
   "execution_count": 3,
   "id": "8fbfe1c8-142e-4a2f-ab79-d6659a60b45e",
   "metadata": {},
   "outputs": [
    {
     "name": "stdout",
     "output_type": "stream",
     "text": [
      "Enter a co-eficient value 2\n",
      "Enter b co-eficient value 4\n",
      "Enter c co-eficient value 5\n"
     ]
    },
    {
     "data": {
      "text/plain": [
       "0.5"
      ]
     },
     "execution_count": 3,
     "metadata": {},
     "output_type": "execute_result"
    }
   ],
   "source": [
    "#25. Build a program that solves a linear equation for x, considering different cases.\n",
    "\n",
    "def lin_eq(a,b,c):\n",
    "    #basic linear equation is ax+b = c\n",
    "    x = (c-b)/a\n",
    "    return x\n",
    "\n",
    "a = int(input(\"Enter a co-eficient value\"))\n",
    "b = int(input(\"Enter b co-eficient value\"))\n",
    "c = int(input(\"Enter c co-eficient value\"))\n",
    "\n",
    "lin_eq(a,b,c)"
   ]
  },
  {
   "cell_type": "code",
   "execution_count": 1,
   "id": "8fe60cd2-3323-4b35-8b09-0ae2c71f8906",
   "metadata": {},
   "outputs": [
    {
     "name": "stdout",
     "output_type": "stream",
     "text": [
      "What is the capital of France?\n",
      "A) London\n",
      "B) Paris\n",
      "C) Rome\n",
      "D) Berlin\n"
     ]
    },
    {
     "name": "stdout",
     "output_type": "stream",
     "text": [
      "Enter your answer (A, B, C, or D):  B\n"
     ]
    },
    {
     "name": "stdout",
     "output_type": "stream",
     "text": [
      "Correct!\n",
      "\n",
      "Which language is primarily used for Android app development?\n",
      "A) Java\n",
      "B) Swift\n",
      "C) Kotlin\n",
      "D) C#\n"
     ]
    },
    {
     "name": "stdout",
     "output_type": "stream",
     "text": [
      "Enter your answer (A, B, C, or D):  C\n"
     ]
    },
    {
     "name": "stdout",
     "output_type": "stream",
     "text": [
      "Correct!\n",
      "\n",
      "Who wrote the novel '1984'?\n",
      "A) Aldous Huxley\n",
      "B) George Orwell\n",
      "C) Isaac Asimov\n",
      "D) Stephen King\n"
     ]
    },
    {
     "name": "stdout",
     "output_type": "stream",
     "text": [
      "Enter your answer (A, B, C, or D):  B\n"
     ]
    },
    {
     "name": "stdout",
     "output_type": "stream",
     "text": [
      "Correct!\n",
      "\n",
      "Your final score is 3/3.\n"
     ]
    }
   ],
   "source": [
    "#26. Write a program that simulates a basic quiz game with multiple-choice questions and scoring.\n",
    "\n",
    "\n",
    "# Define the quiz questions, choices, and answers\n",
    "questions = [\n",
    "    {\n",
    "        \"question\": \"What is the capital of France?\",\n",
    "        \"choices\": ['A) London', 'B) Paris', 'C) Rome', 'D) Berlin'],\n",
    "        \"answer\": \"B\"\n",
    "    },\n",
    "    {\n",
    "        \"question\": \"Which language is primarily used for Android app development?\",\n",
    "        \"choices\": ['A) Java', 'B) Swift', 'C) Kotlin', 'D) C#'],\n",
    "        \"answer\": \"C\"\n",
    "    },\n",
    "    {\n",
    "        \"question\": \"Who wrote the novel '1984'?\",\n",
    "        \"choices\": ['A) Aldous Huxley', 'B) George Orwell', 'C) Isaac Asimov', 'D) Stephen King'],\n",
    "        \"answer\": \"B\"\n",
    "    }\n",
    "]\n",
    "\n",
    "#Defining function to run quiz\n",
    "\n",
    "def run_quiz(questions):\n",
    "    score = 0\n",
    "    for question in questions:\n",
    "        print(question[\"question\"])\n",
    "        for choice in question[\"choices\"]:\n",
    "            print(choice)\n",
    "        user_answer = input(\"Enter your answer (A, B, C, or D): \").upper()\n",
    "        if user_answer == question[\"answer\"]:\n",
    "            print(\"Correct!\")\n",
    "            score += 1\n",
    "        else:\n",
    "            print(f\"Wrong! The correct answer is {question['answer']}.\")\n",
    "        print()  # Print a blank line for spacing\n",
    "    \n",
    "    print(f\"Your final score is {score}/{len(questions)}.\")\n",
    "\n",
    "# Run the quiz\n",
    "run_quiz(questions)\n",
    "\n",
    "\n",
    "        \n",
    " "
   ]
  },
  {
   "cell_type": "code",
   "execution_count": 4,
   "id": "d74d62c6-9f6c-4bb3-9afd-9e50f0bc8cb6",
   "metadata": {},
   "outputs": [
    {
     "name": "stdout",
     "output_type": "stream",
     "text": [
      "Enter a year:  2023\n"
     ]
    },
    {
     "name": "stdout",
     "output_type": "stream",
     "text": [
      "2023 is not a prime number\n"
     ]
    }
   ],
   "source": [
    "#27. Develop a program that determines whether a given year is a prime number or not.\n",
    "\n",
    "# Program to check if given year is prime or not\n",
    "\n",
    "# To take input from the user\n",
    "year = int(input(\"Enter a year: \"))\n",
    "\n",
    "def prime(num):\n",
    "    # define a flag variable\n",
    "    flag = False\n",
    "\n",
    "    if num == 1:\n",
    "        print(num, \"is not a prime number\")\n",
    "    elif num > 1:\n",
    "        # check for factors\n",
    "        for i in range(2, num):\n",
    "            if (num % i) == 0:\n",
    "                # if factor is found, set flag to True\n",
    "                flag = True\n",
    "                # break out of loop\n",
    "                break\n",
    "\n",
    "        # check if flag is True\n",
    "        if flag:\n",
    "            print(num, \"is not a prime number\")\n",
    "        else:\n",
    "            print(num, \"is a prime number\")\n",
    "            \n",
    "prime(year)"
   ]
  },
  {
   "cell_type": "code",
   "execution_count": 5,
   "id": "4fc46103-1422-42c3-836d-4bc1c3ded86f",
   "metadata": {},
   "outputs": [
    {
     "name": "stdout",
     "output_type": "stream",
     "text": [
      "Enter the first number:  14\n",
      "Enter the second number:  56\n",
      "Enter the third number:  34\n"
     ]
    },
    {
     "name": "stdout",
     "output_type": "stream",
     "text": [
      "Sorted numbers in ascending order: 14 34 56\n"
     ]
    }
   ],
   "source": [
    "#28. Create a program that sorts three numbers in ascending order using conditional statements.\n",
    "\n",
    "# Prompt the user to enter three numbers\n",
    "num1 = int(input(\"Enter the first number: \"))\n",
    "num2 = int(input(\"Enter the second number: \"))\n",
    "num3 = int(input(\"Enter the third number: \"))\n",
    "\n",
    "\n",
    "def asc_order(num1,num2,num3):\n",
    "# Sort the numbers in ascending order\n",
    "    if num1 <= num2 and num1 <= num3:\n",
    "        smallest = num1\n",
    "        if num2 <= num3:\n",
    "            middle = num2\n",
    "            largest = num3\n",
    "            print(\"Sorted numbers in ascending order:\", smallest, middle, largest)\n",
    "        else:\n",
    "            middle = num3\n",
    "            largest = num2\n",
    "            print(\"Sorted numbers in ascending order:\", smallest, middle, largest)\n",
    "    elif num2 <= num1 and num2 <= num3:\n",
    "        smallest = num2\n",
    "        if num1 <= num3:\n",
    "            middle = num1\n",
    "            largest = num3\n",
    "            print(\"Sorted numbers in ascending order:\", smallest, middle, largest)\n",
    "        else:\n",
    "            middle = num3\n",
    "            largest = num1\n",
    "            print(\"Sorted numbers in ascending order:\", smallest, middle, largest)\n",
    "    else:\n",
    "        smallest = num3\n",
    "        if num1 <= num2:\n",
    "            middle = num1\n",
    "            largest = num2\n",
    "            print(\"Sorted numbers in ascending order:\", smallest, middle, largest)\n",
    "        else:\n",
    "            middle = num2\n",
    "            largest = num1\n",
    "            print(\"Sorted numbers in ascending order:\", smallest, middle, largest)\n",
    "\n",
    "# Print the sorted numbers in ascending order\n",
    "asc_order(num1,num2,num3)"
   ]
  },
  {
   "cell_type": "code",
   "execution_count": 7,
   "id": "059e0a7b-5867-42c1-8ed5-f02af16b4858",
   "metadata": {},
   "outputs": [
    {
     "name": "stdout",
     "output_type": "stream",
     "text": [
      "Roots are real and different \n",
      "4.0\n",
      "3.0\n"
     ]
    }
   ],
   "source": [
    "#29. Build a program that determines the roots of a quartic equation using numerical methods.\n",
    "\n",
    "# Python program to find roots\n",
    "# of a quadratic equation\n",
    "import math\n",
    "\n",
    "# Prints roots of quadratic equation\n",
    "# ax*2 + bx + x\n",
    "def findRoots(a, b, c):\n",
    "\n",
    "    # If a is 0, then equation is\n",
    "    # not quadratic, but linear\n",
    "    if a == 0:\n",
    "        print(\"Invalid\")\n",
    "        return -1\n",
    "    d = b * b - 4 * a * c\n",
    "    sqrt_val = math.sqrt(abs(d))\n",
    "\n",
    "    if d > 0:\n",
    "        print(\"Roots are real and different \")\n",
    "        print((-b + sqrt_val)/(2 * a))\n",
    "        print((-b - sqrt_val)/(2 * a))\n",
    "    elif d == 0:\n",
    "        print(\"Roots are real and same\")\n",
    "        print(-b / (2*a))\n",
    "    else:  # d<0\n",
    "        print(\"Roots are complex\")\n",
    "        print(- b / (2*a), \" + i\", sqrt_val / (2 * a))\n",
    "        print(- b / (2*a), \" - i\", sqrt_val / (2 * a))\n",
    "\n",
    "\n",
    "# Driver Program\n",
    "if __name__ == '__main__':\n",
    "    a = 1\n",
    "    b = -7\n",
    "    c = 12\n",
    "    \n",
    "    # Function call\n",
    "    findRoots(a, b, c)\n",
    "\n"
   ]
  },
  {
   "cell_type": "code",
   "execution_count": 8,
   "id": "1918fdd2-11b3-4b7e-b5a5-781b6681f5f3",
   "metadata": {},
   "outputs": [
    {
     "name": "stdout",
     "output_type": "stream",
     "text": [
      "enter the person's BMI 23\n"
     ]
    },
    {
     "name": "stdout",
     "output_type": "stream",
     "text": [
      "Person BMI is normal\n"
     ]
    }
   ],
   "source": [
    "#30. Write a program that calculates the BMI (Body Mass Index) and provides health recommendations based on the user's input.\n",
    "\n",
    "#Asking user to enter the input\n",
    "BMI = int(input(\"enter the person's BMI\"))\n",
    "\n",
    "def bmi_cal(BMI):\n",
    "    if BMI >=12 and BMI <= 18:\n",
    "        print(\"person is underweight\")\n",
    "    elif BMI >=19 and BMI <= 24:\n",
    "        print(\"Person BMI is normal\")\n",
    "    elif BMI >= 25 and BMI <=29:\n",
    "        print(\"person is overweight\")\n",
    "    elif BMI >= 30 and BMI <=36:\n",
    "        print(\"person is obese\")\n",
    "    else:\n",
    "        print(\"enter the value between 12 and 36\")\n",
    "        \n",
    "#Calling the function\n",
    "bmi_cal(BMI)"
   ]
  },
  {
   "cell_type": "code",
   "execution_count": 9,
   "id": "c89d8987-3459-4d34-9cd4-61bb502a4be6",
   "metadata": {},
   "outputs": [
    {
     "name": "stdout",
     "output_type": "stream",
     "text": [
      "Input your password:  Ramya18@\n"
     ]
    },
    {
     "name": "stdout",
     "output_type": "stream",
     "text": [
      "Password is valid.\n"
     ]
    }
   ],
   "source": [
    "#31. Create a program that validates a password based on complexity rules (length, characters, etc.).\n",
    "\n",
    "def Is_password_valid(password):\n",
    "    # Check if password length is between 8 and 16 characters\n",
    "    if len(password) < 8 or len(password) > 16:\n",
    "        return False\n",
    "    \n",
    "    # Check if password contains at least one digit\n",
    "    password_has_digit = any(char.isdigit() for char in password)\n",
    "    \n",
    "    # Check if password contains at least one special character\n",
    "    password_special_characters = \"!@#$%^&*()_+[]{}|;:,.<>?/\"\n",
    "    has_special_character = any(char in password_special_characters for char in password)\n",
    "    \n",
    "    # Check if password contains both uppercase and lowercase letters\n",
    "    password_has_uppercase = any(char.isupper() for char in password)\n",
    "    password_has_lowercase = any(char.islower() for char in password)\n",
    "    \n",
    "    # Check if all conditions are met\n",
    "    return password_has_digit and has_special_character and password_has_uppercase and password_has_lowercase\n",
    "\n",
    "def main():\n",
    "    try:\n",
    "        password = input(\"Input your password: \")\n",
    "        \n",
    "        if Is_password_valid(password):\n",
    "            print(\"Password is valid.\")\n",
    "        else:\n",
    "            print(\"Password is invalid.\")\n",
    "    except Exception as e:\n",
    "        print(\"An error occurred:\", e)\n",
    "\n",
    "if __name__ == \"__main__\":\n",
    "    main()\n"
   ]
  },
  {
   "cell_type": "code",
   "execution_count": 1,
   "id": "af252ebb-2f1a-4342-94e9-130780461ee1",
   "metadata": {},
   "outputs": [
    {
     "name": "stdout",
     "output_type": "stream",
     "text": [
      "Addition of two matrixes is: [[2, 4, 6], [8, 10, 12], [16, 16, 16]]\n",
      "Subtraction of two matrixes is: [[0, 0, 0], [0, 0, 0], [-2, 0, 2]]\n"
     ]
    }
   ],
   "source": [
    "##32. Develop a program that performs matrix addition and subtraction based on user input.\n",
    "\n",
    "x=  [[1,2,3],[4,5,6,],[7,8,9]]\n",
    "y = [[1,2,3],[4,5,6],[9,8,7]]\n",
    "\n",
    "A = [[x[i][j]+y[i][j]for j in range(len(y))]for i in range(len(x))]\n",
    "print(\"Addition of two matrixes is:\",A)\n",
    "S = [[x[i][j]-y[i][j]for j in range(len(y))]for i in range(len(x))]\n",
    "print(\"Subtraction of two matrixes is:\",S)"
   ]
  },
  {
   "cell_type": "code",
   "execution_count": 2,
   "id": "d07257af",
   "metadata": {},
   "outputs": [
    {
     "name": "stdout",
     "output_type": "stream",
     "text": [
      "gcd( 15 , 25 ) =  5\n"
     ]
    }
   ],
   "source": [
    "##33. Write a program that calculates the greatest common divisor (GCD) of two numbers using the Euclidean algorithm.\n",
    "\n",
    "# Function to return gcd of a and b\n",
    "def gcd(a, b):\n",
    "    if a == 0:\n",
    "        return b\n",
    " \n",
    "    return gcd(b % a, a)\n",
    " \n",
    "\"\"\" Basic Euclidean Algorithm for GCD: \n",
    "The algorithm is based on the below facts. \n",
    "\n",
    "If we subtract a smaller number from a larger one (we reduce a larger number), GCD doesn’t change. So if we keep subtracting repeatedly the larger of two, we end up with GCD.\n",
    "Now instead of subtraction, if we divide the smaller number, the algorithm stops when we find the remainder 0.\"\"\"\n",
    "# Driver code\n",
    "if __name__ == \"__main__\":\n",
    "  a = 15\n",
    "  b = 25\n",
    "  print(\"gcd(\", a, \",\", b, \") = \", gcd(a, b))"
   ]
  },
  {
   "cell_type": "code",
   "execution_count": 3,
   "id": "9b038974",
   "metadata": {},
   "outputs": [
    {
     "name": "stdout",
     "output_type": "stream",
     "text": [
      "[114, 160, 60, 27]\n",
      "[74, 97, 73, 14]\n",
      "[119, 157, 112, 23]\n"
     ]
    }
   ],
   "source": [
    "#34. Build a program that performs matrix multiplication using nested loops and conditional statements.\n",
    "\n",
    "# Program to multiply two matrices using nested loops\n",
    "\n",
    "# 3x3 matrix\n",
    "X = [[12,7,3],\n",
    "    [4 ,5,6],\n",
    "    [7 ,8,9]]\n",
    "# 3x4 matrix\n",
    "Y = [[5,8,1,2],\n",
    "    [6,7,3,0],\n",
    "    [4,5,9,1]]\n",
    "# result is 3x4\n",
    "result = [[0,0,0,0],\n",
    "         [0,0,0,0],\n",
    "         [0,0,0,0]]\n",
    "\n",
    "# iterate through rows of X\n",
    "for i in range(len(X)):\n",
    "   # iterate through columns of Y\n",
    "   for j in range(len(Y[0])):\n",
    "       # iterate through rows of Y\n",
    "       for k in range(len(Y)):\n",
    "           result[i][j] += X[i][k] * Y[k][j]\n",
    "\n",
    "for r in result:\n",
    "   print(r)"
   ]
  },
  {
   "cell_type": "code",
   "execution_count": 6,
   "id": "7c74cddd",
   "metadata": {},
   "outputs": [
    {
     "name": "stdout",
     "output_type": "stream",
     "text": [
      "- | - | -\n",
      "- | - | -\n",
      "- | - | -\n",
      "X's turn.\n",
      "- | - | -\n",
      "X | - | -\n",
      "- | - | -\n",
      "O's turn.\n",
      "- | - | -\n",
      "X | O | -\n",
      "- | - | -\n",
      "X's turn.\n",
      "- | - | -\n",
      "X | O | -\n",
      "- | X | -\n",
      "O's turn.\n",
      "- | - | -\n",
      "X | O | -\n",
      "- | X | O\n",
      "X's turn.\n",
      "X | - | -\n",
      "X | O | -\n",
      "- | X | O\n",
      "O's turn.\n",
      "X | - | -\n",
      "X | O | -\n",
      "O | X | O\n",
      "X's turn.\n",
      "X | X | -\n",
      "X | O | -\n",
      "O | X | O\n",
      "O's turn.\n",
      "X | X | O\n",
      "X | O | -\n",
      "O | X | O\n",
      "O wins!\n"
     ]
    }
   ],
   "source": [
    "#35. Create a program that simulates a basic text-based tic-tac-toe game against the computer.\n",
    "\n",
    "# Set up the game board as a list\n",
    "board = [\"-\", \"-\", \"-\",\n",
    "         \"-\", \"-\", \"-\",\n",
    "         \"-\", \"-\", \"-\"]\n",
    "\n",
    "# Define a function to print the game board\n",
    "def print_board():\n",
    "    print(board[0] + \" | \" + board[1] + \" | \" + board[2])\n",
    "    print(board[3] + \" | \" + board[4] + \" | \" + board[5])\n",
    "    print(board[6] + \" | \" + board[7] + \" | \" + board[8])\n",
    "\n",
    "# Define a function to handle a player's turn\n",
    "def take_turn(player):\n",
    "    print(player + \"'s turn.\")\n",
    "    position = input(\"Choose a position from 1-9: \")\n",
    "    while position not in [\"1\", \"2\", \"3\", \"4\", \"5\", \"6\", \"7\", \"8\", \"9\"]:\n",
    "        position = input(\"Invalid input. Choose a position from 1-9: \")\n",
    "    position = int(position) - 1\n",
    "    while board[position] != \"-\":\n",
    "        position = int(input(\"Position already taken. Choose a different position: \")) - 1\n",
    "    board[position] = player\n",
    "    print_board()\n",
    "\n",
    "# Define a function to check if the game is over\n",
    "def check_game_over():\n",
    "    # Check for a win\n",
    "    if (board[0] == board[1] == board[2] != \"-\") or \\\n",
    "       (board[3] == board[4] == board[5] != \"-\") or \\\n",
    "       (board[6] == board[7] == board[8] != \"-\") or \\\n",
    "       (board[0] == board[3] == board[6] != \"-\") or \\\n",
    "       (board[1] == board[4] == board[7] != \"-\") or \\\n",
    "       (board[2] == board[5] == board[8] != \"-\") or \\\n",
    "       (board[0] == board[4] == board[8] != \"-\") or \\\n",
    "       (board[2] == board[4] == board[6] != \"-\"):\n",
    "        return \"win\"\n",
    "    # Check for a tie\n",
    "    elif \"-\" not in board:\n",
    "        return \"tie\"\n",
    "    # Game is not over\n",
    "    else:\n",
    "        return \"play\"\n",
    "\n",
    "# Define the main game loop\n",
    "def play_game():\n",
    "    print_board()\n",
    "    current_player = \"X\"\n",
    "    game_over = False\n",
    "    while not game_over:\n",
    "        take_turn(current_player)\n",
    "        game_result = check_game_over()\n",
    "        if game_result == \"win\":\n",
    "            print(current_player + \" wins!\")\n",
    "            game_over = True\n",
    "        elif game_result == \"tie\":\n",
    "            print(\"It's a tie!\")\n",
    "            game_over = 4\n",
    "            True\n",
    "        else:\n",
    "            # Switch to the other player\n",
    "            current_player = \"O\" if current_player == \"X\" else \"X\"\n",
    "\n",
    "# Start the game2\n",
    "\n",
    "play_game()"
   ]
  },
  {
   "cell_type": "code",
   "execution_count": 7,
   "id": "bcfd2465",
   "metadata": {},
   "outputs": [
    {
     "data": {
      "text/plain": [
       "[0, 1, 1, 2, 3, 5, 8, 13, 21, 34, 55, 89]"
      ]
     },
     "execution_count": 7,
     "metadata": {},
     "output_type": "execute_result"
    }
   ],
   "source": [
    "#36.Write a program that generates Fibonacci numbers up to a specified term using iterative methods\n",
    "\n",
    "#Function to generate fibonacci number\n",
    "def fibonacci(n):\n",
    "    #defining list with initial 2 values\n",
    "    l = [0,1]\n",
    "    for i in range(2,n):\n",
    "        l.append(l[-1]+l[-2])\n",
    "    return l\n",
    "\n",
    "#Driver code\n",
    "n = 12\n",
    "fibonacci(n)"
   ]
  },
  {
   "cell_type": "code",
   "execution_count": 8,
   "id": "d2facde1",
   "metadata": {},
   "outputs": [
    {
     "name": "stdout",
     "output_type": "stream",
     "text": [
      "Fibonacci number is: 34\n"
     ]
    }
   ],
   "source": [
    "#.37 Develop a program that calculates the nth term of the Fibonacci sequence using memoization.\n",
    "\n",
    "#function for finding nth fibonacci number\n",
    "def fibonacci(n):\n",
    "    if n<= 1:\n",
    "        return n\n",
    "    return fibonacci(n-1) + fibonacci(n-2)\n",
    "\n",
    "#Driver code\n",
    "if __name__ == \"__main__\":\n",
    "    res = fibonacci(9)\n",
    "print(\"Fibonacci number is:\",res)"
   ]
  },
  {
   "cell_type": "code",
   "execution_count": 9,
   "id": "0448fc7f",
   "metadata": {},
   "outputs": [
    {
     "name": "stdout",
     "output_type": "stream",
     "text": [
      "   February 2023\n",
      "Mo Tu We Th Fr Sa Su\n",
      "       1  2  3  4  5\n",
      " 6  7  8  9 10 11 12\n",
      "13 14 15 16 17 18 19\n",
      "20 21 22 23 24 25 26\n",
      "27 28\n",
      "\n"
     ]
    }
   ],
   "source": [
    "# 38.Create a program that generates a calendar for a given month and year using conditional statements\n",
    "\n",
    "# import module\n",
    "import calendar\n",
    "yy =int(input(\"Enter year\"))\n",
    "mm =int(input(\"Enter month\"))\n",
    "\n",
    "if mm >= 1 and mm <= 12:\n",
    "    # display the calendar\n",
    "    print(calendar.month(yy, mm))\n",
    "        \n",
    "        "
   ]
  },
  {
   "cell_type": "code",
   "execution_count": 10,
   "id": "08408d5b",
   "metadata": {},
   "outputs": [
    {
     "name": "stdout",
     "output_type": "stream",
     "text": [
      "cards player has: [('King', 'Clubs'), ('9', 'Diamonds')]\n",
      "Score of player is: 19\n",
      "\n",
      "\n",
      "cards player has: [('King', 'Clubs'), ('9', 'Diamonds'), ('Jack', 'Clubs')]\n",
      "Score of player is: 29\n",
      "\n",
      "\n",
      "Cards Dealer Has: [('King', 'Spades'), ('7', 'Spades')]\n",
      "Score Of The Dealer: 17\n",
      "Cards Player Has: [('King', 'Clubs'), ('9', 'Diamonds'), ('Jack', 'Clubs'), ('Jack', 'Spades')]\n",
      "Score Of The Player: 29\n",
      "Dealer wins (Player Loss Because Player Score is exceeding 21)\n",
      "Cards Dealer Has: [('King', 'Spades'), ('7', 'Spades')]\n",
      "Score Of The Dealer: 17\n",
      "\n",
      "\n",
      "Cards Dealer Has: [('King', 'Spades'), ('7', 'Spades')]\n",
      "Score Of The Dealer: 17\n",
      "Cards Player Has: [('King', 'Clubs'), ('9', 'Diamonds'), ('Jack', 'Clubs'), ('Jack', 'Spades')]\n",
      "Score Of The Player: 29\n",
      "Player wins (Player Has High Score than Dealer)\n"
     ]
    }
   ],
   "source": [
    "#39. Build a program that simulates a basic text-based blackjack game against the computer.\n",
    "\n",
    "#import module\n",
    "import random\n",
    "\n",
    "#Set up the deck of cards\n",
    "card_categories = ['Hearts' , 'Diamonds' , 'Clubs' , 'Spades']\n",
    "cards_list = ['Ace' ,'2' ,'3' ,'4','5','6','7','8','9','10','Jack','Queen', 'King']\n",
    "deck = [(card,category) for category in card_categories for card in cards_list]\n",
    "\n",
    "#Function to assign points according to the card\n",
    "def card_value(card):\n",
    "    if card[0] in ['Jack','Queen', 'King']:\n",
    "        return 10\n",
    "    elif card[0] == 'Ace':\n",
    "        return 11\n",
    "    else:\n",
    "        return int(card[0])\n",
    "    \n",
    "#Shuffle the deck and Deal the initial cards\n",
    "random.shuffle(deck)\n",
    "player_card =[deck.pop(),deck.pop()]\n",
    "dealer_card =[deck.pop(),deck.pop()]\n",
    "\n",
    "#Allow the player to hit or stand\n",
    "\n",
    "while True:\n",
    "    player_score = sum(card_value(card) for card in player_card)\n",
    "    dealer_score = sum(card_value(card) for card in dealer_card)\n",
    "    print(\"cards player has:\",player_card)\n",
    "    print(\"Score of player is:\",player_score)\n",
    "    print(\"\\n\")\n",
    "    choice = input('What do you want? [\"play\" to request another card, \"stop\" to stop]: ').lower()\n",
    "    if choice == 'play':\n",
    "        new_card = deck.pop()\n",
    "        player_card.append(new_card)\n",
    "    elif choice == 'stop':\n",
    "        break\n",
    "    else:\n",
    "        print(\"Invalid choice. Please try again\")\n",
    "        continue\n",
    "    if player_score > 21:\n",
    "        print(\"Cards Dealer Has:\", dealer_card)\n",
    "        print(\"Score Of The Dealer:\", dealer_score)\n",
    "        print(\"Cards Player Has:\", player_card)\n",
    "        print(\"Score Of The Player:\", player_score)\n",
    "        print(\"Dealer wins (Player Loss Because Player Score is exceeding 21)\")\n",
    "        break   \n",
    "#Deal the dealer’s cards\n",
    "#Dealer can turn his cards only when he has 17 points\n",
    "while dealer_score < 17:\n",
    "    new_card = deck.pop()\n",
    "    dealer_card.append(new_card)\n",
    "    dealer_score += card_value(new_card)\n",
    "\n",
    "print(\"Cards Dealer Has:\", dealer_card)\n",
    "print(\"Score Of The Dealer:\", dealer_score)\n",
    "print(\"\\n\")\n",
    "\n",
    "#Determine the winner\n",
    "if dealer_score > 21:\n",
    "    print(\"Cards Dealer Has:\", dealer_card)\n",
    "    print(\"Score Of The Dealer:\", dealer_score)\n",
    "    print(\"Cards Player Has:\", player_card)\n",
    "    print(\"Score Of The Player:\", player_score)\n",
    "    print(\"Player wins (Dealer Loss Because Dealer Score is exceeding 21)\")\n",
    "elif player_score > dealer_score:\n",
    "    print(\"Cards Dealer Has:\", dealer_card)\n",
    "    print(\"Score Of The Dealer:\", dealer_score)\n",
    "    print(\"Cards Player Has:\", player_card)\n",
    "    print(\"Score Of The Player:\", player_score)\n",
    "    print(\"Player wins (Player Has High Score than Dealer)\")\n",
    "elif dealer_score > player_score:\n",
    "    print(\"Cards Dealer Has:\", dealer_card)\n",
    "    print(\"Score Of The Dealer:\", dealer_score)\n",
    "    print(\"Cards Player Has:\", player_card)\n",
    "    print(\"Score Of The Player:\", player_score)\n",
    "    print(\"Dealer wins (Dealer Has High Score than Player)\")\n",
    "else:\n",
    "    print(\"Cards Dealer Has:\", dealer_card)\n",
    "    print(\"Score Of The Dealer:\", dealer_score)\n",
    "    print(\"Cards Player Has:\", player_card)\n",
    "    print(\"Score Of The Player:\", player_score)\n",
    "    print(\"It's a tie.\")\n",
    "\n"
   ]
  },
  {
   "cell_type": "code",
   "execution_count": 11,
   "id": "c3293890",
   "metadata": {},
   "outputs": [
    {
     "name": "stdout",
     "output_type": "stream",
     "text": [
      "51 is composite\n"
     ]
    }
   ],
   "source": [
    "#40. Write a program that generates the prime factors of a given number using trial division.\n",
    "\n",
    "#Function to find if number is prime or not\n",
    "def TrailDivision(N):\n",
    "    #Initializing the value from where it is checked\n",
    "    i = 2\n",
    "    #Getting the square of the given number\n",
    "    k = int(N ** 0.5)\n",
    "    \n",
    "    #iterating the loop until square root value\n",
    "    while(i<=k):\n",
    "        if (N%i == 0):\n",
    "            return 0\n",
    "        i +=1\n",
    "    #If none are the factors then it is prime number\n",
    "    return 1\n",
    "\n",
    "\n",
    "#Driver Code\n",
    "\n",
    "if __name__ == \"__main__\":\n",
    "    N = 51\n",
    "    prime = TrailDivision(N)\n",
    "    \n",
    "    if prime == 1:\n",
    "        print(N,\"is prime\")\n",
    "    else:\n",
    "        print(N,\"is composite\")"
   ]
  },
  {
   "cell_type": "code",
   "execution_count": null,
   "id": "52d93df6",
   "metadata": {},
   "outputs": [],
   "source": []
  }
 ],
 "metadata": {
  "kernelspec": {
   "display_name": "Python 3 (ipykernel)",
   "language": "python",
   "name": "python3"
  },
  "language_info": {
   "codemirror_mode": {
    "name": "ipython",
    "version": 3
   },
   "file_extension": ".py",
   "mimetype": "text/x-python",
   "name": "python",
   "nbconvert_exporter": "python",
   "pygments_lexer": "ipython3",
   "version": "3.11.3"
  }
 },
 "nbformat": 4,
 "nbformat_minor": 5
}
