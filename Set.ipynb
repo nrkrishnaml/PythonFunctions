{
 "cells": [
  {
   "cell_type": "code",
   "execution_count": 1,
   "id": "b9f8fb16-a6e0-4572-a1ab-2541558e8ae7",
   "metadata": {},
   "outputs": [
    {
     "name": "stdout",
     "output_type": "stream",
     "text": [
      " set with integers from 1 to 5: {1, 2, 3, 4, 5}\n"
     ]
    }
   ],
   "source": [
    "#1. Create a set with integers from 1 to 5.\n",
    "\n",
    "#creating an empty set\n",
    "s = set()\n",
    "\n",
    "#adding elements to set\n",
    "s.add(1)\n",
    "s.add(2)\n",
    "s.add(3)\n",
    "s.add(4)\n",
    "s.add(5)\n",
    "\n",
    "#printing set elements\n",
    "\n",
    "print(\" set with integers from 1 to 5:\",s)"
   ]
  },
  {
   "cell_type": "code",
   "execution_count": 2,
   "id": "4d67256d-337a-4061-ba9c-cba636a5f1d8",
   "metadata": {},
   "outputs": [
    {
     "name": "stdout",
     "output_type": "stream",
     "text": [
      "After adding new element set values are: {1, 2, 3, 4, 5, 9}\n"
     ]
    }
   ],
   "source": [
    "#2. Add an element to a set.\n",
    "\n",
    "#declaring set\n",
    "s ={1,2,3,4,5}\n",
    "\n",
    "#adding elements to set\n",
    "\n",
    "s.add(9)\n",
    "\n",
    "#printing set values\n",
    "print(\"After adding new element set values are:\",s)"
   ]
  },
  {
   "cell_type": "code",
   "execution_count": 3,
   "id": "7137cea0-e8fa-44e4-83dd-3b9b2e5ab27b",
   "metadata": {},
   "outputs": [
    {
     "name": "stdout",
     "output_type": "stream",
     "text": [
      "New set vakues are: {1, 3, 4, 5, 9}\n"
     ]
    }
   ],
   "source": [
    "#3. Remove an element from a set.\n",
    "\n",
    "#declaring set\n",
    "s = {1, 2, 3, 4, 5, 9}\n",
    "\n",
    "#removing value from set\n",
    "\n",
    "s.remove(2)\n",
    "\n",
    "#printing set after removing the value\n",
    "\n",
    "print(\"New set vakues are:\",s)\n"
   ]
  },
  {
   "cell_type": "code",
   "execution_count": 4,
   "id": "4a794499-3452-4a8e-b99a-1fc5ea19635c",
   "metadata": {},
   "outputs": [
    {
     "name": "stdout",
     "output_type": "stream",
     "text": [
      "element does not exist\n"
     ]
    }
   ],
   "source": [
    "#4. Check if an element exists in a set.\n",
    "\n",
    "#declaring set\n",
    "s = {1, 3, 4, 5, 9}\n",
    "\n",
    "#initializing and assigning value if the element exits\n",
    "i = 2\n",
    "\n",
    "#Using if else statement to determine if the element exists in set\n",
    "if i in s:\n",
    "    print(\"element exists in a set\")\n",
    "else:\n",
    "    print(\"element does not exist\")"
   ]
  },
  {
   "cell_type": "code",
   "execution_count": 5,
   "id": "99692be2-d5e5-463d-b137-d6b4b344390a",
   "metadata": {},
   "outputs": [
    {
     "name": "stdout",
     "output_type": "stream",
     "text": [
      "Length of set is: 5\n"
     ]
    }
   ],
   "source": [
    "#5. Find the length of a set without using the `len()` function.\n",
    "\n",
    "#declaring set\n",
    "s = {1, 3, 4, 5, 9}\n",
    "\n",
    "#initializing and assigning value to find count\n",
    "c = 0\n",
    "\n",
    "#using for loop to determine length of set\n",
    "for i in s:\n",
    "    c += 1\n",
    "\n",
    "#printing length of set\n",
    "print(\"Length of set is:\",c)\n"
   ]
  },
  {
   "cell_type": "code",
   "execution_count": 6,
   "id": "db495d3d-f1a4-4d70-88ac-8423cc504662",
   "metadata": {},
   "outputs": [
    {
     "name": "stdout",
     "output_type": "stream",
     "text": [
      "Elements in set after claering set: set()\n"
     ]
    }
   ],
   "source": [
    "#6. Clear all elements from a set.\n",
    "\n",
    "#declaring set\n",
    "s = {1, 3, 4, 5, 9}\n",
    "\n",
    "#clearing set\n",
    "s.clear()\n",
    "\n",
    "#printing set\n",
    "\n",
    "print(\"Elements in set after claering set:\",s)"
   ]
  },
  {
   "cell_type": "code",
   "execution_count": 7,
   "id": "8cfd97f4-c496-42e1-a72c-9557bbc4bd4c",
   "metadata": {},
   "outputs": [
    {
     "name": "stdout",
     "output_type": "stream",
     "text": [
      "set of even numbers from 1 to 10. {2, 4, 6, 8, 10}\n"
     ]
    }
   ],
   "source": [
    "#7. Create a set of even numbers from 1 to 10.\n",
    "\n",
    "#creating an empty set\n",
    "s =set()\n",
    "\n",
    "# using for loop to iterate between 1 and 11\n",
    "#if number is divisible by 2 then add value to set\n",
    "for i in range(1,11):\n",
    "    if i%2 == 0:\n",
    "        s.add(i)\n",
    "\n",
    "#printing set values\n",
    "\n",
    "print(\"set of even numbers from 1 to 10.\",s)"
   ]
  },
  {
   "cell_type": "code",
   "execution_count": 8,
   "id": "24be87f1-4cf5-4f84-a8dc-424cc20df93c",
   "metadata": {},
   "outputs": [
    {
     "name": "stdout",
     "output_type": "stream",
     "text": [
      "set of odd numbers from 1 to 10. {1, 3, 5, 7, 9}\n"
     ]
    }
   ],
   "source": [
    "#8. Create a set of odd numbers from 1 to 10.\n",
    "\n",
    "#creating an empty set\n",
    "s =set()\n",
    "\n",
    "# using for loop to iterate between 1 and 11\n",
    "#if number is not divisible by 2 then add value to set\n",
    "for i in range(1,11):\n",
    "    if i%2 != 0:\n",
    "        s.add(i)\n",
    "\n",
    "#printing set values\n",
    "\n",
    "print(\"set of odd numbers from 1 to 10.\",s)"
   ]
  },
  {
   "cell_type": "code",
   "execution_count": 9,
   "id": "a18d58c2-ee62-4be9-b091-58a8b5457b24",
   "metadata": {},
   "outputs": [
    {
     "name": "stdout",
     "output_type": "stream",
     "text": [
      "union of two sets s1 and s2 are: {1, 2, 3, 4, 5, 6}\n"
     ]
    }
   ],
   "source": [
    "#9. Find the union of two sets.\n",
    "\n",
    "#declaring set1 and set2\n",
    "s1 ={1,2,3}\n",
    "s2 ={4,5,6}\n",
    "\n",
    "#using union function to merge two set values\n",
    "s3 = s1.union(s2)\n",
    "\n",
    "#printing set\n",
    "print(\"union of two sets s1 and s2 are:\",s3)"
   ]
  },
  {
   "cell_type": "code",
   "execution_count": 10,
   "id": "43f54c8b-1257-41aa-9286-f48305a63ccd",
   "metadata": {},
   "outputs": [
    {
     "name": "stdout",
     "output_type": "stream",
     "text": [
      "intersection values of two sets s1 and s2 are: {4, 5}\n"
     ]
    }
   ],
   "source": [
    "#10. Find the intersection of two sets.\n",
    "\n",
    "#declaring set1 and set2\n",
    "s1 ={1,2,3,4,5}\n",
    "s2 ={4,5,6,7,8}\n",
    "\n",
    "#Using interection function to find commom elements in both the sets\n",
    "s3 = s1.intersection(s2)\n",
    "\n",
    "#printing set value\n",
    "print(\"intersection values of two sets s1 and s2 are:\",s3)"
   ]
  },
  {
   "cell_type": "code",
   "execution_count": 11,
   "id": "0062e7f8-e3f4-4e35-848a-6c1d99218bc8",
   "metadata": {},
   "outputs": [
    {
     "name": "stdout",
     "output_type": "stream",
     "text": [
      "difference between two sets is: {1, 2, 3}\n"
     ]
    }
   ],
   "source": [
    "#11. Find the difference between two sets.\n",
    "\n",
    "#declaring set1 and set2\n",
    "s1 ={1,2,3,4,5}\n",
    "s2 ={4,5,6,7,8}\n",
    "\n",
    "#finding the diference between 2 sets\n",
    "s3 = s1.difference(s2)\n",
    "\n",
    "#printing the difference values\n",
    "print(\"difference between two sets is:\",s3)"
   ]
  },
  {
   "cell_type": "code",
   "execution_count": 12,
   "id": "d2baa912-5d15-47e9-addb-ad9938e911ce",
   "metadata": {},
   "outputs": [
    {
     "name": "stdout",
     "output_type": "stream",
     "text": [
      "Is set1 is subset of set2??: True\n"
     ]
    }
   ],
   "source": [
    "#12. Check if a set is a subset of another set.\n",
    "\n",
    "#declaring set1 and set2\n",
    "s1 ={1,2,3,4,5}\n",
    "s2 ={1,2,3,4,5,6,7,8}\n",
    "\n",
    "#checking if set1 is subset of set2\n",
    "s3 = s1.issubset(s2)\n",
    "\n",
    "#printing the result\n",
    "print(\"Is set1 is subset of set2??:\",s3)"
   ]
  },
  {
   "cell_type": "code",
   "execution_count": 13,
   "id": "f112d8eb-c7cf-4c93-be38-a362b0096a2e",
   "metadata": {},
   "outputs": [
    {
     "name": "stdout",
     "output_type": "stream",
     "text": [
      "Is set2 is subset of set1??: True\n"
     ]
    }
   ],
   "source": [
    "#13. Check if a set is a superset of another set.\n",
    "\n",
    "#declaring set1 and set2\n",
    "s1 ={1,2,3,4,5}\n",
    "s2 ={1,2,3,4,5,6,7,8}\n",
    "\n",
    "#checking if set2 is superset of set1\n",
    "s3 = s2.issuperset(s1)\n",
    "\n",
    "print(\"Is set2 is subset of set1??:\",s3)"
   ]
  },
  {
   "cell_type": "code",
   "execution_count": 14,
   "id": "aea24f1c-2d4c-4995-8805-46dc7711a8ef",
   "metadata": {},
   "outputs": [
    {
     "name": "stdout",
     "output_type": "stream",
     "text": [
      "set cerated from a list is : {1, 2, 3, 4, 5}\n"
     ]
    }
   ],
   "source": [
    "#14. Create a set from a list.\n",
    "\n",
    "#creating a list\n",
    "l= [1,2,3,4,5]\n",
    "\n",
    "#creating a set from list\n",
    "s =set(l)\n",
    "#printing set\n",
    "print(\"set cerated from a list is :\",s)"
   ]
  },
  {
   "cell_type": "code",
   "execution_count": 15,
   "id": "1e5cea3a-9c2d-47f9-b913-a68bcc73df55",
   "metadata": {},
   "outputs": [
    {
     "name": "stdout",
     "output_type": "stream",
     "text": [
      "list cerated from set is : [1, 2, 3, 4, 5]\n"
     ]
    }
   ],
   "source": [
    "#15. Convert a set to a list.\n",
    "\n",
    "\n",
    "#creating set\n",
    "s ={1, 2, 3, 4, 5}\n",
    "\n",
    "#creating a list from set\n",
    "l =list(s)\n",
    "\n",
    "#printing list\n",
    "print(\"list cerated from set is :\",l)"
   ]
  },
  {
   "cell_type": "code",
   "execution_count": 16,
   "id": "d79814b6-106d-4850-8e62-b195b9cb98c6",
   "metadata": {},
   "outputs": [
    {
     "name": "stdout",
     "output_type": "stream",
     "text": [
      "{1, 3, 4, 5}\n"
     ]
    }
   ],
   "source": [
    "#16. Remove a random element from a set.\n",
    "\n",
    "import random\n",
    "\n",
    "#creating set and converting to list\n",
    "s =list({1, 2, 3, 4, 5})\n",
    "\n",
    "#using random choice function to selectrandom number and remove it\n",
    "random_element = random.choice(s)\n",
    "s.remove(random_element)\n",
    "print(set(s))\n"
   ]
  },
  {
   "cell_type": "code",
   "execution_count": 17,
   "id": "b6ea88ca-22ae-42e4-abac-59915c92603d",
   "metadata": {},
   "outputs": [
    {
     "name": "stdout",
     "output_type": "stream",
     "text": [
      "set values are: {2, 3, 4, 5}\n"
     ]
    }
   ],
   "source": [
    "#17. Pop an element from a set.\n",
    "\n",
    "#declaring set\n",
    "s ={1,2,3,4,5}\n",
    "\n",
    "#using pop to remove an element from set\n",
    "s.pop()\n",
    "\n",
    "#printing the result\n",
    "print(\"set values are:\",s)"
   ]
  },
  {
   "cell_type": "code",
   "execution_count": 18,
   "id": "2335054c-df0c-4d91-b973-d32e6ef4cbde",
   "metadata": {},
   "outputs": [
    {
     "name": "stdout",
     "output_type": "stream",
     "text": [
      "two sets have common elements\n"
     ]
    }
   ],
   "source": [
    "#18. Check if two sets have no elements in common.\n",
    "\n",
    "#defining two sets \n",
    "s1 ={1,2,3,4,5}\n",
    "\n",
    "s2 = {1,'meta'}\n",
    "\n",
    "#using intersection function to find common elements\n",
    "s3 = s1.intersection(s2)\n",
    "\n",
    "#using len function to find if common elements exists or not\n",
    "if len(s3) == 0:\n",
    "    print(\"two sets do not have any elements in common\")\n",
    "\n",
    "else:\n",
    "    print(\"two sets have common elements\")"
   ]
  },
  {
   "cell_type": "code",
   "execution_count": 19,
   "id": "08083ba6-66af-48a4-accd-31eae4f7dbf9",
   "metadata": {},
   "outputs": [
    {
     "name": "stdout",
     "output_type": "stream",
     "text": [
      "Symmetric difference between two sets is: {1, 2, 3, 4, 6, 7, 8, 9}\n"
     ]
    }
   ],
   "source": [
    "#19. Find the symmetric difference between two sets.\n",
    "\n",
    "#defining two sets\n",
    "s1 = {1,2,3,4,5}\n",
    "\n",
    "s2 ={5,6,7,8,9}\n",
    "\n",
    "#using symmetric difference between two sets\n",
    "s3 =s1.symmetric_difference(s2)\n",
    "\n",
    "print(\"Symmetric difference between two sets is:\",s3)"
   ]
  },
  {
   "cell_type": "code",
   "execution_count": 20,
   "id": "a0e75e90-5859-4978-8524-02ead44b57a6",
   "metadata": {},
   "outputs": [
    {
     "name": "stdout",
     "output_type": "stream",
     "text": [
      "Updated set values are: {'code', 1, 2, 3, 'python', 'basics'}\n"
     ]
    }
   ],
   "source": [
    "#20. Update a set with elements from another set.\n",
    "\n",
    "#defining s1 and s2 sets\n",
    "s1 ={1,2,3}\n",
    "\n",
    "s2 = {'python','code','basics'}\n",
    "\n",
    "#using update function to add elements to another set\n",
    "s1.update(s2)\n",
    "\n",
    "#printing the result\n",
    "print(\"Updated set values are:\",s1)"
   ]
  },
  {
   "cell_type": "code",
   "execution_count": 21,
   "id": "0f85d0c3-ab48-4740-97d7-756b1de56064",
   "metadata": {},
   "outputs": [
    {
     "name": "stdout",
     "output_type": "stream",
     "text": [
      "Set of the first 5 prime numbers: {2, 3, 5, 7, 11}\n"
     ]
    }
   ],
   "source": [
    "#21. Create a set of the first 5 prime numbers.\n",
    "\n",
    "s =set()\n",
    "\n",
    "# Function to check if a number is prime\n",
    "def primenum(num):\n",
    "    if num <= 1:\n",
    "        return False\n",
    "    for i in range(2, int(num ** 0.5) + 1):\n",
    "        if num % i == 0:\n",
    "            return False\n",
    "    return True\n",
    "\n",
    "# Initialize the number to start checking for primes\n",
    "num = 2\n",
    "\n",
    "# Loop until we have found the first 5 prime numbers\n",
    "while len(s) < 5:\n",
    "    # Check if the current number is prime using the is_prime function\n",
    "    if primenum(num):\n",
    "        # If the number is prime, add it to the prime_set\n",
    "        s.add(num)\n",
    "\n",
    "    # Move on to the next number for the next iteration\n",
    "    num += 1\n",
    "\n",
    "# Print the set of prime numbers\n",
    "print(\"Set of the first 5 prime numbers:\", s)"
   ]
  },
  {
   "cell_type": "code",
   "execution_count": 22,
   "id": "c1f8e445-10c3-4586-bcf4-a0cc30d1394e",
   "metadata": {},
   "outputs": [
    {
     "name": "stdout",
     "output_type": "stream",
     "text": [
      "two sets are not identical\n"
     ]
    }
   ],
   "source": [
    "#22. Check if two sets are identical.\n",
    "\n",
    "#Defining two sets\n",
    "s1 ={1,2,3,4}\n",
    "\n",
    "s2 ={4,5,6,7}\n",
    "\n",
    "#Using if condition to compare sets\n",
    "if s1 == s2:\n",
    "    print(\"two sets are identical\")\n",
    "\n",
    "else:\n",
    "    print(\"two sets are not identical\")"
   ]
  },
  {
   "cell_type": "code",
   "execution_count": 23,
   "id": "e5c17c45-5eb2-42e6-b057-34a277b58cd4",
   "metadata": {},
   "outputs": [
    {
     "name": "stdout",
     "output_type": "stream",
     "text": [
      "frozenset({1, 2, 3, 4, 5})\n"
     ]
    }
   ],
   "source": [
    "#23. Create a frozen set.\n",
    "\n",
    "#defining elements in the list to make a frozen set\n",
    "l=[1,2,3,4,5]\n",
    "\n",
    "#Using frozenset constructor to make a frozen set\n",
    "f = frozenset(l)\n",
    "\n",
    "#printing frozenset\n",
    "print(f)"
   ]
  },
  {
   "cell_type": "code",
   "execution_count": 24,
   "id": "d154b664-e902-44f1-96bb-65ce367087cf",
   "metadata": {},
   "outputs": [
    {
     "name": "stdout",
     "output_type": "stream",
     "text": [
      "True\n"
     ]
    }
   ],
   "source": [
    "#24. Check if a set is disjoint with another set.\n",
    "\n",
    "#Defining sets\n",
    "s1 ={1,2,3,4}\n",
    "s2 = {5,6,7,8}\n",
    "\n",
    "#Using isdisjoint method to find if the two sets have any intersection\n",
    "s3 =s1.isdisjoint(s2)\n",
    "\n",
    "#printing the result\n",
    "print(s3)"
   ]
  },
  {
   "cell_type": "code",
   "execution_count": 25,
   "id": "cc133f26-b511-4949-a187-2fb6f207bfe9",
   "metadata": {},
   "outputs": [
    {
     "name": "stdout",
     "output_type": "stream",
     "text": [
      "set of squares of numbers from 1 to 5: {1, 4, 9, 16, 25}\n"
     ]
    }
   ],
   "source": [
    "#25. Create a set of squares of numbers from 1 to 5.\n",
    "\n",
    "#creating an empty set\n",
    "s =set()\n",
    "#using loop to itearate through each number and add the squares of the number\n",
    "for i in range(1,6):\n",
    "    i = i**2\n",
    "    s.add(i)\n",
    "#printing set values\n",
    "print(\"set of squares of numbers from 1 to 5:\",s)"
   ]
  },
  {
   "cell_type": "code",
   "execution_count": 26,
   "id": "2fa9ea74-2d5b-4f7c-8d89-91d2f8e959be",
   "metadata": {},
   "outputs": [
    {
     "name": "stdout",
     "output_type": "stream",
     "text": [
      "set with even numbers: {8, 2, 4, 6}\n"
     ]
    }
   ],
   "source": [
    "#26. Filter out all even numbers from a set.\n",
    "\n",
    "#defining set\n",
    "s ={1,2,3,4,5,6,7,8,9}\n",
    "#defining an empty set\n",
    "even_set =set()\n",
    "\n",
    "#using for loop to iterate to filter even numbers\n",
    "for i in s:\n",
    "\n",
    "    if i%2==0:\n",
    "        even_set.add(i)\n",
    "#printing set with even numbers\n",
    "print(\"set with even numbers:\",even_set)"
   ]
  },
  {
   "cell_type": "code",
   "execution_count": 27,
   "id": "b69f5b6a-754f-432c-a2cd-a8d1e7ce12b2",
   "metadata": {},
   "outputs": [
    {
     "name": "stdout",
     "output_type": "stream",
     "text": [
      "Set values multiplied by 2 are: {2, 4, 6, 8, 10}\n"
     ]
    }
   ],
   "source": [
    "#27. Multiply all elements in a set by 2.\n",
    "\n",
    "#defining a set\n",
    "s ={1,2,3,4,5}\n",
    "#declaring a new set\n",
    "new_set =set()\n",
    "\n",
    "#Using for loop to iterate set values and multiply by 2 \n",
    "#adding multiplied values to new set\n",
    "for i in s:\n",
    "    i = i*2\n",
    "    new_set.add(i)\n",
    "\n",
    "#printing the result\n",
    "print(\"Set values multiplied by 2 are:\",new_set)"
   ]
  },
  {
   "cell_type": "code",
   "execution_count": 28,
   "id": "6debfe3b-0d1c-48b2-8734-7b6a9b72c880",
   "metadata": {},
   "outputs": [
    {
     "name": "stdout",
     "output_type": "stream",
     "text": [
      "Set with randomvalues are: {1, 2, 3, 6, 7, 8, 11}\n"
     ]
    }
   ],
   "source": [
    "#28. Create a set of random numbers.\n",
    "\n",
    "#importing random function\n",
    "\n",
    "import random\n",
    "\n",
    "#defining a empty set \n",
    "s = set()\n",
    "#using loop to generate random numbers\n",
    "for i in range(1, 15):\n",
    "     \n",
    "    y = random.randrange(12)\n",
    "    s.add(y)\n",
    "\n",
    "print(\"Set with randomvalues are:\",s)"
   ]
  },
  {
   "cell_type": "code",
   "execution_count": 29,
   "id": "deaf7dee-c2d9-40e4-a671-7e0ca318e2b6",
   "metadata": {},
   "outputs": [
    {
     "name": "stdout",
     "output_type": "stream",
     "text": [
      "set is not empty\n"
     ]
    }
   ],
   "source": [
    "#29. Check if a set is empty.\n",
    "\n",
    "s = {1,2,3}\n",
    "\n",
    "if len(s) == 0:\n",
    "    print(\"Set is empty\")\n",
    "\n",
    "else:\n",
    "    print(\"set is not empty\")"
   ]
  },
  {
   "cell_type": "code",
   "execution_count": 30,
   "id": "21241186-9a78-4d55-a9b5-591e8944bb75",
   "metadata": {},
   "outputs": [
    {
     "name": "stdout",
     "output_type": "stream",
     "text": [
      "Nested set : {frozenset({1, 2, 3}), frozenset({4, 5, 6})}\n"
     ]
    }
   ],
   "source": [
    "#30. Create a nested set (hint: use frozenset).\n",
    "\n",
    "#defining two sets\n",
    "s1 = {1,2,3,}\n",
    "s2 = {4,5,6}\n",
    "\n",
    "#converting them to frozen sets to create nested set\n",
    "fs1 = frozenset(s1)\n",
    "fs2 = frozenset(s2)\n",
    "\n",
    "#creating a nested set by assigning frozen set values\n",
    "nested_set = {frozenset(s1),frozenset(s2)}\n",
    "\n",
    "#printing nested set values\n",
    "print(\"Nested set :\",nested_set)\n"
   ]
  },
  {
   "cell_type": "code",
   "execution_count": 31,
   "id": "96410452-f57a-4264-ac0f-15483ce00ffc",
   "metadata": {},
   "outputs": [
    {
     "name": "stdout",
     "output_type": "stream",
     "text": [
      "Set values after disacarding a value: {1, 2, 3, 5}\n"
     ]
    }
   ],
   "source": [
    "#31. Remove an element from a set using the discard method.\n",
    "\n",
    "#defining set\n",
    "s={1,2,3,4,5}\n",
    "\n",
    "#using disacrd method to remove an element from set\n",
    "s.discard(4)\n",
    "\n",
    "#printing set values\n",
    "print(\"Set values after disacarding a value:\",s)"
   ]
  },
  {
   "cell_type": "code",
   "execution_count": 32,
   "id": "501b8125-c083-4962-bd38-29b6155db0bf",
   "metadata": {},
   "outputs": [
    {
     "name": "stdout",
     "output_type": "stream",
     "text": [
      "Is set2 is subset of set1: False\n",
      "Is set1 is superset of set2: False\n",
      "Intersection values between s1 and s2: set()\n",
      "Union values between s1 and s2 are: {1, 2, 3, 4, 5, 6}\n",
      "difference between set1 and set2 is: {1, 2, 3}\n",
      "difference between set1 and set2 is: {4, 5, 6}\n",
      "difference between set1 and set2 is: {1, 2, 3, 4, 5, 6}\n"
     ]
    }
   ],
   "source": [
    "#32. Compare two sets.\n",
    "\n",
    "#defining two sets\n",
    "s1 = {1,2,3}\n",
    "s2 = {4,5,6}\n",
    "\n",
    "#checking if one set is subset of another\n",
    "s_subset = s1.issubset(s2)\n",
    "print(\"Is set2 is subset of set1:\",s_subset)\n",
    "\n",
    "#checking if one set is superset of another\n",
    "s_superset = s1.issuperset(s2)\n",
    "print(\"Is set1 is superset of set2:\",s_superset)\n",
    "      \n",
    "#Checking intersection method on sets\n",
    "s_intersection = s1.intersection(s2)\n",
    "print(\"Intersection values between s1 and s2:\",s_intersection)\n",
    "\n",
    "#Applying Union method on set values\n",
    "s_union = s1.union(s2)\n",
    "print(\"Union values between s1 and s2 are:\",s_union)\n",
    "\n",
    "#Checking difference between set1 and set2\n",
    "s_difference1 = s1.difference(s2)\n",
    "print(\"difference between set1 and set2 is:\",s_difference1)\n",
    "\n",
    "\n",
    "#Checking difference between set2 and set1\n",
    "s_difference2 = s2.difference(s1)\n",
    "print(\"difference between set1 and set2 is:\",s_difference2)\n",
    "\n",
    "\n",
    "#Checking symmetric difference between set1 and set2\n",
    "s_symmetricdifference = s1.symmetric_difference(s2)\n",
    "print(\"difference between set1 and set2 is:\",s_symmetricdifference)\n"
   ]
  },
  {
   "cell_type": "code",
   "execution_count": 33,
   "id": "42179bc7-0fe9-4824-b042-2f101009bcad",
   "metadata": {},
   "outputs": [
    {
     "name": "stdout",
     "output_type": "stream",
     "text": [
      "set created from a string is: {'g', 'i', 'n', 't', 's', 'r'}\n"
     ]
    }
   ],
   "source": [
    "#33. Create a set from a string.\n",
    "\n",
    "#declaring an empty set\n",
    "s =set()\n",
    "\n",
    "#declaring a string\n",
    "str1 = \"string\"\n",
    "\n",
    "#printing set\n",
    "print(\"set created from a string is:\",set(str1))"
   ]
  },
  {
   "cell_type": "code",
   "execution_count": 34,
   "id": "ea90ed41-f816-44f7-bee2-c55c2aa04940",
   "metadata": {},
   "outputs": [
    {
     "name": "stdout",
     "output_type": "stream",
     "text": [
      "set of strings converted to  set of integers {456, 123, 789}\n"
     ]
    }
   ],
   "source": [
    "#34. Convert a set of strings to a set of integers.\n",
    "\n",
    "#defining set of strings\n",
    "string_set ={\"123\",\"456\",\"789\"}\n",
    "\n",
    "#defining empty set\n",
    "integer_set = set()\n",
    "\n",
    "#iterating all elements to convert elements from string to integer\n",
    "for i in string_set:\n",
    "    #\n",
    "    str_int = int(i)\n",
    "    integer_set.add(str_int)\n",
    "\n",
    "#printing set of integers\n",
    "print(\"set of strings converted to  set of integers\",integer_set)"
   ]
  },
  {
   "cell_type": "code",
   "execution_count": 35,
   "id": "54eb8431-c3c6-431a-b736-fa7fc13b9c80",
   "metadata": {},
   "outputs": [
    {
     "name": "stdout",
     "output_type": "stream",
     "text": [
      "set of integers converted to  set of strings {'789', '456', '123'}\n"
     ]
    }
   ],
   "source": [
    "#35. Convert a set of integers to a set of strings.\n",
    "\n",
    "#defining set of integers\n",
    "integer_set ={123,456,789}\n",
    "\n",
    "#defining empty set\n",
    "string_set = set()\n",
    "\n",
    "#iterating all elements to convert elements from string to integer\n",
    "for i in integer_set:\n",
    "    #\n",
    "    str_int = str(i)\n",
    "    string_set.add(str_int)\n",
    "\n",
    "#printing set of integers\n",
    "print(\"set of integers converted to  set of strings\",string_set)\n",
    "\n"
   ]
  },
  {
   "cell_type": "code",
   "execution_count": 36,
   "id": "3ca269f3-1894-46a1-8830-d056d03b5b11",
   "metadata": {},
   "outputs": [
    {
     "name": "stdout",
     "output_type": "stream",
     "text": [
      "set created from tuple is {1, 2, 3, 4, 5}\n"
     ]
    }
   ],
   "source": [
    "#36. Create a set from a tuple.\n",
    "\n",
    "#defining tuple\n",
    "t =(1,2,3,4,5)\n",
    "\n",
    "#Using set constructor to convert to set from tuple\n",
    "s =set(t)\n",
    "\n",
    "#printing set\n",
    "print(\"set created from tuple is\",s)"
   ]
  },
  {
   "cell_type": "code",
   "execution_count": 37,
   "id": "be680d00-88e0-42a2-aa44-4137812a6e8a",
   "metadata": {},
   "outputs": [
    {
     "name": "stdout",
     "output_type": "stream",
     "text": [
      "tuple created from set is (1, 2, 3, 4, 5)\n"
     ]
    }
   ],
   "source": [
    "#37. Convert a set to a tuple.\n",
    "\n",
    "#defining set\n",
    "s = {1,2,3,4,5}\n",
    "\n",
    "#Using tuple constructor to convert to tuple from set\n",
    "t =tuple(s)\n",
    "\n",
    "#printing tuple\n",
    "print(\"tuple created from set is\",t)"
   ]
  },
  {
   "cell_type": "code",
   "execution_count": 38,
   "id": "6be36d81-5d77-4cb2-ace3-37bbd7227c83",
   "metadata": {},
   "outputs": [
    {
     "name": "stdout",
     "output_type": "stream",
     "text": [
      "maximum value in a set is: 6\n"
     ]
    }
   ],
   "source": [
    "#38. Find the maximum value in a set.\n",
    "\n",
    "#defining set\n",
    "s= {1,3,4,2,6,4}\n",
    "\n",
    "#using max functionto maximum value in set\n",
    "print(\"maximum value in a set is:\",max(s))"
   ]
  },
  {
   "cell_type": "code",
   "execution_count": 39,
   "id": "6dd56382-53f5-47c3-a5cc-c92d490c88bb",
   "metadata": {},
   "outputs": [
    {
     "name": "stdout",
     "output_type": "stream",
     "text": [
      "minimum value in a set is: 1\n"
     ]
    }
   ],
   "source": [
    "#39. Find the minimum value in a set.\n",
    "\n",
    "#defining set\n",
    "s= {1,3,4,2,6,4}\n",
    "\n",
    "#using min functionto minimum value in set\n",
    "print(\"minimum value in a set is:\",min(s))"
   ]
  },
  {
   "cell_type": "code",
   "execution_count": 5,
   "id": "9fd3ed2b-93a6-4e35-8710-98b11b72609f",
   "metadata": {},
   "outputs": [
    {
     "name": "stdin",
     "output_type": "stream",
     "text": [
      "enter number to create a set 1\n",
      "enter number to create a set 2\n",
      "enter number to create a set 3\n"
     ]
    },
    {
     "name": "stdout",
     "output_type": "stream",
     "text": [
      "Set created from user {1, 2, 3}\n"
     ]
    }
   ],
   "source": [
    "#40. Create a set from user input.\n",
    "\n",
    "#defining empty set\n",
    "s = set()\n",
    "\n",
    "#Using while loop to take input from user and add data to set\n",
    "while len(s)<3:\n",
    "    n = input(\"enter number to create a set\")\n",
    "    s.add(n)\n",
    "\n",
    "print(\"Set created from user\",s)"
   ]
  },
  {
   "cell_type": "code",
   "execution_count": 6,
   "id": "279819ca-d292-4972-b932-9152b1de07c4",
   "metadata": {},
   "outputs": [
    {
     "name": "stdout",
     "output_type": "stream",
     "text": [
      "Intersection between two sets is not empty\n"
     ]
    }
   ],
   "source": [
    "#41. Check if the intersection of two sets is empty.\n",
    "\n",
    "#defining sets\n",
    "s1 ={1,2,3,4,5}\n",
    "s2={3,4,5,6,7}\n",
    "\n",
    "#Using Intersection method to find common elements\n",
    "s3 = s1.intersection(s2)\n",
    "\n",
    "#checking if the intesection of sets is not empty\n",
    "\n",
    "if len(s3)==0:\n",
    "    print(\"Intersection between two sets is empty\")\n",
    "\n",
    "else:\n",
    "    print(\"Intersection between two sets is not empty\")"
   ]
  },
  {
   "cell_type": "code",
   "execution_count": 8,
   "id": "da112274-1655-48d9-a8e0-61d08f1e0f73",
   "metadata": {},
   "outputs": [
    {
     "name": "stdin",
     "output_type": "stream",
     "text": [
      "Enter number to generate fibonacci series 6\n"
     ]
    },
    {
     "name": "stdout",
     "output_type": "stream",
     "text": [
      "set of the first 5 Fibonacci numbers are: {0, 1, 2, 3, 5}\n"
     ]
    }
   ],
   "source": [
    "#42. Create a set of the first 5 Fibonacci numbers.\n",
    "\n",
    "#defining two variable and assigning values\n",
    "\n",
    "a,b = 0,1\n",
    "\n",
    "#defining an empty set to add generated numbers\n",
    "fib_set =set()\n",
    "\n",
    "#Asking the user to enter a number\n",
    "n= int(input(\"Enter number to generate fibonacci series\"))\n",
    "\n",
    "#Using for loop to generate a set of first five fibonacci numbers\n",
    "for i in range(n):\n",
    "    #adding first number to set\n",
    "    fib_set.add(a)\n",
    "    #assigning values to generate next fibonacci number\n",
    "    a,b = b,a+b\n",
    "\n",
    "print(\"set of the first 5 Fibonacci numbers are:\",fib_set)"
   ]
  },
  {
   "cell_type": "code",
   "execution_count": 9,
   "id": "5d7c4bbd-0e5d-4495-ad47-1fdd2dd94258",
   "metadata": {},
   "outputs": [
    {
     "name": "stdout",
     "output_type": "stream",
     "text": [
      "List after removing duplicates using set is: [1, 2, 3, 4, 5, 7, 9]\n"
     ]
    }
   ],
   "source": [
    "#43. Remove duplicates from a list using sets.\n",
    "\n",
    "#Defining list with duplicate values\n",
    "list1 = [1,2,4,3,5,2,4,2,7,9,1,4]\n",
    "\n",
    "#Using set constructor to convert to set as it does not allow duplicates\n",
    "Set1 = set(list1)\n",
    "\n",
    "#printing list values after removing duplicates\n",
    "print(\"List after removing duplicates using set is:\",list(Set1))"
   ]
  },
  {
   "cell_type": "code",
   "execution_count": 10,
   "id": "2a47b70b-21af-4634-8b6a-3921a010e602",
   "metadata": {},
   "outputs": [
    {
     "name": "stdout",
     "output_type": "stream",
     "text": [
      "two sets do not have the same elements, regardless of their count\n"
     ]
    }
   ],
   "source": [
    "#44. Check if two sets have the same elements, regardless of their count.\n",
    "\n",
    "#defining two sets\n",
    "set1 = {1,2,3,4,5}\n",
    "set2 = {1,2,3}\n",
    "\n",
    "set3 = set2.issubset(set1)\n",
    "\n",
    "if set3 =='True':\n",
    "    print(\"two sets have the same elements, regardless of their count\")\n",
    "\n",
    "else: \n",
    "    print(\"two sets do not have the same elements, regardless of their count\")\n"
   ]
  },
  {
   "cell_type": "code",
   "execution_count": 11,
   "id": "526e2888-d0d5-4a02-aef7-cbe1a5488dae",
   "metadata": {},
   "outputs": [
    {
     "name": "stdin",
     "output_type": "stream",
     "text": [
      "Enter a number 5\n"
     ]
    },
    {
     "name": "stdout",
     "output_type": "stream",
     "text": [
      "set of the first `n` powers of 2 are : {1, 4, 9, 16, 25}\n"
     ]
    }
   ],
   "source": [
    "#45. Create a set of the first `n` powers of 2.\n",
    "\n",
    "#defining a set\n",
    "power_set = set()\n",
    "\n",
    "#Asking user to give input\n",
    "n = int(input(\"Enter a number\"))\n",
    "\n",
    "#Using for loop to generate first n poers of 2\n",
    "for i in range(1,n+1):\n",
    "    #Generating power of 2 and adding to set\n",
    "    i = i**2\n",
    "    power_set.add(i)\n",
    "\n",
    "#printing the result\n",
    "print(\"set of the first `n` powers of 2 are :\",power_set)\n"
   ]
  },
  {
   "cell_type": "code",
   "execution_count": 12,
   "id": "7e3fa30b-6a1a-4d31-9a19-d5bfbc3836ee",
   "metadata": {},
   "outputs": [
    {
     "name": "stdout",
     "output_type": "stream",
     "text": [
      "common elements between a set and a list are: {1, 2, 3}\n"
     ]
    }
   ],
   "source": [
    "#46. Find the common elements between a set and a list.\n",
    "\n",
    "#Defining List and Set\n",
    "\n",
    "List1 = [1,2,3,4,5,6]\n",
    "set1 = {1,2,3}\n",
    "\n",
    "#Using intersection methos to find common elements between list and set\n",
    "new_set = set1.intersection(set(list1))\n",
    "\n",
    "print(\"common elements between a set and a list are:\",new_set)"
   ]
  },
  {
   "cell_type": "code",
   "execution_count": 13,
   "id": "9b1e14fb-4fa6-49d3-9569-7cc6a575dc84",
   "metadata": {},
   "outputs": [
    {
     "name": "stdin",
     "output_type": "stream",
     "text": [
      "Enter a number 6\n"
     ]
    },
    {
     "name": "stdout",
     "output_type": "stream",
     "text": [
      "set of the first `n` triangular numbers are: {1, 3, 6, 10, 15, 21}\n"
     ]
    }
   ],
   "source": [
    "#47. Create a set of the first `n` triangular numbers.\n",
    "\n",
    "#Asking user to enter a number \n",
    "n = int(input(\"Enter a number\"))\n",
    "\n",
    "#Defining an empty set\n",
    "Traingular_set = set()\n",
    "\n",
    "#using loop to iterate through 'n' numbers to generate traingular numbers\n",
    "for i in range(1,n+1):\n",
    "    #formula to caluculate traingular numbers is tn(n) = n(n+1)//2\n",
    "    i = i*(i+1)//2\n",
    "    #adding the numbers to set\n",
    "    Traingular_set.add(i)\n",
    "\n",
    "#printing the set values with traingular numbers\n",
    "print(\"set of the first `n` triangular numbers are:\",Traingular_set)\n"
   ]
  },
  {
   "cell_type": "code",
   "execution_count": 14,
   "id": "04a2b304-df41-4565-ae8b-ea3372e3a37b",
   "metadata": {},
   "outputs": [
    {
     "name": "stdout",
     "output_type": "stream",
     "text": [
      "set contains another set as a subset\n"
     ]
    }
   ],
   "source": [
    "#48. Check if a set contains another set as a subset.\n",
    "\n",
    "#defining two sets\n",
    "set1 = {1,2,3,4,5}\n",
    "set2 = {1,2,3}\n",
    "\n",
    "set3 = set2.issubset(set1)\n",
    "\n",
    "if set3 :\n",
    "    print(\"set contains another set as a subset\")\n",
    "\n",
    "else: \n",
    "    print(\"set does not contains another set as a subset\")"
   ]
  },
  {
   "cell_type": "code",
   "execution_count": 15,
   "id": "d68828d5-26c3-4da2-9432-a244b1a6de2c",
   "metadata": {},
   "outputs": [
    {
     "name": "stdout",
     "output_type": "stream",
     "text": [
      "set of alternating 1s and 0s of length `n`are: {0, 1}\n"
     ]
    }
   ],
   "source": [
    "#49. Create a set of alternating 1s and 0s of length `n`.\n",
    "\n",
    "#defining an empty set    \n",
    "alternate_set = set()\n",
    "\n",
    "#using loop to generate a set of0's and 1's\n",
    "for i in range(n):\n",
    "    if i%2 == 0:\n",
    "        alternate_set.add(1)\n",
    "    else:\n",
    "        alternate_set.add(0)\n",
    "    \n",
    "n =10  \n",
    "\n",
    "#printing set of o's and 1's\n",
    "print(\"set of alternating 1s and 0s of length `n`are:\",alternate_set)\n"
   ]
  },
  {
   "cell_type": "code",
   "execution_count": 16,
   "id": "b91fe8d3-b3ea-44b7-a2a4-1b1fc6f58f57",
   "metadata": {},
   "outputs": [
    {
     "name": "stdout",
     "output_type": "stream",
     "text": [
      "merged set: {1, 2, 3, 4, 5, 6, 7, 8, 9}\n"
     ]
    }
   ],
   "source": [
    "#50. Merge multiple sets into one.\n",
    "\n",
    "#defining multiple sets\n",
    "set1 ={1,2,3}\n",
    "set2 ={4,5,6}\n",
    "set3 ={7,8,9}\n",
    "\n",
    "#Using union method to merge all sets\n",
    "union_set = set1.union(set2,set3)\n",
    "\n",
    "#printing merged set values\n",
    "print(\"merged set:\",union_set)"
   ]
  },
  {
   "cell_type": "code",
   "execution_count": null,
   "id": "729251c8-0fed-413d-9baa-ea0c61c43ecb",
   "metadata": {},
   "outputs": [],
   "source": []
  }
 ],
 "metadata": {
  "kernelspec": {
   "display_name": "Python 3 (ipykernel)",
   "language": "python",
   "name": "python3"
  },
  "language_info": {
   "codemirror_mode": {
    "name": "ipython",
    "version": 3
   },
   "file_extension": ".py",
   "mimetype": "text/x-python",
   "name": "python",
   "nbconvert_exporter": "python",
   "pygments_lexer": "ipython3",
   "version": "3.10.8"
  }
 },
 "nbformat": 4,
 "nbformat_minor": 5
}
