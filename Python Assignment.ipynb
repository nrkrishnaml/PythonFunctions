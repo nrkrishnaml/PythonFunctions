{
 "cells": [
  {
   "cell_type": "code",
   "execution_count": 1,
   "metadata": {},
   "outputs": [
    {
     "name": "stdout",
     "output_type": "stream",
     "text": [
      "1 2 3 4 5 6 7 8 9 10 "
     ]
    }
   ],
   "source": [
    "#1.\tWrite a Python program to print numbers from 1 to 10 using a for loop.\n",
    "\n",
    "#program to print numbers \n",
    "for i in range(1,11):\n",
    "    print(i,end = \" \")"
   ]
  },
  {
   "cell_type": "code",
   "execution_count": null,
   "metadata": {},
   "outputs": [],
   "source": [
    "#2.\tExplain the difference between a for loop and a while loop in Python.\n",
    "\n",
    "For loop and  While loop differences:\n",
    "\n",
    "used : \n",
    "    For loop is used to iterate over a sequence of items.\n",
    "    While loop is used to repeatedly execute a block of statements while a condition is true.\n",
    "\n",
    "Nature of Iteration:\n",
    "        For loops are designed for iterating over a sequence of items. Eg. list, tuple, etc.\n",
    "       While loop is used when the number of iterations is not known in advance or when we want to repeat a block of code until a certain condition is met.\n",
    "\n",
    "Initialization :\n",
    "        For loop require a sequence to iterate over.\n",
    "        While the loop requires an initial condition that is tested at the beginning of the loop.\n",
    "\n",
    "Functions:\n",
    "        To iterate, the range or xrange function is used.\n",
    "        There is no such function in the while loop.\n",
    "\n",
    "Initialization based on iteration:\n",
    "        To be done at the beginning of the for loop.\n",
    "        In the while loop, it is possible to do this anywhere in the loop body.\n",
    "\n",
    "speed :\n",
    "    \tThe for loop is faster than the while loop.\n",
    "       While loop is relatively slower as compared to for loop.\n",
    "\n",
    "\n"
   ]
  },
  {
   "cell_type": "code",
   "execution_count": 3,
   "metadata": {},
   "outputs": [
    {
     "name": "stdout",
     "output_type": "stream",
     "text": [
      "Sum of all numbers from 1 to 100 is: 5050\n"
     ]
    }
   ],
   "source": [
    "#3.\tWrite a Python program to calculate the sum of all numbers from 1 to 100 using a for loop.\n",
    "\n",
    "#caluculating sum oa all numbers\n",
    "\n",
    "sum =0\n",
    "for i in range(1,101):\n",
    "    sum += i\n",
    "print(\"Sum of all numbers from 1 to 100 is:\", sum)"
   ]
  },
  {
   "cell_type": "code",
   "execution_count": 32,
   "metadata": {},
   "outputs": [
    {
     "name": "stdout",
     "output_type": "stream",
     "text": [
      "1\n",
      "2\n",
      "3\n",
      "4\n",
      "5\n"
     ]
    }
   ],
   "source": [
    "#4.\tHow do you iterate through a list using a for loop in Python?\n",
    "\n",
    "#defining list\n",
    "list1 = [1,2,3,4,5]\n",
    "\n",
    "#iterating elements of list using for loop\n",
    "for i in list1:\n",
    "    print(i)"
   ]
  },
  {
   "cell_type": "code",
   "execution_count": 5,
   "metadata": {},
   "outputs": [
    {
     "name": "stdout",
     "output_type": "stream",
     "text": [
      "534060\n"
     ]
    }
   ],
   "source": [
    "#5.\tWrite a Python program to find the product of all elements in a list using a for loop.\n",
    "\n",
    "my_list = [12,23,43,45]\n",
    "prod =1\n",
    "\n",
    "for i in my_list:\n",
    "    prod *= i\n",
    "print(prod)"
   ]
  },
  {
   "cell_type": "code",
   "execution_count": 6,
   "metadata": {},
   "outputs": [
    {
     "name": "stdout",
     "output_type": "stream",
     "text": [
      "2 4 6 8 10 12 14 16 18 20 "
     ]
    }
   ],
   "source": [
    "#6.\tCreate a Python program that prints all even numbers from 1 to 20 using a for loop.\n",
    "\n",
    "#printing even numbers\n",
    "for i in range(1,21):\n",
    "    if i%2 == 0:\n",
    "        print(i,end = \" \")"
   ]
  },
  {
   "cell_type": "code",
   "execution_count": 8,
   "metadata": {},
   "outputs": [
    {
     "name": "stdout",
     "output_type": "stream",
     "text": [
      "NUmber entered by user is: 7\n",
      "Factorial of given number is : 5040\n"
     ]
    }
   ],
   "source": [
    "#7.\tWrite a Python program that calculates the factorial of a number using a for loop.\n",
    "\n",
    "#program to find factorial of an given number\n",
    "\n",
    "n = int(input(\"enter a number to find its factorial\"))\n",
    "print(\"NUmber entered by user is:\",n)\n",
    "fact = 1\n",
    "\n",
    "#using for loop to get value\n",
    "for i in range(1,n+1):\n",
    "    fact *= i\n",
    "print(\"Factorial of given number is :\",fact)"
   ]
  },
  {
   "cell_type": "code",
   "execution_count": 35,
   "metadata": {},
   "outputs": [
    {
     "name": "stdout",
     "output_type": "stream",
     "text": [
      "C\n",
      "h\n",
      "a\n",
      "r\n",
      "a\n",
      "c\n",
      "t\n",
      "e\n",
      "r\n",
      "s\n"
     ]
    }
   ],
   "source": [
    "#8.\tHow can you iterate through the characters of a string using a for loop in Python?\n",
    "\n",
    "#Defining string\n",
    "str1 = \"Characters\"\n",
    "\n",
    "#iterating string through for loop\n",
    "for i in str1:\n",
    "    print(i)"
   ]
  },
  {
   "cell_type": "code",
   "execution_count": 10,
   "metadata": {},
   "outputs": [
    {
     "name": "stdout",
     "output_type": "stream",
     "text": [
      "78\n"
     ]
    }
   ],
   "source": [
    "#9.\tWrite a Python program to find the largest number in a list using a for loop.\n",
    "\n",
    "#Defining list\n",
    "my_list = [12,34,65,78]\n",
    "largest_num = 1\n",
    "\n",
    "for i in my_list:\n",
    "    if i>= largest_num:\n",
    "        largest_num = i\n",
    "print(largest_num)\n"
   ]
  },
  {
   "cell_type": "code",
   "execution_count": 11,
   "metadata": {},
   "outputs": [
    {
     "name": "stdout",
     "output_type": "stream",
     "text": [
      "Fibonacci series is: [0, 1, 1, 2, 3, 5, 8, 13, 21, 34]\n"
     ]
    }
   ],
   "source": [
    "#10.Create a Python program that prints the Fibonacci sequence up to a specified limit using a for loop.\n",
    "\n",
    "#function for fibonacci series\n",
    "def fibonacci_series(n):\n",
    "\n",
    "    fib_series = [0,1]\n",
    "    for i in range(1,n+1):\n",
    "        fib_series.append(fib_series[-1]+ fib_series[-2])\n",
    "    return fib_series\n",
    "\n",
    "#Driver's code\n",
    "#calling the function and printing the result\n",
    "n =8\n",
    "result = fibonacci_series(n)\n",
    "print(\"Fibonacci series is:\",result)"
   ]
  },
  {
   "cell_type": "code",
   "execution_count": 13,
   "metadata": {},
   "outputs": [
    {
     "name": "stdout",
     "output_type": "stream",
     "text": [
      "Number of vowels in given string is: 5\n"
     ]
    }
   ],
   "source": [
    "#11.Write a Python program to count the number of vowels in a given string using a for loop.\n",
    "\n",
    "#defining stirng and initializing count varaiable\n",
    "str1 = \"Data Science\"\n",
    "c = 0\n",
    "\n",
    "#Iterating through for loop to get the count of vowels\n",
    "for i in str1:\n",
    "    if (i in 'aeiou') or (i in 'AEIOU'):\n",
    "        c += 1\n",
    "print(\"Number of vowels in given string is:\",c)"
   ]
  },
  {
   "cell_type": "code",
   "execution_count": 14,
   "metadata": {},
   "outputs": [
    {
     "name": "stdout",
     "output_type": "stream",
     "text": [
      "6 * 1  =  6\n",
      "6 * 2  =  12\n",
      "6 * 3  =  18\n",
      "6 * 4  =  24\n",
      "6 * 5  =  30\n",
      "6 * 6  =  36\n",
      "6 * 7  =  42\n",
      "6 * 8  =  48\n",
      "6 * 9  =  54\n",
      "6 * 10  =  60\n"
     ]
    }
   ],
   "source": [
    "#12.Create a Python program that generates a multiplication table for a given number using a for loop.\n",
    "\n",
    "#Asking user to enter a number\n",
    "n = int(input(\"Enter a number to get multiplication table\"))\n",
    "#Priting multiplication table\n",
    "for i in range(1,11):\n",
    "    \n",
    "    print(n , '*', i , ' = ', n*i)"
   ]
  },
  {
   "cell_type": "code",
   "execution_count": 29,
   "metadata": {},
   "outputs": [
    {
     "name": "stdout",
     "output_type": "stream",
     "text": [
      "[12, 15, 45, 39]\n",
      "[39, 45, 15, 12]\n"
     ]
    }
   ],
   "source": [
    "#13.Write a Python program to reverse a list using a for loop.\n",
    "\n",
    "#defining two lists\n",
    "list1 = [12,15,45,39]\n",
    "list2 = []\n",
    "print(list1)\n",
    "for i in my_list :\n",
    "    list2 = list1[::-1]\n",
    "print(\"Reversed list is:\",list2)\n",
    "\n",
    "\n"
   ]
  },
  {
   "cell_type": "code",
   "execution_count": 36,
   "metadata": {},
   "outputs": [
    {
     "name": "stdout",
     "output_type": "stream",
     "text": [
      "3 4 5 6 "
     ]
    }
   ],
   "source": [
    "#14.Write a Python program to find the common elements between two lists using a for loop.\n",
    "\n",
    "#defining two lists\n",
    "list1 = [1,2,3,4,5,6]\n",
    "list2 = [3,4,5,6,7,8]\n",
    "\n",
    "#finding common elements\n",
    "for i in list1:\n",
    "    for j in list2:\n",
    "        if i == j:\n",
    "            print(i,end = \" \")"
   ]
  },
  {
   "cell_type": "code",
   "execution_count": 39,
   "metadata": {},
   "outputs": [
    {
     "name": "stdout",
     "output_type": "stream",
     "text": [
      "List Of given states:\n",
      "\n",
      "('Gujarat', 'Gandhinagar')\n",
      "('Maharashtra', 'Mumbai')\n",
      "('Rajasthan', 'Jaipur')\n",
      "('Bihar', 'Patna')\n"
     ]
    }
   ],
   "source": [
    "#15.Explain how to use a for loop to iterate through the keys and values of a dictionary in Python.\n",
    "\n",
    "#Defining states and their capitals\n",
    "statesAndCapitals = {\n",
    "    'Gujarat': 'Gandhinagar',\n",
    "    'Maharashtra': 'Mumbai',\n",
    "    'Rajasthan': 'Jaipur',\n",
    "    'Bihar': 'Patna'\n",
    "}\n",
    "print('List Of given states and capitals are:\\n')\n",
    "\n",
    "#To print only state we can give d.name.keys()\n",
    "#for values d.name.values() and to get both key and values we will give d.name.items()\n",
    "# Iterating over keys\n",
    "for state in statesAndCapitals.items():\n",
    "    print(state)"
   ]
  },
  {
   "cell_type": "code",
   "execution_count": 40,
   "metadata": {},
   "outputs": [
    {
     "name": "stdout",
     "output_type": "stream",
     "text": [
      "first number is: 36\n",
      "second number is: 52\n",
      "GCD of two given numbers is: 4\n"
     ]
    }
   ],
   "source": [
    "#16.Write a Python program to find the GCD (Greatest Common Divisor) of two numbers using a for loop.\n",
    "\n",
    "#Taking input from user\n",
    "num1 = int(input(\"Enter first number\"))\n",
    "num2 = int(input(\"Enter second number\"))\n",
    "\n",
    "#Printing the numbers\n",
    "print(\"first number is:\",num1)\n",
    "print(\"second number is:\",num2)\n",
    "gcd =1 \n",
    "\n",
    "#finding gcd by using for loop\n",
    "for i in range(1,min(num1,num2)):\n",
    "    if (num1%i == 0) and (num2%i==0):\n",
    "        gcd = i\n",
    "\n",
    "print(\"GCD of two given numbers is:\",gcd)"
   ]
  },
  {
   "cell_type": "code",
   "execution_count": 45,
   "metadata": {},
   "outputs": [
    {
     "name": "stdout",
     "output_type": "stream",
     "text": [
      "Input string is: level\n",
      "New string is: level\n",
      "String is palindrome\n"
     ]
    }
   ],
   "source": [
    "#17.\tCreate a Python program that checks if a string is a palindrome using a for loop.\n",
    "\n",
    "#asking user to enter the input\n",
    "str1 = input(\"Enter a string to check if it is palindrome or not\")\n",
    "print(\"Input string is:\",str1)\n",
    "#Empty string to store the reversed string\n",
    "str2 = \" \"\n",
    "\n",
    "#Checking if string is palindrome or not\n",
    "for i in str1:\n",
    "    str2 = \"\" + str1\n",
    "print(\"New string is:\",str2)\n",
    "if str1 == str2:\n",
    "    print(\"String is palindrome\")\n",
    "else:\n",
    "    print(\"String is not palindrome\")"
   ]
  },
  {
   "cell_type": "code",
   "execution_count": 3,
   "metadata": {},
   "outputs": [
    {
     "name": "stdout",
     "output_type": "stream",
     "text": [
      "List values after removing duplicates are: [1, 2, 3, 4]\n"
     ]
    }
   ],
   "source": [
    "#18.Write a Python program to remove duplicates from a list using a for loop.\n",
    "\n",
    "list1 = [1,2,1,3,4,2]\n",
    "list2 = []\n",
    "\n",
    "for i in list1:\n",
    "    if i not in list2:\n",
    "        list2.append(i)\n",
    "print(\"List values after removing duplicates are:\",list2)\n",
    "    "
   ]
  },
  {
   "cell_type": "code",
   "execution_count": 49,
   "metadata": {},
   "outputs": [
    {
     "name": "stdout",
     "output_type": "stream",
     "text": [
      "Number of words in sentence are: 24\n"
     ]
    }
   ],
   "source": [
    "#19.Create a Python program that counts the number of words in a sentence using a for loop.\n",
    "\n",
    "#Counting number of words in sentence\n",
    "sentence = \"Counting number of words\"\n",
    "count = 0\n",
    "for i in sentence:\n",
    "    count += 1\n",
    "print(\"Number of words in sentence are:\",count)"
   ]
  },
  {
   "cell_type": "code",
   "execution_count": 52,
   "metadata": {},
   "outputs": [
    {
     "name": "stdout",
     "output_type": "stream",
     "text": [
      "sum of odd numbers from 1 to 50 is: 625\n"
     ]
    }
   ],
   "source": [
    "#20.Write a Python program to find the sum of all odd numbers from 1 to 50 using a for loop.\n",
    "\n",
    "#program to find sum of odd numbers fro 1 to 50\n",
    "sum =0\n",
    "for i in range(1,51):\n",
    "    if i%2 != 0:\n",
    "        sum += i\n",
    "print(\"sum of odd numbers from 1 to 50 is:\",sum)"
   ]
  },
  {
   "cell_type": "code",
   "execution_count": 59,
   "metadata": {},
   "outputs": [
    {
     "name": "stdout",
     "output_type": "stream",
     "text": [
      "2000 is not a leap year\n",
      "2014 is not a leap year\n",
      "2024 is a leap year\n"
     ]
    }
   ],
   "source": [
    "#21.Write a Python program that checks if a given year is a leap year using a for loop.\n",
    "\n",
    "#program to check if it is leap year or not\n",
    "def years_to_check(years):\n",
    "\n",
    "    if (years%4 == 0) and (years%100 != 0):\n",
    "        print(years,\"is a leap year\")\n",
    "    else:\n",
    "        print(years,\"is not a leap year\")\n",
    "\n",
    "#Defining years to check\n",
    "years = [2000,2014,2024]\n",
    "for i in years:\n",
    "    #Calling the function\n",
    "    years_to_check(i)"
   ]
  },
  {
   "cell_type": "code",
   "execution_count": 64,
   "metadata": {},
   "outputs": [
    {
     "name": "stdout",
     "output_type": "stream",
     "text": [
      "Numbers are [13, 14, 15]\n",
      "Square root of the given numbers is: 3.605551275463989\n",
      "Square root of the given numbers is: 3.7416573867739413\n",
      "Square root of the given numbers is: 3.872983346207417\n"
     ]
    }
   ],
   "source": [
    "#22.Create a Python program that calculates the square root of a number using a for loop.\n",
    "\n",
    "def sqr_root(num):\n",
    "    value = num ** 0.5\n",
    "    return value\n",
    "sqrt_num = [13,14,15]\n",
    "print(\"Numbers are\",sqrt_num)\n",
    "for i in sqrt_num:\n",
    "    val = sqr_root(i)\n",
    "    print(\"Square root of the given numbers is:\",val)"
   ]
  },
  {
   "cell_type": "code",
   "execution_count": 69,
   "metadata": {},
   "outputs": [
    {
     "name": "stdout",
     "output_type": "stream",
     "text": [
      "Least common factor of two numbers is: 84\n"
     ]
    }
   ],
   "source": [
    "#23.Write a Python program to find the LCM (Least Common Multiple) of two numbers using a for loop.\n",
    "\n",
    "#defining two numbers to find lcm\n",
    "num1 = 12\n",
    "num2 = 14\n",
    "\n",
    "#finding lcm of two numbers\n",
    "for i in range(max(num1,num2),1+(num1*num2)):\n",
    "    if (i%num1 == 0) and (i%num2 == 0):\n",
    "        Lcm = i\n",
    "        break\n",
    "print(\"Least common factor of two numbers is:\",Lcm)"
   ]
  },
  {
   "cell_type": "code",
   "execution_count": null,
   "metadata": {},
   "outputs": [],
   "source": [
    "#If  else questions"
   ]
  },
  {
   "cell_type": "code",
   "execution_count": 70,
   "metadata": {},
   "outputs": [
    {
     "name": "stdout",
     "output_type": "stream",
     "text": [
      "Number is positive\n"
     ]
    }
   ],
   "source": [
    "#1.\tWrite a Python program to check if a number is positive, negative, or zero using an if-else statement.\n",
    "\n",
    "#check for number positive or negative or zero\n",
    "num = int(input(\"Enter number\"))\n",
    "\n",
    "if num > 0:\n",
    "    print(\"Number is positive\")\n",
    "elif num == 0:\n",
    "    print(\"Number is zero\")\n",
    "else:\n",
    "    print(\"Number is negative\")"
   ]
  },
  {
   "cell_type": "code",
   "execution_count": 71,
   "metadata": {},
   "outputs": [
    {
     "name": "stdout",
     "output_type": "stream",
     "text": [
      "NUmber is odd\n"
     ]
    }
   ],
   "source": [
    "#2.\tCreate a Python program that checks if a given number is even or odd using an if-else statement.\n",
    "\n",
    "#check for number is even or odd\n",
    "num = int(input(\"Enter number\"))\n",
    "\n",
    "if num%2 ==0:\n",
    "    print(\"Number is even\")\n",
    "else:\n",
    "    print(\"NUmber is odd\")"
   ]
  },
  {
   "cell_type": "code",
   "execution_count": 40,
   "metadata": {},
   "outputs": [
    {
     "name": "stdout",
     "output_type": "stream",
     "text": [
      "number is not divisible by 2\n"
     ]
    }
   ],
   "source": [
    "#3.\tHow can you use nested if-else statements in Python, and provide an example?\n",
    "\n",
    "#initializing number\n",
    "num =15\n",
    "\n",
    "#nested if -else statements\n",
    "if num >0:\n",
    "    if num % 2 == 0:\n",
    "        print(\"number is divisible by 2\")\n",
    "\n",
    "    else:\n",
    "        print(\"number is not divisible by 2\")\n",
    "\n",
    "else:\n",
    "    print(\"number should be greater than zero\")\n"
   ]
  },
  {
   "cell_type": "code",
   "execution_count": 73,
   "metadata": {},
   "outputs": [
    {
     "name": "stdout",
     "output_type": "stream",
     "text": [
      "98 is largest of three numbers\n"
     ]
    }
   ],
   "source": [
    "#4.\tWrite a Python program to determine the largest of three numbers using if-else.\n",
    "\n",
    "#declaring numbers\n",
    "num1 = 78\n",
    "num2 = 98\n",
    "num3 = 65\n",
    "\n",
    "#checking for largest number\n",
    "if (num1 >= num2) and (num2>= num3):\n",
    "    print(num1,\"is largest of three numbers\")\n",
    "elif (num2 >= num1) and (num2>= num3):\n",
    "    print(num2,\"is largest of three numbers\")\n",
    "else:\n",
    "    print(num3,\"is largest of three numbers\")"
   ]
  },
  {
   "cell_type": "code",
   "execution_count": 76,
   "metadata": {},
   "outputs": [
    {
     "name": "stdout",
     "output_type": "stream",
     "text": [
      "Original value is: -98\n",
      "Absolute value is : 98\n"
     ]
    }
   ],
   "source": [
    "#5.\tWrite a Python program that calculates the absolute value of a number using if-else.\n",
    "\n",
    "#Asking user to enter input\n",
    "num = int(input(\"Enter number\"))\n",
    "print(\"Original value is:\",num)\n",
    "#if number is positive, print it\n",
    "#for negative value use abs() function to make it positive\n",
    "if num >0:\n",
    "    print(\"Absolute value is :\",num)\n",
    "else:\n",
    "    abs_val = abs(num)\n",
    "    print(\"Absolute value is :\",abs_val)"
   ]
  },
  {
   "cell_type": "code",
   "execution_count": 77,
   "metadata": {},
   "outputs": [
    {
     "name": "stdout",
     "output_type": "stream",
     "text": [
      "n is a consonant\n"
     ]
    }
   ],
   "source": [
    "#6.\tCreate a Python program that checks if a given character is a vowel or consonant using if-else.\n",
    "\n",
    "#Enter character\n",
    "char = input('Enter character')\n",
    "\n",
    "#Checking if number is vowel or consonant\n",
    "if (char in 'aeiou') or (char in 'AEIOU'):\n",
    "    print(char ,\"is a vowel\")\n",
    "else:\n",
    "    print(char ,\"is a consonant\")"
   ]
  },
  {
   "cell_type": "code",
   "execution_count": 78,
   "metadata": {},
   "outputs": [
    {
     "name": "stdout",
     "output_type": "stream",
     "text": [
      "Person is not eleigible to vote\n"
     ]
    }
   ],
   "source": [
    "#7.\tWrite a Python program to determine if a user is eligible to vote based on their age using if-else.\n",
    "\n",
    "#ASking user to enter age\n",
    "age = int(input(\"Enter age\"))\n",
    "\n",
    "#Checking if person is eligible for vote or not\n",
    "if age >= 18:\n",
    "    print(\"Person is eleigible to vote\")\n",
    "else:\n",
    "    print(\"Person is not eleigible to vote\")"
   ]
  },
  {
   "cell_type": "code",
   "execution_count": 84,
   "metadata": {},
   "outputs": [
    {
     "name": "stdout",
     "output_type": "stream",
     "text": [
      "Total purchase amount is: 34000\n",
      "Discount amount is: 8500.0\n"
     ]
    }
   ],
   "source": [
    "#8.\tCreate a Python program that calculates the discount amount based on the purchase amount using if-else.\n",
    "\n",
    "#Enter the total bill\n",
    "amt = int(input(\"Enter the purchase amount\"))\n",
    "print(\"Total purchase amount is:\",amt)\n",
    "\n",
    "#caluculating the discount based on purchase amount\n",
    "if amt <= 5000:\n",
    "    dsct = amt*(10/100)\n",
    "    print(\"Discount amount is:\",dsct)\n",
    "\n",
    "elif amt <= 10000:\n",
    "    dsct = amt*(12/100)\n",
    "    print(\"Discount amount is:\",dsct)\n",
    "\n",
    "elif amt <= 25000:\n",
    "    dsct = amt*(18/100)\n",
    "    print(\"Discount amount is:\",dsct) \n",
    "\n",
    "elif amt <= 50000:\n",
    "    dsct = amt*(25/100)\n",
    "    print(\"Discount amount is:\",dsct)\n",
    "\n",
    "else:\n",
    "    dsct = amt*(30/100)\n",
    "    print(\"Discount amount is:\",dsct)\n"
   ]
  },
  {
   "cell_type": "code",
   "execution_count": 87,
   "metadata": {},
   "outputs": [
    {
     "name": "stdout",
     "output_type": "stream",
     "text": [
      "number is: 34\n",
      "Number is in specified range\n"
     ]
    }
   ],
   "source": [
    "#9.\tWrite a Python program to check if a number is within a specified range using if-else.\n",
    "\n",
    "#Asking user to enter a number\n",
    "num = int(input(\"Enter number\"))\n",
    "print(\"number is:\",num)\n",
    "\n",
    "#let us consider the number to be in 1 to 100 limit\n",
    "if (num > 0) and (num <= 100):\n",
    "    print(\"Number is in specified range\")\n",
    "else:\n",
    "    print(\"Number should be in range of 1 to 100\")\n"
   ]
  },
  {
   "cell_type": "code",
   "execution_count": 2,
   "metadata": {},
   "outputs": [
    {
     "name": "stdout",
     "output_type": "stream",
     "text": [
      "B\n"
     ]
    }
   ],
   "source": [
    "#10.Create a Python program that determines the grade of a student based on their score using if-else.\n",
    "\n",
    "#Enter the score\n",
    "score = int(input(\"Enter the score in percentile\"))\n",
    "\n",
    "#Finding the grade based on score\n",
    "if score >= 95:\n",
    "    grade = 'A+'\n",
    "elif  score >=90 and score <= 95:\n",
    "    grade = 'A'\n",
    "elif score >=80 and score <=90:\n",
    "    grade = 'B'\n",
    "elif score >=70 and score <=80:\n",
    "    grade = 'C'\n",
    "elif score >=60 and score <= 70:\n",
    "    grade = 'D'\n",
    "elif score >=45 and score <= 60:\n",
    "    grade = 'E'\n",
    "else:\n",
    "    grade = 'Fail'\n",
    "\n",
    "print(grade)"
   ]
  },
  {
   "cell_type": "code",
   "execution_count": 3,
   "metadata": {},
   "outputs": [
    {
     "name": "stdout",
     "output_type": "stream",
     "text": [
      "String is not empty\n"
     ]
    }
   ],
   "source": [
    "#11.Write a Python program to check if a string is empty or not using if-else.\n",
    "\n",
    "#defining string\n",
    "str1 = \" length of the string\"\n",
    "\n",
    "#Checking if string is empty or not\n",
    "if len(str1)!= 0:\n",
    "    print(\"String is not empty\")\n",
    "else:\n",
    "    print(\"String is empty\")"
   ]
  },
  {
   "cell_type": "code",
   "execution_count": 4,
   "metadata": {},
   "outputs": [
    {
     "name": "stdout",
     "output_type": "stream",
     "text": [
      "It is an Scalene traingle\n"
     ]
    }
   ],
   "source": [
    "#12.Create a Python program that identifies the type of a triangle (e.g., equilateral, isosceles, or scalene) based on input values using if-else.\n",
    "\n",
    "#Taking inputs of the dimensions of an traingle\n",
    "s1 = int(input(\"Enter the first dimension of traingle\"))\n",
    "s2 = int(input(\"Enter the second dimension of traingle\"))\n",
    "s3 = int(input(\"Enter the third dimension of traingle\"))\n",
    "\n",
    "#Determing the type of traingle\n",
    "if s1 == s2 == s3 :\n",
    "    print(\"It is an Equilateral traingle\")\n",
    "if s1 == s2 or s2 == s3 or s3 == s1:\n",
    "    print(\"It is an Isosceles traingle\")\n",
    "else:\n",
    "    print(\"It is an Scalene traingle\")"
   ]
  },
  {
   "cell_type": "code",
   "execution_count": 5,
   "metadata": {},
   "outputs": [
    {
     "name": "stdout",
     "output_type": "stream",
     "text": [
      "It's thursday\n"
     ]
    }
   ],
   "source": [
    "#13.Write a Python program to determine the day of the week based on a user-provided number using if-else.\n",
    "\n",
    "#user to enter input\n",
    "day = int(input(\"Enter number\"))\n",
    "\n",
    "#printing the day based on user provided number\n",
    "if day == 1:\n",
    "    print(\"It's monday\")\n",
    "    \n",
    "elif day == 2:\n",
    "    print(\"It's tuesday\")\n",
    "    \n",
    "elif day == 3:\n",
    "    print(\"It's wednesday\")\n",
    "    \n",
    "elif day == 4:\n",
    "    print(\"It's thursday\")\n",
    "    \n",
    "elif day == 5:\n",
    "    print(\"It's friday\")\n",
    "    \n",
    "elif day == 6:\n",
    "    print(\"It's saturday\")\n",
    "\n",
    "else:\n",
    "    print(\"enter the input between 1 and 7\")\n",
    "    "
   ]
  },
  {
   "cell_type": "code",
   "execution_count": 6,
   "metadata": {},
   "outputs": [
    {
     "name": "stdout",
     "output_type": "stream",
     "text": [
      "2024  is a leap year\n"
     ]
    }
   ],
   "source": [
    "#14.Create a Python program that checks if a given year is a leap year using both if-else and a function.\n",
    "\n",
    "#Function to find leap year\n",
    "def leap_year(year):\n",
    "\n",
    "    if (year % 4 == 0) and (year%100 != 0):\n",
    "        print(year , \" is a leap year\")\n",
    "    else:\n",
    "        print(year,\" is not leap year\")\n",
    "\n",
    "#Driver's code\n",
    "#calling function\n",
    "y = int(input(\"Enter the year\"))\n",
    "leap_year(y)"
   ]
  },
  {
   "cell_type": "code",
   "execution_count": 41,
   "metadata": {},
   "outputs": [
    {
     "name": "stdout",
     "output_type": "stream",
     "text": [
      "The value of a / b is : \n"
     ]
    },
    {
     "ename": "AssertionError",
     "evalue": "",
     "output_type": "error",
     "traceback": [
      "\u001b[1;31m---------------------------------------------------------------------------\u001b[0m",
      "\u001b[1;31mAssertionError\u001b[0m                            Traceback (most recent call last)",
      "Cell \u001b[1;32mIn[41], line 9\u001b[0m\n\u001b[0;32m      7\u001b[0m \u001b[38;5;66;03m# using assert to check for 0\u001b[39;00m\n\u001b[0;32m      8\u001b[0m \u001b[38;5;28mprint\u001b[39m(\u001b[38;5;124m\"\u001b[39m\u001b[38;5;124mThe value of a / b is : \u001b[39m\u001b[38;5;124m\"\u001b[39m)\n\u001b[1;32m----> 9\u001b[0m \u001b[38;5;28;01massert\u001b[39;00m b \u001b[38;5;241m!=\u001b[39m \u001b[38;5;241m0\u001b[39m\n\u001b[0;32m     10\u001b[0m \u001b[38;5;28mprint\u001b[39m(a \u001b[38;5;241m/\u001b[39m b)\n",
      "\u001b[1;31mAssertionError\u001b[0m: "
     ]
    }
   ],
   "source": [
    "#15.How do you use the \"assert\" statement in Python to add debugging checks within if-else blocks?\n",
    "\n",
    "# initializing number\n",
    "a = 4\n",
    "b = 0\n",
    " \n",
    "# using assert to check for 0\n",
    "print(\"The value of a / b is : \")\n",
    "assert b != 0\n",
    "print(a / b)\n"
   ]
  },
  {
   "cell_type": "code",
   "execution_count": 8,
   "metadata": {},
   "outputs": [
    {
     "name": "stdout",
     "output_type": "stream",
     "text": [
      "Discount is 15%\n"
     ]
    }
   ],
   "source": [
    "#16.Create a Python program that determines the eligibility of a person for a senior citizen discount based on age using if-else.\n",
    "\n",
    "#Asking user to enter the person age\n",
    "age = int(input(\"Enter you age: \"))\n",
    "\n",
    "#Based on age, discount percent is printed\n",
    "if age >= 60 and age <65:\n",
    "    print(\"Discount is 10%\")\n",
    "elif age >= 65 and age <70:\n",
    "    print(\"Discount is 15%\")\n",
    "elif age >= 70 and age <75:\n",
    "    print(\"Discount is 20%\")\n",
    "elif age >= 75:\n",
    "    print(\"Discount is 25%\")\n",
    "else:\n",
    "    print(\"Only senior citizens , age above or equal to 60 are eligible for discount\")\n",
    "\n"
   ]
  },
  {
   "cell_type": "code",
   "execution_count": 9,
   "metadata": {},
   "outputs": [
    {
     "name": "stdout",
     "output_type": "stream",
     "text": [
      "Character is in uppercase\n"
     ]
    }
   ],
   "source": [
    "#17.Write a Python program to categorize a given character as uppercase, lowercase, or neither using if-else.\n",
    "\n",
    "#Enter any character as input\n",
    "str1 = input(\"Enter any character\")\n",
    "\n",
    "#Checking if character is upper case or lower case\n",
    "if str1 == str1.upper():\n",
    "    print(\"Character is in uppercase\")\n",
    "elif str1 == str1.lower():\n",
    "    print(\"Character is lowercase\")\n",
    "else:\n",
    "    print(\"Character is neither upper or lower case\")"
   ]
  },
  {
   "cell_type": "code",
   "execution_count": 10,
   "metadata": {},
   "outputs": [
    {
     "name": "stdout",
     "output_type": "stream",
     "text": [
      "Complex Roots exist.\n",
      "-0.625  + i 8.426149773176359\n",
      "-0.625  - i 8.426149773176359\n"
     ]
    }
   ],
   "source": [
    "#18.Write a Python program to determine the roots of a quadratic equation using if-else.\n",
    "\n",
    "import math\n",
    "\n",
    "a = int(input(\"Enter a: \"))\n",
    "b = int(input(\"Enter b: \"))\n",
    "c = int(input(\"Enter c: \"))\n",
    "\n",
    "if a == 0:\n",
    "    print(\"Enter the coefficients correctly.\")\n",
    "else:\n",
    "    disc = b * b - 4 * a * c  \n",
    "    sqrt_val = math.sqrt(abs(disc))  \n",
    "      \n",
    "    if disc > 0:  \n",
    "        print(\"Real and different roots \")  \n",
    "        print((-b + sqrt_val)/(2 * a))  \n",
    "        print((-b - sqrt_val)/(2 * a))  \n",
    "      \n",
    "    elif disc == 0:  \n",
    "        print(\"Real and same roots\")  \n",
    "        print(-b / (2 * a))  \n",
    "      \n",
    "    else:  \n",
    "        print(\"Complex Roots exist.\")  \n",
    "        print(- b / (2 * a), \" + i\", sqrt_val)  \n",
    "        print(- b / (2 * a), \" - i\", sqrt_val)"
   ]
  },
  {
   "cell_type": "code",
   "execution_count": 14,
   "metadata": {},
   "outputs": [
    {
     "name": "stdout",
     "output_type": "stream",
     "text": [
      "Year is century year\n"
     ]
    }
   ],
   "source": [
    "#19.Create a Python program that checks if a given year is a century year or not using if-else.\n",
    "\n",
    "\n",
    "#Asking user to enter the input\n",
    "year = int(input(\"Enter a year\"))\n",
    "\n",
    "#If the year is divisible by 4 \n",
    "if (year%100 == 0):\n",
    "        print(\"Year is century year\")\n",
    "          \n",
    "else:\n",
    "    print(\"year is not century year\")"
   ]
  },
  {
   "cell_type": "code",
   "execution_count": 17,
   "metadata": {},
   "outputs": [
    {
     "name": "stdout",
     "output_type": "stream",
     "text": [
      "8 is a perfect square of  64\n"
     ]
    }
   ],
   "source": [
    "#20.Write a Python program to determine if a given number is a perfect square using if-else.\n",
    "\n",
    "#importing square root function from math library\n",
    "from math import sqrt\n",
    "#Asking user to enter input\n",
    "n = int(input(\"Enter a number to find its square root\"))\n",
    "\n",
    "#Finding square root and comparing them if it is a perfect square or not\n",
    "sq_root = int(sqrt(n))\n",
    "if n == (sq_root * sq_root):\n",
    "    print(sq_root, \"is a perfect square of \",n)\n",
    "else:\n",
    "    print(n, \"does not have perfect square root\")"
   ]
  },
  {
   "cell_type": "code",
   "execution_count": 18,
   "metadata": {},
   "outputs": [
    {
     "ename": "SyntaxError",
     "evalue": "invalid syntax (2994449610.py, line 3)",
     "output_type": "error",
     "traceback": [
      "\u001b[1;36m  Cell \u001b[1;32mIn[18], line 3\u001b[1;36m\u001b[0m\n\u001b[1;33m    Break Statement:\u001b[0m\n\u001b[1;37m          ^\u001b[0m\n\u001b[1;31mSyntaxError\u001b[0m\u001b[1;31m:\u001b[0m invalid syntax\n"
     ]
    }
   ],
   "source": [
    "#21.Explain the purpose of the \"continue\" and \"break\" statements within if-else loops.\n",
    "\n",
    "Break Statement:\n",
    "    A break statement is used when we want to terminate the running loop whenever any particular condition occurs. \n",
    "    Whenever a break statement occurs loop breaks and stops executing.\n",
    "\n",
    "#example:\n",
    "    curr = 0\n",
    "# Loop till curr < 10\n",
    "while curr < 10:\n",
    "    print(curr)\n",
    "    curr += 1\n",
    "    # If curr = 5, break out of the loop\n",
    "    if curr == 5:\n",
    "        break#\n",
    "Continue Statement:\n",
    "        continue statement is used when we have to skip a particular iteration. \n",
    "        Whenever we write continue statement the whole code after that statement is skipped and loop will go for next iteration.\n",
    "     # Loop till i <= 5\n",
    "for i in range(0, 6):\n",
    "    # If i = 3, then continue to the next iteration\n",
    "    if i == 3:\n",
    "        continue\n",
    "    print(i)"
   ]
  },
  {
   "cell_type": "code",
   "execution_count": 20,
   "metadata": {},
   "outputs": [
    {
     "name": "stdout",
     "output_type": "stream",
     "text": [
      "BMI of person is: 25\n",
      "person is overweight\n"
     ]
    }
   ],
   "source": [
    "#22.Create a Python program that calculates the BMI (Body Mass Index) of a person based on their weight and height using if-else.\n",
    "\n",
    "#Asking user to enter the input\n",
    "BMI = int(input(\"enter the person's BMI\"))\n",
    "print(\"BMI of person is:\",BMI)\n",
    "if BMI >=12 and BMI <= 18:\n",
    "    print(\"person is underweight\")\n",
    "elif BMI >=19 and BMI <= 24:\n",
    "    print(\"Person BMI is normal\")\n",
    "elif BMI >= 25 and BMI <=29:\n",
    "    print(\"person is overweight\")\n",
    "elif BMI >= 30 and BMI <=36:\n",
    "    print(\"person is obese\")\n",
    "else:\n",
    "    print(\"enter the value between 12 and 36\")"
   ]
  },
  {
   "cell_type": "code",
   "execution_count": 64,
   "metadata": {},
   "outputs": [
    {
     "name": "stdout",
     "output_type": "stream",
     "text": [
      "(12, 14, 34, 89)\n"
     ]
    }
   ],
   "source": [
    "#23.How can you use the \"filter()\" function with if-else statements to filter elements from a list?\n",
    "\n",
    "list1 = [12,14,34,-23,89,-77]\n",
    "\n",
    "def PositiveNumber(l):\n",
    "    if l > 0:\n",
    "        return True\n",
    "    else:\n",
    "        return False\n",
    "        \n",
    "\n",
    "num = tuple(filter(PositiveNumber,list1))\n",
    "\n",
    "print(num)\n",
    "\n"
   ]
  },
  {
   "cell_type": "code",
   "execution_count": 22,
   "metadata": {},
   "outputs": [
    {
     "name": "stdout",
     "output_type": "stream",
     "text": [
      "6 is not a prime number\n"
     ]
    }
   ],
   "source": [
    "#24.Write a Python program to determine if a given number is prime or not using if-else.\n",
    "\n",
    "# Program to check if a number is prime or not\n",
    "\n",
    "#Taking input from user\n",
    "num = int(input(\"Enter a number: \"))\n",
    "\n",
    "# define a flag variable\n",
    "flag = False\n",
    "\n",
    "if num == 1:\n",
    "    print(num, \"is not a prime number\")\n",
    "elif num > 1:\n",
    "    # check for factors\n",
    "    for i in range(2, num):\n",
    "        if (num % i) == 0:\n",
    "            # if factor is found, set flag to True\n",
    "            flag = True\n",
    "            # break out of loop\n",
    "            break\n",
    "\n",
    "    # check if flag is True\n",
    "    if flag:\n",
    "        print(num, \"is not a prime number\")\n",
    "    else:\n",
    "        print(num, \"is a prime number\")\n"
   ]
  },
  {
   "cell_type": "code",
   "execution_count": 1,
   "metadata": {},
   "outputs": [],
   "source": [
    "#Map Questions"
   ]
  },
  {
   "cell_type": "code",
   "execution_count": 12,
   "metadata": {},
   "outputs": [
    {
     "data": {
      "text/plain": [
       "[8, 6, 14, 8, 18, 16]"
      ]
     },
     "execution_count": 12,
     "metadata": {},
     "output_type": "execute_result"
    }
   ],
   "source": [
    "#1.\tExplain the purpose of the `map()` function in Python and provide an example of how it can be used to apply a function to each element of an iterable.\n",
    "\n",
    "\n",
    "#purpose of the map:\n",
    "\"\"\"map() function returns a map object(which is an iterator) of the results after applying the given function to each item of a given iterable (list, tuple etc.)\n",
    "syntax : map(function,iterable)\n",
    "\n",
    "    Parameters:\n",
    "\n",
    "        function: It is a function to which map passes each element of given iterable.\n",
    "        iterable: It is iterable which is to be mapped.\n",
    "        we can pass more than one iterable.\"\"\"\"17th sep FSDS p.ipynb\"\n",
    "\n",
    "\n",
    "#Example of Map:\n",
    "\n",
    "#python program to demonstrate map function\n",
    "#function for adding numbers itself\n",
    "\n",
    "def addition(x):\n",
    "    return x+x\n",
    "\n",
    "#defining tuple\n",
    "l = (4,3,7,4,9,8)\n",
    "\n",
    "#using map function\n",
    "list(map(addition,l))\n"
   ]
  },
  {
   "cell_type": "code",
   "execution_count": 17,
   "metadata": {},
   "outputs": [
    {
     "data": {
      "text/plain": [
       "[144, 169, 196, 225]"
      ]
     },
     "execution_count": 17,
     "metadata": {},
     "output_type": "execute_result"
    }
   ],
   "source": [
    "#2.\tWrite a Python program that uses the `map()` function to square each element of a list of numbers.\n",
    "\n",
    "#defining list\n",
    "L = [12,13,14,15]\n",
    "\n",
    "#Squaring the numbers in list\n",
    "list(map(lambda x : x**2,L))"
   ]
  },
  {
   "cell_type": "code",
   "execution_count": null,
   "metadata": {},
   "outputs": [],
   "source": [
    "#3.\tHow does the `map()` function differ from a list comprehension in Python, and when would you choose one over the other?\n",
    "\n",
    "\n",
    "Map VS List Comprehension\n",
    "List comprehension is more concise and easier to read as compared to map.\n",
    "List comprehension allows filtering. In map, we have no such facility. For example, to print all even numbers in range of 100, we can write [n for n in range(100) if n%2 == 0]. There is no alternate for it in map\n",
    "List comprehension are used when a list of results is required as map only returns a map object and does not return any list.\n",
    "List comprehension is faster than map when we need to evaluate expressions that are too long or complicated to express\n",
    "Map is faster in case of calling an already defined function (as no lambda is required)."
   ]
  },
  {
   "cell_type": "code",
   "execution_count": 18,
   "metadata": {},
   "outputs": [
    {
     "data": {
      "text/plain": [
       "['STRING', 'FUNCTION', 'CONVERT']"
      ]
     },
     "execution_count": 18,
     "metadata": {},
     "output_type": "execute_result"
    }
   ],
   "source": [
    "#4.\tCreate a Python program that uses the `map()` function to convert a list of names to uppercase.\n",
    "\n",
    "#Defining string\n",
    "str1 = ['string','function','convert']\n",
    "\n",
    "#Map function \n",
    "list(map(lambda x :x.upper(),str1))"
   ]
  },
  {
   "cell_type": "code",
   "execution_count": 19,
   "metadata": {},
   "outputs": [
    {
     "data": {
      "text/plain": [
       "[6, 8, 7]"
      ]
     },
     "execution_count": 19,
     "metadata": {},
     "output_type": "execute_result"
    }
   ],
   "source": [
    "#5.\tWrite a Python program that uses the `map()` function to calculate the length of each word in a list of strings.\n",
    "\n",
    "#Defining string\n",
    "str1 = ['string','function','convert']\n",
    "#Function for length\n",
    "def le(x):\n",
    "    return len(x)\n",
    "\n",
    "list(map(le,str1))"
   ]
  },
  {
   "cell_type": "code",
   "execution_count": 3,
   "metadata": {},
   "outputs": [
    {
     "data": {
      "text/plain": [
       "[12, 15, 18]"
      ]
     },
     "execution_count": 3,
     "metadata": {},
     "output_type": "execute_result"
    }
   ],
   "source": [
    "#6.\tHow can you use the `map()` function to apply a custom function to elements of multiple lists simultaneously in Python?\n",
    "\n",
    "#function for adding elements\n",
    "def add(l1,l2,l3):\n",
    "    return l1+l2+l3\n",
    "#defining lists\n",
    "l1 =[1,2,3]\n",
    "l2 =[4,5,6]\n",
    "l3 =[7,8,9]\n",
    "#Applying add function on multiple lists\n",
    "list(map(add,l1,l2,l3))"
   ]
  },
  {
   "cell_type": "code",
   "execution_count": 26,
   "metadata": {},
   "outputs": [
    {
     "data": {
      "text/plain": [
       "[93, 132, 113, 73, 87]"
      ]
     },
     "execution_count": 26,
     "metadata": {},
     "output_type": "execute_result"
    }
   ],
   "source": [
    "#7.\tCreate a Python program that uses `map()` to convert a list of temperatures from Celsius to Fahrenheit.\n",
    "\n",
    "#Temperature in celsius\n",
    "temp = [34,56,45,23,31]\n",
    "\n",
    "#Function for converting celsius to faranheit\n",
    "def TempConv(t):\n",
    "    ft= ((9/5)*t) + 32\n",
    "    return int(ft)\n",
    "#Temparature in Faraheit\n",
    "list(map(TempConv,temp))\n"
   ]
  },
  {
   "cell_type": "code",
   "execution_count": 27,
   "metadata": {},
   "outputs": [
    {
     "data": {
      "text/plain": [
       "[12, 56, 24, 45]"
      ]
     },
     "execution_count": 27,
     "metadata": {},
     "output_type": "execute_result"
    }
   ],
   "source": [
    "#8.\tWrite a Python program that uses the `map()` function to round each element of a list of floating-point numbers to the nearest integer.\n",
    "\n",
    "#List of float values\n",
    "l = [ 12.4,56.3,23.9,45]\n",
    "\n",
    "#Rounding numbers with map function and round function\n",
    "list(map(lambda x : round(x),l))"
   ]
  },
  {
   "cell_type": "code",
   "execution_count": 4,
   "metadata": {},
   "outputs": [],
   "source": [
    "## Reduce Questions"
   ]
  },
  {
   "cell_type": "code",
   "execution_count": null,
   "metadata": {},
   "outputs": [],
   "source": [
    "#1.What is the `reduce()` function in Python, and what module should you import to use it? Provide an example of its basic usage.\n",
    "\n",
    "reduce function is used to apply a function to the iterable and reduce them to a single value.\n",
    "reduce function is not a part of python built in functions, to use it we can import it from \"functools\"\n",
    "\n",
    "syntax :  reduce(fun,iter)\n",
    "\n",
    "parametrs:\n",
    "        fun: It is a function to execuate on each element of the iterable objec\n",
    "        iter: It is iterable to be reduced\n",
    "\n",
    "Example:\n",
    "\n",
    "    In the below cell"
   ]
  },
  {
   "cell_type": "code",
   "execution_count": 8,
   "metadata": {},
   "outputs": [
    {
     "name": "stdout",
     "output_type": "stream",
     "text": [
      "Product of list elements: 10\n"
     ]
    }
   ],
   "source": [
    "from functools import reduce\n",
    "\n",
    "# Define a list of numbers\n",
    "numbers = [1, 2, 3, 4]\n",
    "\n",
    "# Use reduce to compute the sum of list elements\n",
    "sum= reduce(lambda x, y: x +y, numbers)\n",
    "print(\"Product of list elements:\", sum)"
   ]
  },
  {
   "cell_type": "code",
   "execution_count": 9,
   "metadata": {},
   "outputs": [
    {
     "name": "stdout",
     "output_type": "stream",
     "text": [
      "Product of list elements: 24\n"
     ]
    }
   ],
   "source": [
    "#2.Write a Python program that uses the `reduce()` function to find the product of all elements in a list.\n",
    "\n",
    "from functools import reduce\n",
    "\n",
    "# Define a list of numbers\n",
    "numbers = [1, 2, 3, 4]\n",
    "\n",
    "# Use reduce to compute the product of list elements\n",
    "product = reduce(lambda x, y: x * y, numbers)\n",
    "print(\"Product of list elements:\", product)"
   ]
  },
  {
   "cell_type": "code",
   "execution_count": 15,
   "metadata": {},
   "outputs": [
    {
     "name": "stdout",
     "output_type": "stream",
     "text": [
      "Largest number in list is : 123\n"
     ]
    }
   ],
   "source": [
    "#3.Create a Python program that uses `reduce()` to find the maximum element in a list of numbers.\n",
    "\n",
    "from functools import reduce\n",
    "    \n",
    "#Defining List\n",
    "list1 = [23,45,65,89,123]\n",
    "\n",
    "#Using reduce to get the max element in list\n",
    "max_ele = reduce(lambda x,y:a if x>y else y,list1)\n",
    "print(\"Largest number in list is :\",max_ele)"
   ]
  },
  {
   "cell_type": "code",
   "execution_count": 26,
   "metadata": {},
   "outputs": [
    {
     "name": "stdout",
     "output_type": "stream",
     "text": [
      "good  morning today weather is good\n"
     ]
    }
   ],
   "source": [
    "#4.How can you use the `reduce()` function to concatenate a list of strings into a single string?\n",
    "\n",
    "from functools import reduce\n",
    "\n",
    "#defining list\n",
    "list1 =[ 'good',' morning','today','weather','is','good']\n",
    "\n",
    "#concatenating strings\n",
    "sentence = reduce(lambda x,y: x +' '+y,list1)\n",
    "print(sentence)"
   ]
  },
  {
   "cell_type": "code",
   "execution_count": 38,
   "metadata": {},
   "outputs": [
    {
     "name": "stdout",
     "output_type": "stream",
     "text": [
      "Factorial of a given number is 120\n"
     ]
    }
   ],
   "source": [
    "#5.Write a Python program that calculates the factorial of a number using the `reduce()` function.\n",
    "\n",
    "from functools import reduce\n",
    "n= 5\n",
    "#Factorial of a number \n",
    "fact_val = reduce(lambda x,y : x*y ,range(1,n+1))\n",
    "print(\"Factorial of a given number is\",fact_val)"
   ]
  },
  {
   "cell_type": "code",
   "execution_count": 48,
   "metadata": {},
   "outputs": [
    {
     "name": "stdout",
     "output_type": "stream",
     "text": [
      "GCD value of list of numbers is: 3\n"
     ]
    }
   ],
   "source": [
    "\n",
    "#6.Create a Python program that uses `reduce()` to find the GCD (Greatest Common Divisor) of a list of numbers.\n",
    "\n",
    "import math\n",
    "from functools import reduce\n",
    "\n",
    "#defining list\n",
    "list1 =[12,24,27,30,36]\n",
    "\n",
    "#gcd value of given numbers is\n",
    "gcd_val = reduce(math.gcd,list1)\n",
    "print(\"GCD value of list of numbers is:\",gcd_val)"
   ]
  },
  {
   "cell_type": "code",
   "execution_count": 79,
   "metadata": {},
   "outputs": [
    {
     "name": "stdout",
     "output_type": "stream",
     "text": [
      "[1, 5, 7, 8]\n"
     ]
    },
    {
     "data": {
      "text/plain": [
       "21"
      ]
     },
     "execution_count": 79,
     "metadata": {},
     "output_type": "execute_result"
    }
   ],
   "source": [
    "#7.Write a Python program that uses the `reduce()` function to find the sum of the digits of a given number.\n",
    "\n",
    "from functools import reduce\n",
    "import operator\n",
    "#defining number\n",
    "n =1578\n",
    "#converting number to list of numbers\n",
    "lis = [int(i) for i in str(n)]\n",
    "print(lis)\n",
    "\n",
    "#sum of digits of given number\n",
    "list_of_number = reduce(lambda x,y:x+y,lis)\n",
    "list_of_number\n",
    "\n"
   ]
  },
  {
   "cell_type": "code",
   "execution_count": null,
   "metadata": {},
   "outputs": [],
   "source": [
    "#Filter :-"
   ]
  },
  {
   "cell_type": "code",
   "execution_count": null,
   "metadata": {},
   "outputs": [],
   "source": [
    "#1.Explain the purpose of the `filter()` function in Python and provide an example of how it can be used to filter elements from an iterable.\n",
    "\n",
    "The filter() function returns an iterator where the items are filtered through a function to test if the item is accepted or not.\n",
    "\n",
    "Syntax:\n",
    "        filter(function, iterable)"
   ]
  },
  {
   "cell_type": "code",
   "execution_count": 103,
   "metadata": {},
   "outputs": [
    {
     "name": "stdout",
     "output_type": "stream",
     "text": [
      "(18, 24, 32)\n"
     ]
    }
   ],
   "source": [
    "ages = [5, 12, 17, 18, 24, 32]\n",
    "\n",
    "#defining function for casting vote\n",
    "def myFunc(x):\n",
    "  if x < 18:\n",
    "    return False\n",
    "  else:\n",
    "    return True\n",
    "#filtering the ages\n",
    "eligibility = tuple(filter(myFunc, ages))\n",
    "print(eligibility)"
   ]
  },
  {
   "cell_type": "code",
   "execution_count": 104,
   "metadata": {},
   "outputs": [
    {
     "name": "stdout",
     "output_type": "stream",
     "text": [
      "(12, 22, 56)\n"
     ]
    }
   ],
   "source": [
    "#2.Write a Python program that uses the `filter()` function to select even numbers from a list of integers.\n",
    "\n",
    "#Defining list\n",
    "list1 = [23,12,45,43,22,56]\n",
    "#filtering even numbers\n",
    "even_num = tuple(filter(lambda x : x%2 == 0,list1))\n",
    "#printing the output\n",
    "print(even_num)\n",
    "\n"
   ]
  },
  {
   "cell_type": "code",
   "execution_count": 105,
   "metadata": {},
   "outputs": [
    {
     "name": "stdout",
     "output_type": "stream",
     "text": [
      "('statistics', 'start')\n"
     ]
    }
   ],
   "source": [
    "#3.Create a Python program that uses the `filter()` function to select names that start with a specific letter from a list of strings.\n",
    "\n",
    "#Defining list\n",
    "list1 = ['statistics','start','buffer','error']\n",
    "\n",
    "str1 = tuple(filter(lambda x: x.startswith('s'),list1))\n",
    "print(str1)"
   ]
  },
  {
   "cell_type": "code",
   "execution_count": 115,
   "metadata": {},
   "outputs": [
    {
     "name": "stdout",
     "output_type": "stream",
     "text": [
      "Prime numbers in list of integers are: (13, 17, 19)\n"
     ]
    }
   ],
   "source": [
    "#4.Write a Python program that uses the `filter()` function to select prime numbers from a list of integers.\n",
    "\n",
    "#function for prime numbers\n",
    "\n",
    "def prime_num(n):\n",
    "    if n <= 1:\n",
    "        return False\n",
    "    for i in range(2,int((n**0.5))+1):\n",
    "        if n % i == 0:\n",
    "            return False\n",
    "    return True\n",
    "\n",
    "#Defining list\n",
    "list1 = [12,13,17,18,19,21,25]\n",
    "\n",
    "num = tuple(filter(prime_num,list1))\n",
    "print(\"Prime numbers in list of integers are:\",num)\n"
   ]
  },
  {
   "cell_type": "code",
   "execution_count": 118,
   "metadata": {},
   "outputs": [
    {
     "name": "stdout",
     "output_type": "stream",
     "text": [
      "(12, 34, 56, 76, 89)\n"
     ]
    }
   ],
   "source": [
    "#5.How can you use the `filter()` function to remove None values from a list in Python?\n",
    "\n",
    "#defining list \n",
    "list1 = [0,12,34,None,56,76,89]\n",
    "rem_ele = tuple(filter(None,list1))\n",
    "print(rem_ele)\n"
   ]
  },
  {
   "cell_type": "code",
   "execution_count": 135,
   "metadata": {},
   "outputs": [
    {
     "data": {
      "text/plain": [
       "('string', 'length', 'program')"
      ]
     },
     "execution_count": 135,
     "metadata": {},
     "output_type": "execute_result"
    }
   ],
   "source": [
    "#6.Create a Python program that uses `filter()` to select words longer than a certain length from a list of strings.\n",
    "\n",
    "list1 = ['string','length','and','to','uses','program']\n",
    "\n",
    "words = tuple(filter(lambda x : len(x)>= 5,list1))\n",
    "words\n"
   ]
  },
  {
   "cell_type": "code",
   "execution_count": 136,
   "metadata": {},
   "outputs": [],
   "source": [
    "#Recursion"
   ]
  },
  {
   "cell_type": "code",
   "execution_count": null,
   "metadata": {},
   "outputs": [],
   "source": [
    "#1.Explain the concept of recursion in Python. How does it differ from iteration?\n",
    "\n",
    "Recursion is defined as a process which calls itself directly or indirectly and the corresponding function is called a recursive function.\n",
    "\n",
    "A program is called recursive when an entity calls itself. A program is called iterative when there is a loop (or repetition)."
   ]
  },
  {
   "cell_type": "code",
   "execution_count": 139,
   "metadata": {},
   "outputs": [
    {
     "name": "stdout",
     "output_type": "stream",
     "text": [
      "Factorial of an given number is: 5040\n"
     ]
    }
   ],
   "source": [
    "#2.Write a Python program to calculate the factorial of a number using recursion.\n",
    "\n",
    "#Recursive function for factorial\n",
    "\n",
    "def rec_fact(n):\n",
    "    if n < 0:\n",
    "        return false\n",
    "    elif n == 0:\n",
    "        return 1\n",
    "    else:\n",
    "        return n * rec_fact(n-1)\n",
    "\n",
    "#Driver code\n",
    "n = int(input(\"Enter a number\"))\n",
    "val = rec_fact(n)\n",
    "print(\"Factorial of an given number is:\",val)"
   ]
  },
  {
   "cell_type": "code",
   "execution_count": 146,
   "metadata": {},
   "outputs": [
    {
     "name": "stdout",
     "output_type": "stream",
     "text": [
      "34\n"
     ]
    }
   ],
   "source": [
    "#3.Create a recursive Python function to find the nth Fibonacci number.\n",
    "\n",
    "#Function to generate nth fibonacci number\n",
    "def fibonacci_num(n):\n",
    "    if n <= 0 :\n",
    "        return False\n",
    "    elif n ==1 :\n",
    "        return 0\n",
    "    elif n ==2:\n",
    "        return 1\n",
    "    else:\n",
    "        return fibonacci_num(n-1) + fibonacci_num(n-2)\n",
    "#Driver code  \n",
    "print(fibonacci_num(10))"
   ]
  },
  {
   "cell_type": "code",
   "execution_count": 155,
   "metadata": {},
   "outputs": [
    {
     "name": "stdout",
     "output_type": "stream",
     "text": [
      "45\n"
     ]
    }
   ],
   "source": [
    "#4.Write a recursive Python function to calculate the sum of all elements in a list.\n",
    "\n",
    "#Recursive program to get sum of all elements in list\n",
    "def list_sum(l):\n",
    "    if len(l) <= 0:\n",
    "        return False\n",
    "    else:\n",
    "        return l[0] + list_sum(l[1:])\n",
    "\n",
    "#Driver code\n",
    "li =[12,13,1,4,15]\n",
    "sum =list_sum(li) \n",
    "print(sum)"
   ]
  },
  {
   "cell_type": "code",
   "execution_count": 156,
   "metadata": {},
   "outputs": [],
   "source": [
    "#5.How can you prevent a recursive function from running indefinitely, causing a stack overflow error?\n",
    "\n",
    "Recursion is a powerful technique that allows you to solve problems by breaking them down into smaller and simpler subproblems. \n",
    "However, recursion can also cause a stack overflow, which is a runtime error that occurs when the call stack exceeds its limit. \n",
    "The call stack is a data structure that stores the information about the active functions in a program, such as their parameters, return values, and local variables.\n",
    "Each recursive call adds a new frame to the stack, and each return removes a frame from the stack. If the recursion is too deep or infinite, \n",
    "the stack can run out of space and crash the program. \n",
    "\n",
    "To prevent it,we can follow these ways\n",
    "\n",
    "1. Use a base case to stop recursion.\n",
    "2. Optimize with tail recursion.\n",
    "3. Cache results with memoization.\n",
    "4. Limit recursion depth.\n",
    "5. Test thoroughly.\n",
    "6. Consider iterative solutions.\n",
    "7. Use proper data structures.\n",
    "8. Leverage Tail Call Optimization (TCO) where available."
   ]
  },
  {
   "cell_type": "code",
   "execution_count": 157,
   "metadata": {},
   "outputs": [
    {
     "name": "stdout",
     "output_type": "stream",
     "text": [
      "3\n"
     ]
    }
   ],
   "source": [
    "#6.Create a recursive Python function to find the greatest common divisor (GCD) of two numbers using the Euclidean algorithm.\n",
    "\n",
    "#Recursive function to find gcd\n",
    "def gcd(a,b):\n",
    "    if b == 0:\n",
    "        return a\n",
    "    else:\n",
    "        return gcd(b,a%b)\n",
    "    \n",
    "#driver code\n",
    "a = 12\n",
    "b = 15\n",
    "gcd_val =gcd(a,b)\n",
    "print(gcd_val)\n"
   ]
  },
  {
   "cell_type": "code",
   "execution_count": 161,
   "metadata": {},
   "outputs": [
    {
     "name": "stdout",
     "output_type": "stream",
     "text": [
      "Given string is: hello\n",
      "Reverse string is: olleh\n"
     ]
    }
   ],
   "source": [
    "#7.Write a recursive Python function to reverse a string.\n",
    "\n",
    "#Reverse a string\n",
    "def reverse(s):\n",
    "    if len(s )== 0:\n",
    "        return s\n",
    "    else:\n",
    "        return reverse(s[1:]) + s[0]\n",
    "    \n",
    "#Driver code\n",
    "str1 = 'hello'\n",
    "print(\"Given string is:\",str1)\n",
    "rev_str = reverse(str1)\n",
    "print(\"Reverse string is:\",rev_str)\n",
    "\n"
   ]
  },
  {
   "cell_type": "code",
   "execution_count": 162,
   "metadata": {},
   "outputs": [
    {
     "name": "stdout",
     "output_type": "stream",
     "text": [
      "16\n"
     ]
    }
   ],
   "source": [
    "#8.Create a recursive Python function to calculate the power of a number (x^n).\n",
    "\n",
    "#recursive function to find power of a number\n",
    "def power(num,pow):\n",
    "    if pow  == 0:\n",
    "        return 1\n",
    "    else:\n",
    "        return num * power(num,pow-1)\n",
    "\n",
    "#Driver code   \n",
    "n=4\n",
    "p =2\n",
    "val = power(n,p)\n",
    "print(\"Power of given number is:\",val)"
   ]
  },
  {
   "cell_type": "code",
   "execution_count": 163,
   "metadata": {},
   "outputs": [
    {
     "name": "stdout",
     "output_type": "stream",
     "text": [
      "['abc', 'acb', 'bac', 'bca', 'cab', 'cba']\n"
     ]
    }
   ],
   "source": [
    "#9.Write a recursive Python function to find all permutations of a given string.\n",
    "\n",
    "def find_permutations(s):\n",
    "    if len(s) == 1:\n",
    "        return [s]\n",
    "    else:\n",
    "        perms = []\n",
    "        for i, c in enumerate(s):\n",
    "            for perm in find_permutations(s[:i] + s[i+1:]):\n",
    "                perms.append(c + perm)\n",
    "        return perms\n",
    " \n",
    "s = 'abc'\n",
    "print(find_permutations(s))"
   ]
  },
  {
   "cell_type": "code",
   "execution_count": 164,
   "metadata": {},
   "outputs": [
    {
     "name": "stdout",
     "output_type": "stream",
     "text": [
      "String is not palindrome\n"
     ]
    }
   ],
   "source": [
    "#10.Write a recursive Python function to check if a string is a palindrome.\n",
    "\n",
    "#Palindrome or not\n",
    "def palindrome(s):\n",
    "    if len(s) == 0:\n",
    "        return s\n",
    "    else:\n",
    "        return palindrome(s[1:]) + s[0]\n",
    "    \n",
    "s = \"palindrome\"\n",
    "p = palindrome(s)\n",
    "if p == s:\n",
    "    print(\"String is palindrome\")\n",
    "else:\n",
    "    print(\"String is not palindrome\")"
   ]
  },
  {
   "cell_type": "code",
   "execution_count": 165,
   "metadata": {},
   "outputs": [
    {
     "name": "stdout",
     "output_type": "stream",
     "text": [
      "[3]\n",
      "[2]\n",
      "[2, 3]\n",
      "[1]\n",
      "[1, 3]\n",
      "[1, 2]\n",
      "[1, 2, 3]\n"
     ]
    }
   ],
   "source": [
    "#11.Create a recursive Python function to generate all possible combinations of a list of elements.\n",
    "   \n",
    "# Recursive function to print all \n",
    "# possible subsequences for given array \n",
    "def printSubsequences(arr, index, subarr): \n",
    "       \n",
    "    if index == len(arr): \n",
    "        if len(subarr) != 0: \n",
    "            print(subarr) \n",
    "       \n",
    "    else: \n",
    "        # Subsequence without including  \n",
    "        # the element at current index \n",
    "        printSubsequences(arr, index + 1, subarr) \n",
    "           \n",
    "        # Subsequence including the element \n",
    "        # at current index \n",
    "        printSubsequences(arr, index + 1,  \n",
    "                            subarr+[arr[index]]) \n",
    "       \n",
    "    return\n",
    "           \n",
    "arr = [1, 2, 3] \n",
    "   \n",
    "printSubsequences(arr, 0, []) "
   ]
  },
  {
   "cell_type": "code",
   "execution_count": null,
   "metadata": {},
   "outputs": [],
   "source": [
    "#1.What is a function in Python, and why is it used?\n",
    "\n",
    "A function is a block of code which only runs when it is called.\n",
    "You can pass data, known as parameters, into a function.\n",
    "A function can return data as a result and we can reuse same code to run multiple times\n",
    "\n"
   ]
  },
  {
   "cell_type": "code",
   "execution_count": null,
   "metadata": {},
   "outputs": [],
   "source": [
    "#2.\tHow do you define a function in Python? Provide an example.\n",
    "\n",
    "#Function definition in python\n",
    "def function_name(arg1,arg2,arg3,...):\n",
    "    \"\"\"\n",
    "    function logic goes here.\n",
    "    \"\"\"\n",
    "    return value1, value2, value3,...\n",
    "\n",
    "example:"
   ]
  },
  {
   "cell_type": "code",
   "execution_count": 5,
   "metadata": {},
   "outputs": [
    {
     "name": "stdout",
     "output_type": "stream",
     "text": [
      "Hello world\n"
     ]
    }
   ],
   "source": [
    "#defining function to greet\n",
    "\n",
    "def greet():\n",
    "    print(\"Hello world\")\n",
    "\n",
    "greet()"
   ]
  },
  {
   "cell_type": "code",
   "execution_count": null,
   "metadata": {},
   "outputs": [],
   "source": [
    "#3.\tExplain the difference between a function definition and a function call.\n",
    "\n",
    "In Function definition, we define the parameters and the code to be executed for returning the data. \n",
    "While in function call, the function is called by passing parameters if needed and the data is returned.until and unless we call the\n",
    "function function is not executed."
   ]
  },
  {
   "cell_type": "code",
   "execution_count": 6,
   "metadata": {},
   "outputs": [
    {
     "name": "stdout",
     "output_type": "stream",
     "text": [
      "Sum of two numbers is: 25\n"
     ]
    }
   ],
   "source": [
    "#4.\tWrite a Python program that defines a function to calculate the sum of two numbers and then calls the function.\n",
    "\n",
    "#Function to caluculate the sum\n",
    "\n",
    "def sum(a,b):\n",
    "    return a+b\n",
    "\n",
    "#Driver code\n",
    "\n",
    "c = sum(12,13)\n",
    "print(\"Sum of two numbers is:\",c)"
   ]
  },
  {
   "cell_type": "code",
   "execution_count": null,
   "metadata": {},
   "outputs": [],
   "source": [
    "#5.\tWhat is a function signature, and what information does it typically include?\n",
    "\n",
    "In Python, a function signature provides crucial information about the types of parameters that a function can accept and the type of data it returns. \n",
    "The signature() function from the inspect module is used to determine the function signature, helping developers to ensure they are \n",
    "passing the correct types of arguments to their functions. \n",
    "This function can be particularly useful in large programs where a small mistake can lead to significant issues."
   ]
  },
  {
   "cell_type": "code",
   "execution_count": 8,
   "metadata": {},
   "outputs": [
    {
     "name": "stdout",
     "output_type": "stream",
     "text": [
      "Product of two elements is: 180\n"
     ]
    }
   ],
   "source": [
    "#6.Create a Python function that takes two arguments and returns their product.\n",
    "\n",
    "#Function for caluculating product\n",
    "def prod(x,y):\n",
    "    return x * y\n",
    "\n",
    "#Driver code\n",
    "z = prod(4,45)\n",
    "print(\"Product of two elements is:\",z)"
   ]
  },
  {
   "cell_type": "code",
   "execution_count": null,
   "metadata": {},
   "outputs": [],
   "source": [
    "#Function Parameters and Arguments:"
   ]
  },
  {
   "cell_type": "code",
   "execution_count": null,
   "metadata": {},
   "outputs": [],
   "source": [
    "#1.\tExplain the concepts of formal parameters and actual arguments in Python functions.\n",
    "\n",
    "Actual parameters are the values or expressions provided to a function or method when it is called.\n",
    "Formal parameters are placeholders defined in the function signature or declaration. They represent the data that the function expects \n",
    "to receive when called. "
   ]
  },
  {
   "cell_type": "code",
   "execution_count": 9,
   "metadata": {},
   "outputs": [
    {
     "name": "stdout",
     "output_type": "stream",
     "text": [
      "Sum: 15\n"
     ]
    }
   ],
   "source": [
    "#2.Write a Python program that defines a function with default argument values.\n",
    "\n",
    "#function with default argument values\n",
    "def add_numbers( a = 7,  b = 8):\n",
    "    sum = a + b\n",
    "    print('Sum:', sum)\n",
    "\n",
    "#Calling the function\n",
    "add_numbers()"
   ]
  },
  {
   "cell_type": "code",
   "execution_count": null,
   "metadata": {},
   "outputs": [],
   "source": [
    "#3.\tHow do you use keyword arguments in Python function calls? Provide an example.\n",
    "\n",
    " keyword-only argument means passing the argument by using the parameter names during the function call.\n",
    "You can also send arguments with the key = value syntax.\n",
    "This way the order of the arguments does not matter."
   ]
  },
  {
   "cell_type": "code",
   "execution_count": 1,
   "metadata": {},
   "outputs": [
    {
     "name": "stdout",
     "output_type": "stream",
     "text": [
      "Hello John, Good Morning!\n"
     ]
    }
   ],
   "source": [
    "#Example:\n",
    "def greet(name, message):\n",
    "    print(f\"Hello {name}, {message}\")\n",
    "\n",
    "greet(name=\"John\", message=\"Good Morning!\")"
   ]
  },
  {
   "cell_type": "code",
   "execution_count": 7,
   "metadata": {},
   "outputs": [
    {
     "name": "stdout",
     "output_type": "stream",
     "text": [
      "27\n"
     ]
    }
   ],
   "source": [
    "#4.\tCreate a Python function that accepts a variable number of arguments and calculates their sum.\n",
    "\n",
    "#function with variable number of arguments\n",
    "def add(*args):\n",
    "    return sum(args)\n",
    "\n",
    "#calling function \n",
    "print(add(1,2,3,4,5,6,6))\n",
    "\n"
   ]
  },
  {
   "cell_type": "code",
   "execution_count": null,
   "metadata": {},
   "outputs": [],
   "source": [
    "#5.\tWhat is the purpose of the `*args` and `**kwargs` syntax in function parameter lists?\n",
    "\n",
    "Python has *args which allow us to pass the variable number of non keyword arguments to function.\n",
    "In the function, we should use an asterisk * before the parameter name to pass variable length arguments.\n",
    "The arguments are passed as a tuple and these passed arguments make tuple inside the function with same name as the parameter excluding asterisk *\n",
    "\n",
    "syntax: def func(*args):\n",
    "            return value\n",
    "\n",
    "\n",
    "**kwargs: it allows us to pass the variable length of keyword arguments to the function.\n",
    "\n",
    "In the function, we use the double asterisk ** before the parameter name to denote this type of argument. \n",
    "The arguments are passed as a dictionary \n",
    "and these arguments make a dictionary inside function with name same as the parameter excluding double asterisk **.\n",
    "\n",
    "syntax : def func(**kwargs):\n",
    "            for loop:\n",
    "                print(\"data\")"
   ]
  },
  {
   "cell_type": "code",
   "execution_count": null,
   "metadata": {},
   "outputs": [],
   "source": [
    "#Return Values and Scoping:"
   ]
  },
  {
   "cell_type": "code",
   "execution_count": null,
   "metadata": {},
   "outputs": [],
   "source": [
    "#1.\tDescribe the role of the `return` statement in Python functions and provide examples. \n",
    "\n",
    "A return statement is used to end the execution of the function call and “returns” the result (value of the expression following the return keyword) to the caller. \n",
    "The statements after the return statements are not executed.If the return statement is without any expression, then the special value None is returned.\n",
    "A return statement is overall used to invoke a function so that the passed statements can be executed.\n",
    "Example:\n"
   ]
  },
  {
   "cell_type": "code",
   "execution_count": 10,
   "metadata": {},
   "outputs": [
    {
     "name": "stdout",
     "output_type": "stream",
     "text": [
      "Cube root of given number is : 216\n"
     ]
    }
   ],
   "source": [
    "def cube(x):\n",
    "   r=x**3\n",
    "   return r\n",
    "\n",
    "print(\"Cube root of given number is :\",cube(6))"
   ]
  },
  {
   "cell_type": "code",
   "execution_count": null,
   "metadata": {},
   "outputs": [],
   "source": [
    "#2.\tExplain the concept of variable scope in Python, including local and global variables.\n",
    "\n",
    "Local Variable: Local variables in Python are those which are initialized inside a function and belong only to that particular function.\n",
    "                It cannot be accessed anywhere outside the function. \n",
    "\n",
    "example :\n",
    "\n",
    "\n",
    "def f():\n",
    " \n",
    "    # local variable\n",
    "    s = \"it is local variable\"\n",
    "    print(s)\n",
    " \n",
    " \n",
    "# Driver code\n",
    "f()\n",
    "\n",
    "output: \"it is local variable\"\n",
    "\n",
    "Global Variable: These variables are defined outside any function and which are accessible throughout the program, i.e., inside and outside of every function.\n",
    "\n",
    "example:\n",
    "\n",
    "\n",
    "# This function uses global variable s\n",
    "def f():\n",
    "    print(\"Inside Function\", s)\n",
    " \n",
    "# Global scope\n",
    "s = \"let's complete the task\"\n",
    "f()\n",
    "print(\"Outside Function\", s)\n",
    "\n",
    "output:let's complete the task\n",
    "       let's complete the task \n",
    "\n"
   ]
  },
  {
   "cell_type": "code",
   "execution_count": 13,
   "metadata": {},
   "outputs": [
    {
     "name": "stdout",
     "output_type": "stream",
     "text": [
      "3\n"
     ]
    }
   ],
   "source": [
    "#3.\tWrite a Python program that demonstrates the use of global variables within functions.\n",
    "\n",
    "# global variable\n",
    "c = 1 \n",
    "\n",
    "def add():\n",
    "    # defining as global varaible ans storing the value\n",
    "    #if it is not initializwd as global then ut throws error\n",
    "    global c\n",
    "    # increment c by 2\n",
    "    c = c + 2 \n",
    "\n",
    "    print(c)\n",
    "\n",
    "add()\n",
    "\n"
   ]
  },
  {
   "cell_type": "code",
   "execution_count": 14,
   "metadata": {},
   "outputs": [
    {
     "data": {
      "text/plain": [
       "5040"
      ]
     },
     "execution_count": 14,
     "metadata": {},
     "output_type": "execute_result"
    }
   ],
   "source": [
    "#4.\tCreate a Python function that calculates the factorial of a number and returns it.\n",
    "\n",
    "#Function for factorial caluculation\n",
    "def fact(n):\n",
    "    if n == 0:\n",
    "        return 1\n",
    "    elif n ==1:\n",
    "        return 1\n",
    "    else:\n",
    "        return n *fact(n-1)\n",
    "    \n",
    "#Driver code\n",
    "fact(7)"
   ]
  },
  {
   "cell_type": "code",
   "execution_count": 17,
   "metadata": {},
   "outputs": [
    {
     "name": "stdout",
     "output_type": "stream",
     "text": [
      "python is Awesome\n"
     ]
    }
   ],
   "source": [
    "#5.\tHow can you access variables defined outside a function from within the function?\n",
    "\n",
    "#Function to access variables\n",
    "def add_words():\n",
    "    print(\"python is \" + x)\n",
    "\n",
    "x = 'Awesome'\n",
    "\n",
    "#Driver code\n",
    "add_words()"
   ]
  },
  {
   "cell_type": "code",
   "execution_count": 18,
   "metadata": {},
   "outputs": [],
   "source": [
    "#Lambda Functions and Higher-Order Functions:\n"
   ]
  },
  {
   "cell_type": "code",
   "execution_count": null,
   "metadata": {},
   "outputs": [],
   "source": [
    "#1.\tWhat are lambda functions in Python, and when are they typically used?\n",
    "\n",
    "Lambda Function, also referred to as ‘Anonymous function’ is same as a regular python function but can be defined without a name. \n",
    "While normal functions are defined using the def keyword, anonymous functions are defined using the lambda keyword.\n",
    "However,they are restricted to single line of expression. They can take in mutliple parameters as in regular functions.\n",
    "\n",
    "syntax :  lambda arguments :expression\n",
    "\n",
    "Lambda used when: \n",
    "\n",
    "1. Lambda functions reduce the number of lines of code when compared to normal python function defined using def keyword.\n",
    "2. They are generally used when a function is needed temporarily for a short period of time, often to be used inside another function such as filter, map and reduce.\n",
    "3. Using lambda function, you can define a function and call it immediately at the end of definition. This can’t be done with def functions."
   ]
  },
  {
   "cell_type": "code",
   "execution_count": 21,
   "metadata": {},
   "outputs": [
    {
     "name": "stdout",
     "output_type": "stream",
     "text": [
      "Original list is: [('English', 77), ('Maths', 100), ('Science', 89), ('Social', 88), ('Hindi', 66)]\n",
      "List after sorting is : [('Hindi', 66), ('English', 77), ('Social', 88), ('Science', 89), ('Maths', 100)]\n"
     ]
    }
   ],
   "source": [
    "#2.\tWrite a Python program that uses lambda functions to sort a list of tuples based on the second element.\n",
    "\n",
    "#Creating a list of tuples\n",
    "subject_marks = [('English',77),('Maths',100),('Science',89),('Social',88),('Hindi',66)]\n",
    "\n",
    "#Displaying the original list of tuples\n",
    "print(\"Original list is:\",subject_marks)\n",
    "\n",
    "#Sorting values based on second element\n",
    "subject_marks.sort(key = lambda x : x[1])\n",
    "\n",
    "#Printing the values  after sorting\n",
    "print(\"List after sorting is :\",subject_marks)\n",
    "\n"
   ]
  },
  {
   "cell_type": "code",
   "execution_count": null,
   "metadata": {},
   "outputs": [],
   "source": [
    "#3.\tExplain the concept of higher-order functions in Python, and provide an example.\n",
    "\n",
    "A function is called Higher Order Function if it contains other functions as a parameter or returns a function as an output i.e,\n",
    "the functions that operate with another function are known as Higher order Functions.\n",
    "\n",
    "Properties of higher-order functions:\n",
    "\n",
    "1.A function is an instance of the Object type.\n",
    "2.You can store the function in a variable.\n",
    "3.You can pass the function as a parameter to another function.\n",
    "4.You can return the function from a function.\n",
    "5.You can store them in data structures such as hash tables, lists, …\n",
    "\n"
   ]
  },
  {
   "cell_type": "code",
   "execution_count": 22,
   "metadata": {},
   "outputs": [
    {
     "name": "stdout",
     "output_type": "stream",
     "text": [
      "HELLO\n",
      "HELLO\n"
     ]
    }
   ],
   "source": [
    "#Example:\n",
    "# Python program to illustrate functions  \n",
    "# can be treated as objects  \n",
    "def shout(text):  \n",
    "    return text.upper()  \n",
    "    \n",
    "print(shout('Hello'))  \n",
    "    \n",
    "# Assigning function to a variable \n",
    "yell = shout  \n",
    "    \n",
    "print(yell('Hello')) "
   ]
  },
  {
   "cell_type": "code",
   "execution_count": 24,
   "metadata": {},
   "outputs": [
    {
     "name": "stdout",
     "output_type": "stream",
     "text": [
      "[4, 9, 25, 64, 144]\n"
     ]
    }
   ],
   "source": [
    "#4.\tCreate a Python function that takes a list of numbers and a function as arguments, applying the function to each element in the list.\n",
    "\n",
    "#defining list and empty list\n",
    "list1 = [2,3,5,8,12]\n",
    "square_num = []\n",
    "\n",
    "#Defining function \n",
    "def square(x):\n",
    "    return x **2\n",
    "\n",
    "#using list comprehension and appending to list\n",
    "square_num = [square(i) for i in list1]\n",
    "print(square_num)"
   ]
  },
  {
   "cell_type": "code",
   "execution_count": 25,
   "metadata": {},
   "outputs": [],
   "source": [
    "#Built-in Functions:"
   ]
  },
  {
   "cell_type": "code",
   "execution_count": null,
   "metadata": {},
   "outputs": [],
   "source": [
    "#1.\tDescribe the role of built-in functions like `len()`, `max()`, and `min()` in Python.\n",
    "\n",
    "len() function:The len() function returns the number of items in an object.\n",
    "                When the object is a string, the len() function returns the number of characters in the string.\n",
    "\n",
    "max() function: The max() function returns the item with the highest value, or the item with the highest value in an iterable.\n",
    "                If the values are strings, an alphabetically comparison is done.\n",
    "\n",
    "min() function: The min() function returns the item with the lowest value, or the item with the lowest value in an iterable.\n",
    "                If the values are strings, an alphabetically comparison is done.\n",
    "\n",
    "\n",
    "\n"
   ]
  },
  {
   "cell_type": "code",
   "execution_count": 27,
   "metadata": {},
   "outputs": [
    {
     "name": "stdout",
     "output_type": "stream",
     "text": [
      "(9, 16, 25, 36, 49, 64)\n"
     ]
    }
   ],
   "source": [
    "#2.\tWrite a Python program that uses the `map()` function to apply a function to each element of a list.\n",
    "\n",
    "#Defining list\n",
    "list1 = [3,4,5,6,7,8]\n",
    "\n",
    "#applying square function on each element of list\n",
    "val = tuple(map(lambda x: x**2,list1))\n",
    "\n",
    "#Printing the output\n",
    "print(val)\n",
    "\n"
   ]
  },
  {
   "cell_type": "code",
   "execution_count": null,
   "metadata": {},
   "outputs": [],
   "source": [
    "#3.\tHow does the `filter()` function work in Python, and when would you use it?\n",
    "\n",
    "The filter() function in Python filters elements from an iterable (like a list) based on a function (or None for truthy values).\n",
    "It returns an iterator that yields those elements for which the function returns True.\n",
    "    \n",
    "Filter is used when we want to get data based on certain conditions"
   ]
  },
  {
   "cell_type": "code",
   "execution_count": 30,
   "metadata": {},
   "outputs": [
    {
     "name": "stdout",
     "output_type": "stream",
     "text": [
      "Product of all eleemnts in the list are: 5760\n"
     ]
    }
   ],
   "source": [
    "#4.\tCreate a Python program that uses the `reduce()` function to find the product of all elements in a list.\n",
    "\n",
    "from functools import reduce\n",
    "list = [12,2,1,5,6,8]\n",
    "\n",
    "val = reduce(lambda x,y : x*y,list)\n",
    "print(\"Product of all eleemnts in the list are:\",val)"
   ]
  },
  {
   "cell_type": "code",
   "execution_count": null,
   "metadata": {},
   "outputs": [],
   "source": [
    "#Function Documentation and Best Practices:"
   ]
  },
  {
   "cell_type": "code",
   "execution_count": null,
   "metadata": {},
   "outputs": [],
   "source": [
    "#1.\tExplain the purpose of docstrings in Python functions and how to write them.\n",
    "\n",
    "Python docstrings are strings used right after the definition of a function, method, class, or module . They are used to document our code.\n",
    "\n",
    "We can access these docstrings using the __doc__ attribute.\n",
    "\n"
   ]
  },
  {
   "cell_type": "code",
   "execution_count": 31,
   "metadata": {},
   "outputs": [
    {
     "name": "stdout",
     "output_type": "stream",
     "text": [
      "Takes in a number n, returns the square of n\n"
     ]
    }
   ],
   "source": [
    "#Example:\n",
    "def square(n):\n",
    "    '''Takes in a number n, returns the square of n'''\n",
    "    return n**2\n",
    "\n",
    "print(square.__doc__)"
   ]
  },
  {
   "cell_type": "code",
   "execution_count": null,
   "metadata": {},
   "outputs": [],
   "source": [
    "#2.\tDescribe some best practices for naming functions and variables in Python, including naming conventions and guidelines.\n",
    "\n",
    "Naming conventions in Python refer to a set of rules and guidelines for naming variables, functions, classes, and other entities in your code.\n",
    "    \n",
    "Python Naming Conventions\n",
    "Here, we discuss the Naming Conventions in Python which are follows.\n",
    "\n",
    "Modules\n",
    "Variables\n",
    "Classes\n",
    "Exceptions\n",
    "\n",
    "Modules:  Modules in Python are files containing Python definitions and statements. When naming a module, use lowercase letters and underscores, \n",
    "making it descriptive but concise. Let’s create a module named math_operations.py.\n",
    "\n",
    "Variables: Globals variable should be in uppercase with underscores separating words, while locals variable should follow the same convention as functions.\n",
    "\n",
    "Classes: Classes in Python names should follow the CapWords (or CamelCase) convention. This means that the first letter of each word in the class name should be capitalized, \n",
    "and there should be no underscores between words.This convention helps improve code readability and consistency in programming projects.\n",
    "\n",
    "Exceptions: Exception in Python names should end with “Error,” following the CapWords convention. it is advisable to choose meaningful names that reflect the nature of \n",
    "the exception, providing clarity to developers who may encounter the error.\n"
   ]
  },
  {
   "cell_type": "code",
   "execution_count": null,
   "metadata": {},
   "outputs": [],
   "source": []
  }
 ],
 "metadata": {
  "kernelspec": {
   "display_name": "base",
   "language": "python",
   "name": "python3"
  },
  "language_info": {
   "codemirror_mode": {
    "name": "ipython",
    "version": 3
   },
   "file_extension": ".py",
   "mimetype": "text/x-python",
   "name": "python",
   "nbconvert_exporter": "python",
   "pygments_lexer": "ipython3",
   "version": "3.11.3"
  },
  "orig_nbformat": 4
 },
 "nbformat": 4,
 "nbformat_minor": 2
}
